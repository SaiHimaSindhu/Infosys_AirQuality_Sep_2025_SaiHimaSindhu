{
 "cells": [
  {
   "cell_type": "code",
   "execution_count": 2,
   "id": "a25f4679-a169-469c-823d-16ac6cd8410a",
   "metadata": {},
   "outputs": [
    {
     "data": {
      "text/html": [
       "    <style>\n",
       "        .bk-notebook-logo {\n",
       "            display: block;\n",
       "            width: 20px;\n",
       "            height: 20px;\n",
       "            background-image: url(data:image/png;base64,iVBORw0KGgoAAAANSUhEUgAAABQAAAAUCAYAAACNiR0NAAAABHNCSVQICAgIfAhkiAAAAAlwSFlzAAALEgAACxIB0t1+/AAAABx0RVh0U29mdHdhcmUAQWRvYmUgRmlyZXdvcmtzIENTNui8sowAAAOkSURBVDiNjZRtaJVlGMd/1/08zzln5zjP1LWcU9N0NkN8m2CYjpgQYQXqSs0I84OLIC0hkEKoPtiH3gmKoiJDU7QpLgoLjLIQCpEsNJ1vqUOdO7ppbuec5+V+rj4ctwzd8IIbbi6u+8f1539dt3A78eXC7QizUF7gyV1fD1Yqg4JWz84yffhm0qkFqBogB9rM8tZdtwVsPUhWhGcFJngGeWrPzHm5oaMmkfEg1usvLFyc8jLRqDOMru7AyC8saQr7GG7f5fvDeH7Ej8CM66nIF+8yngt6HWaKh7k49Soy9nXurCi1o3qUbS3zWfrYeQDTB/Qj6kX6Ybhw4B+bOYoLKCC9H3Nu/leUTZ1JdRWkkn2ldcCamzrcf47KKXdAJllSlxAOkRgyHsGC/zRday5Qld9DyoM4/q/rUoy/CXh3jzOu3bHUVZeU+DEn8FInkPBFlu3+nW3Nw0mk6vCDiWg8CeJaxEwuHS3+z5RgY+YBR6V1Z1nxSOfoaPa4LASWxxdNp+VWTk7+4vzaou8v8PN+xo+KY2xsw6une2frhw05CTYOmQvsEhjhWjn0bmXPjpE1+kplmmkP3suftwTubK9Vq22qKmrBhpY4jvd5afdRA3wGjFAgcnTK2s4hY0/GPNIb0nErGMCRxWOOX64Z8RAC4oCXdklmEvcL8o0BfkNK4lUg9HTl+oPlQxdNo3Mg4Nv175e/1LDGzZen30MEjRUtmXSfiTVu1kK8W4txyV6BMKlbgk3lMwYCiusNy9fVfvvwMxv8Ynl6vxoByANLTWplvuj/nF9m2+PDtt1eiHPBr1oIfhCChQMBw6Aw0UulqTKZdfVvfG7VcfIqLG9bcldL/+pdWTLxLUy8Qq38heUIjh4XlzZxzQm19lLFlr8vdQ97rjZVOLf8nclzckbcD4wxXMidpX30sFd37Fv/GtwwhzhxGVAprjbg0gCAEeIgwCZyTV2Z1REEW8O4py0wsjeloKoMr6iCY6dP92H6Vw/oTyICIthibxjm/DfN9lVz8IqtqKYLUXfoKVMVQVVJOElGjrnnUt9T9wbgp8AyYKaGlqingHZU/uG2NTZSVqwHQTWkx9hxjkpWDaCg6Ckj5qebgBVbT3V3NNXMSiWSDdGV3hrtzla7J+duwPOToIg42ChPQOQjspnSlp1V+Gjdged7+8UN5CRAV7a5EdFNwCjEaBR27b3W890TE7g24NAP/mMDXRWrGoFPQI9ls/MWO2dWFAar/xcOIImbbpA3zgAAAABJRU5ErkJggg==);\n",
       "        }\n",
       "    </style>\n",
       "    <div>\n",
       "        <a href=\"https://bokeh.org\" target=\"_blank\" class=\"bk-notebook-logo\"></a>\n",
       "        <span id=\"ca0018d1-2cc7-4721-ba94-156f4401aa5f\">Loading BokehJS ...</span>\n",
       "    </div>\n"
      ]
     },
     "metadata": {},
     "output_type": "display_data"
    },
    {
     "data": {
      "application/javascript": [
       "'use strict';\n",
       "(function(root) {\n",
       "  function now() {\n",
       "    return new Date();\n",
       "  }\n",
       "\n",
       "  const force = true;\n",
       "\n",
       "  if (typeof root._bokeh_onload_callbacks === \"undefined\" || force === true) {\n",
       "    root._bokeh_onload_callbacks = [];\n",
       "    root._bokeh_is_loading = undefined;\n",
       "  }\n",
       "\n",
       "const JS_MIME_TYPE = 'application/javascript';\n",
       "  const HTML_MIME_TYPE = 'text/html';\n",
       "  const EXEC_MIME_TYPE = 'application/vnd.bokehjs_exec.v0+json';\n",
       "  const CLASS_NAME = 'output_bokeh rendered_html';\n",
       "\n",
       "  /**\n",
       "   * Render data to the DOM node\n",
       "   */\n",
       "  function render(props, node) {\n",
       "    const script = document.createElement(\"script\");\n",
       "    node.appendChild(script);\n",
       "  }\n",
       "\n",
       "  /**\n",
       "   * Handle when an output is cleared or removed\n",
       "   */\n",
       "  function handleClearOutput(event, handle) {\n",
       "    function drop(id) {\n",
       "      const view = Bokeh.index.get_by_id(id)\n",
       "      if (view != null) {\n",
       "        view.model.document.clear()\n",
       "        Bokeh.index.delete(view)\n",
       "      }\n",
       "    }\n",
       "\n",
       "    const cell = handle.cell;\n",
       "\n",
       "    const id = cell.output_area._bokeh_element_id;\n",
       "    const server_id = cell.output_area._bokeh_server_id;\n",
       "\n",
       "    // Clean up Bokeh references\n",
       "    if (id != null) {\n",
       "      drop(id)\n",
       "    }\n",
       "\n",
       "    if (server_id !== undefined) {\n",
       "      // Clean up Bokeh references\n",
       "      const cmd_clean = \"from bokeh.io.state import curstate; print(curstate().uuid_to_server['\" + server_id + \"'].get_sessions()[0].document.roots[0]._id)\";\n",
       "      cell.notebook.kernel.execute(cmd_clean, {\n",
       "        iopub: {\n",
       "          output: function(msg) {\n",
       "            const id = msg.content.text.trim()\n",
       "            drop(id)\n",
       "          }\n",
       "        }\n",
       "      });\n",
       "      // Destroy server and session\n",
       "      const cmd_destroy = \"import bokeh.io.notebook as ion; ion.destroy_server('\" + server_id + \"')\";\n",
       "      cell.notebook.kernel.execute(cmd_destroy);\n",
       "    }\n",
       "  }\n",
       "\n",
       "  /**\n",
       "   * Handle when a new output is added\n",
       "   */\n",
       "  function handleAddOutput(event, handle) {\n",
       "    const output_area = handle.output_area;\n",
       "    const output = handle.output;\n",
       "\n",
       "    // limit handleAddOutput to display_data with EXEC_MIME_TYPE content only\n",
       "    if ((output.output_type != \"display_data\") || (!Object.prototype.hasOwnProperty.call(output.data, EXEC_MIME_TYPE))) {\n",
       "      return\n",
       "    }\n",
       "\n",
       "    const toinsert = output_area.element.find(\".\" + CLASS_NAME.split(' ')[0]);\n",
       "\n",
       "    if (output.metadata[EXEC_MIME_TYPE][\"id\"] !== undefined) {\n",
       "      toinsert[toinsert.length - 1].firstChild.textContent = output.data[JS_MIME_TYPE];\n",
       "      // store reference to embed id on output_area\n",
       "      output_area._bokeh_element_id = output.metadata[EXEC_MIME_TYPE][\"id\"];\n",
       "    }\n",
       "    if (output.metadata[EXEC_MIME_TYPE][\"server_id\"] !== undefined) {\n",
       "      const bk_div = document.createElement(\"div\");\n",
       "      bk_div.innerHTML = output.data[HTML_MIME_TYPE];\n",
       "      const script_attrs = bk_div.children[0].attributes;\n",
       "      for (let i = 0; i < script_attrs.length; i++) {\n",
       "        toinsert[toinsert.length - 1].firstChild.setAttribute(script_attrs[i].name, script_attrs[i].value);\n",
       "        toinsert[toinsert.length - 1].firstChild.textContent = bk_div.children[0].textContent\n",
       "      }\n",
       "      // store reference to server id on output_area\n",
       "      output_area._bokeh_server_id = output.metadata[EXEC_MIME_TYPE][\"server_id\"];\n",
       "    }\n",
       "  }\n",
       "\n",
       "  function register_renderer(events, OutputArea) {\n",
       "\n",
       "    function append_mime(data, metadata, element) {\n",
       "      // create a DOM node to render to\n",
       "      const toinsert = this.create_output_subarea(\n",
       "        metadata,\n",
       "        CLASS_NAME,\n",
       "        EXEC_MIME_TYPE\n",
       "      );\n",
       "      this.keyboard_manager.register_events(toinsert);\n",
       "      // Render to node\n",
       "      const props = {data: data, metadata: metadata[EXEC_MIME_TYPE]};\n",
       "      render(props, toinsert[toinsert.length - 1]);\n",
       "      element.append(toinsert);\n",
       "      return toinsert\n",
       "    }\n",
       "\n",
       "    /* Handle when an output is cleared or removed */\n",
       "    events.on('clear_output.CodeCell', handleClearOutput);\n",
       "    events.on('delete.Cell', handleClearOutput);\n",
       "\n",
       "    /* Handle when a new output is added */\n",
       "    events.on('output_added.OutputArea', handleAddOutput);\n",
       "\n",
       "    /**\n",
       "     * Register the mime type and append_mime function with output_area\n",
       "     */\n",
       "    OutputArea.prototype.register_mime_type(EXEC_MIME_TYPE, append_mime, {\n",
       "      /* Is output safe? */\n",
       "      safe: true,\n",
       "      /* Index of renderer in `output_area.display_order` */\n",
       "      index: 0\n",
       "    });\n",
       "  }\n",
       "\n",
       "  // register the mime type if in Jupyter Notebook environment and previously unregistered\n",
       "  if (root.Jupyter !== undefined) {\n",
       "    const events = require('base/js/events');\n",
       "    const OutputArea = require('notebook/js/outputarea').OutputArea;\n",
       "\n",
       "    if (OutputArea.prototype.mime_types().indexOf(EXEC_MIME_TYPE) == -1) {\n",
       "      register_renderer(events, OutputArea);\n",
       "    }\n",
       "  }\n",
       "  if (typeof (root._bokeh_timeout) === \"undefined\" || force === true) {\n",
       "    root._bokeh_timeout = Date.now() + 5000;\n",
       "    root._bokeh_failed_load = false;\n",
       "  }\n",
       "\n",
       "  const NB_LOAD_WARNING = {'data': {'text/html':\n",
       "     \"<div style='background-color: #fdd'>\\n\"+\n",
       "     \"<p>\\n\"+\n",
       "     \"BokehJS does not appear to have successfully loaded. If loading BokehJS from CDN, this \\n\"+\n",
       "     \"may be due to a slow or bad network connection. Possible fixes:\\n\"+\n",
       "     \"</p>\\n\"+\n",
       "     \"<ul>\\n\"+\n",
       "     \"<li>re-rerun `output_notebook()` to attempt to load from CDN again, or</li>\\n\"+\n",
       "     \"<li>use INLINE resources instead, as so:</li>\\n\"+\n",
       "     \"</ul>\\n\"+\n",
       "     \"<code>\\n\"+\n",
       "     \"from bokeh.resources import INLINE\\n\"+\n",
       "     \"output_notebook(resources=INLINE)\\n\"+\n",
       "     \"</code>\\n\"+\n",
       "     \"</div>\"}};\n",
       "\n",
       "  function display_loaded(error = null) {\n",
       "    const el = document.getElementById(\"ca0018d1-2cc7-4721-ba94-156f4401aa5f\");\n",
       "    if (el != null) {\n",
       "      const html = (() => {\n",
       "        if (typeof root.Bokeh === \"undefined\") {\n",
       "          if (error == null) {\n",
       "            return \"BokehJS is loading ...\";\n",
       "          } else {\n",
       "            return \"BokehJS failed to load.\";\n",
       "          }\n",
       "        } else {\n",
       "          const prefix = `BokehJS ${root.Bokeh.version}`;\n",
       "          if (error == null) {\n",
       "            return `${prefix} successfully loaded.`;\n",
       "          } else {\n",
       "            return `${prefix} <b>encountered errors</b> while loading and may not function as expected.`;\n",
       "          }\n",
       "        }\n",
       "      })();\n",
       "      el.innerHTML = html;\n",
       "\n",
       "      if (error != null) {\n",
       "        const wrapper = document.createElement(\"div\");\n",
       "        wrapper.style.overflow = \"auto\";\n",
       "        wrapper.style.height = \"5em\";\n",
       "        wrapper.style.resize = \"vertical\";\n",
       "        const content = document.createElement(\"div\");\n",
       "        content.style.fontFamily = \"monospace\";\n",
       "        content.style.whiteSpace = \"pre-wrap\";\n",
       "        content.style.backgroundColor = \"rgb(255, 221, 221)\";\n",
       "        content.textContent = error.stack ?? error.toString();\n",
       "        wrapper.append(content);\n",
       "        el.append(wrapper);\n",
       "      }\n",
       "    } else if (Date.now() < root._bokeh_timeout) {\n",
       "      setTimeout(() => display_loaded(error), 100);\n",
       "    }\n",
       "  }\n",
       "\n",
       "  function run_callbacks() {\n",
       "    try {\n",
       "      root._bokeh_onload_callbacks.forEach(function(callback) {\n",
       "        if (callback != null)\n",
       "          callback();\n",
       "      });\n",
       "    } finally {\n",
       "      delete root._bokeh_onload_callbacks\n",
       "    }\n",
       "    console.debug(\"Bokeh: all callbacks have finished\");\n",
       "  }\n",
       "\n",
       "  function load_libs(css_urls, js_urls, callback) {\n",
       "    if (css_urls == null) css_urls = [];\n",
       "    if (js_urls == null) js_urls = [];\n",
       "\n",
       "    root._bokeh_onload_callbacks.push(callback);\n",
       "    if (root._bokeh_is_loading > 0) {\n",
       "      console.debug(\"Bokeh: BokehJS is being loaded, scheduling callback at\", now());\n",
       "      return null;\n",
       "    }\n",
       "    if (js_urls == null || js_urls.length === 0) {\n",
       "      run_callbacks();\n",
       "      return null;\n",
       "    }\n",
       "    console.debug(\"Bokeh: BokehJS not loaded, scheduling load and callback at\", now());\n",
       "    root._bokeh_is_loading = css_urls.length + js_urls.length;\n",
       "\n",
       "    function on_load() {\n",
       "      root._bokeh_is_loading--;\n",
       "      if (root._bokeh_is_loading === 0) {\n",
       "        console.debug(\"Bokeh: all BokehJS libraries/stylesheets loaded\");\n",
       "        run_callbacks()\n",
       "      }\n",
       "    }\n",
       "\n",
       "    function on_error(url) {\n",
       "      console.error(\"failed to load \" + url);\n",
       "    }\n",
       "\n",
       "    for (let i = 0; i < css_urls.length; i++) {\n",
       "      const url = css_urls[i];\n",
       "      const element = document.createElement(\"link\");\n",
       "      element.onload = on_load;\n",
       "      element.onerror = on_error.bind(null, url);\n",
       "      element.rel = \"stylesheet\";\n",
       "      element.type = \"text/css\";\n",
       "      element.href = url;\n",
       "      console.debug(\"Bokeh: injecting link tag for BokehJS stylesheet: \", url);\n",
       "      document.body.appendChild(element);\n",
       "    }\n",
       "\n",
       "    for (let i = 0; i < js_urls.length; i++) {\n",
       "      const url = js_urls[i];\n",
       "      const element = document.createElement('script');\n",
       "      element.onload = on_load;\n",
       "      element.onerror = on_error.bind(null, url);\n",
       "      element.async = false;\n",
       "      element.src = url;\n",
       "      console.debug(\"Bokeh: injecting script tag for BokehJS library: \", url);\n",
       "      document.head.appendChild(element);\n",
       "    }\n",
       "  };\n",
       "\n",
       "  function inject_raw_css(css) {\n",
       "    const element = document.createElement(\"style\");\n",
       "    element.appendChild(document.createTextNode(css));\n",
       "    document.body.appendChild(element);\n",
       "  }\n",
       "\n",
       "  const js_urls = [\"https://cdn.bokeh.org/bokeh/release/bokeh-3.8.0.min.js\", \"https://cdn.bokeh.org/bokeh/release/bokeh-gl-3.8.0.min.js\", \"https://cdn.bokeh.org/bokeh/release/bokeh-widgets-3.8.0.min.js\", \"https://cdn.bokeh.org/bokeh/release/bokeh-tables-3.8.0.min.js\", \"https://cdn.bokeh.org/bokeh/release/bokeh-mathjax-3.8.0.min.js\"];\n",
       "  const css_urls = [];\n",
       "\n",
       "  const inline_js = [    function(Bokeh) {\n",
       "      Bokeh.set_log_level(\"info\");\n",
       "    },\n",
       "function(Bokeh) {\n",
       "    }\n",
       "  ];\n",
       "\n",
       "  function run_inline_js() {\n",
       "    if (root.Bokeh !== undefined || force === true) {\n",
       "      try {\n",
       "            for (let i = 0; i < inline_js.length; i++) {\n",
       "      inline_js[i].call(root, root.Bokeh);\n",
       "    }\n",
       "\n",
       "      } catch (error) {display_loaded(error);throw error;\n",
       "      }if (force === true) {\n",
       "        display_loaded();\n",
       "      }} else if (Date.now() < root._bokeh_timeout) {\n",
       "      setTimeout(run_inline_js, 100);\n",
       "    } else if (!root._bokeh_failed_load) {\n",
       "      console.log(\"Bokeh: BokehJS failed to load within specified timeout.\");\n",
       "      root._bokeh_failed_load = true;\n",
       "    } else if (force !== true) {\n",
       "      const cell = $(document.getElementById(\"ca0018d1-2cc7-4721-ba94-156f4401aa5f\")).parents('.cell').data().cell;\n",
       "      cell.output_area.append_execute_result(NB_LOAD_WARNING)\n",
       "    }\n",
       "  }\n",
       "\n",
       "  if (root._bokeh_is_loading === 0) {\n",
       "    console.debug(\"Bokeh: BokehJS loaded, going straight to plotting\");\n",
       "    run_inline_js();\n",
       "  } else {\n",
       "    load_libs(css_urls, js_urls, function() {\n",
       "      console.debug(\"Bokeh: BokehJS plotting callback run at\", now());\n",
       "      run_inline_js();\n",
       "    });\n",
       "  }\n",
       "}(window));"
      ],
      "application/vnd.bokehjs_load.v0+json": "'use strict';\n(function(root) {\n  function now() {\n    return new Date();\n  }\n\n  const force = true;\n\n  if (typeof root._bokeh_onload_callbacks === \"undefined\" || force === true) {\n    root._bokeh_onload_callbacks = [];\n    root._bokeh_is_loading = undefined;\n  }\n\n\n  if (typeof (root._bokeh_timeout) === \"undefined\" || force === true) {\n    root._bokeh_timeout = Date.now() + 5000;\n    root._bokeh_failed_load = false;\n  }\n\n  const NB_LOAD_WARNING = {'data': {'text/html':\n     \"<div style='background-color: #fdd'>\\n\"+\n     \"<p>\\n\"+\n     \"BokehJS does not appear to have successfully loaded. If loading BokehJS from CDN, this \\n\"+\n     \"may be due to a slow or bad network connection. Possible fixes:\\n\"+\n     \"</p>\\n\"+\n     \"<ul>\\n\"+\n     \"<li>re-rerun `output_notebook()` to attempt to load from CDN again, or</li>\\n\"+\n     \"<li>use INLINE resources instead, as so:</li>\\n\"+\n     \"</ul>\\n\"+\n     \"<code>\\n\"+\n     \"from bokeh.resources import INLINE\\n\"+\n     \"output_notebook(resources=INLINE)\\n\"+\n     \"</code>\\n\"+\n     \"</div>\"}};\n\n  function display_loaded(error = null) {\n    const el = document.getElementById(\"ca0018d1-2cc7-4721-ba94-156f4401aa5f\");\n    if (el != null) {\n      const html = (() => {\n        if (typeof root.Bokeh === \"undefined\") {\n          if (error == null) {\n            return \"BokehJS is loading ...\";\n          } else {\n            return \"BokehJS failed to load.\";\n          }\n        } else {\n          const prefix = `BokehJS ${root.Bokeh.version}`;\n          if (error == null) {\n            return `${prefix} successfully loaded.`;\n          } else {\n            return `${prefix} <b>encountered errors</b> while loading and may not function as expected.`;\n          }\n        }\n      })();\n      el.innerHTML = html;\n\n      if (error != null) {\n        const wrapper = document.createElement(\"div\");\n        wrapper.style.overflow = \"auto\";\n        wrapper.style.height = \"5em\";\n        wrapper.style.resize = \"vertical\";\n        const content = document.createElement(\"div\");\n        content.style.fontFamily = \"monospace\";\n        content.style.whiteSpace = \"pre-wrap\";\n        content.style.backgroundColor = \"rgb(255, 221, 221)\";\n        content.textContent = error.stack ?? error.toString();\n        wrapper.append(content);\n        el.append(wrapper);\n      }\n    } else if (Date.now() < root._bokeh_timeout) {\n      setTimeout(() => display_loaded(error), 100);\n    }\n  }\n\n  function run_callbacks() {\n    try {\n      root._bokeh_onload_callbacks.forEach(function(callback) {\n        if (callback != null)\n          callback();\n      });\n    } finally {\n      delete root._bokeh_onload_callbacks\n    }\n    console.debug(\"Bokeh: all callbacks have finished\");\n  }\n\n  function load_libs(css_urls, js_urls, callback) {\n    if (css_urls == null) css_urls = [];\n    if (js_urls == null) js_urls = [];\n\n    root._bokeh_onload_callbacks.push(callback);\n    if (root._bokeh_is_loading > 0) {\n      console.debug(\"Bokeh: BokehJS is being loaded, scheduling callback at\", now());\n      return null;\n    }\n    if (js_urls == null || js_urls.length === 0) {\n      run_callbacks();\n      return null;\n    }\n    console.debug(\"Bokeh: BokehJS not loaded, scheduling load and callback at\", now());\n    root._bokeh_is_loading = css_urls.length + js_urls.length;\n\n    function on_load() {\n      root._bokeh_is_loading--;\n      if (root._bokeh_is_loading === 0) {\n        console.debug(\"Bokeh: all BokehJS libraries/stylesheets loaded\");\n        run_callbacks()\n      }\n    }\n\n    function on_error(url) {\n      console.error(\"failed to load \" + url);\n    }\n\n    for (let i = 0; i < css_urls.length; i++) {\n      const url = css_urls[i];\n      const element = document.createElement(\"link\");\n      element.onload = on_load;\n      element.onerror = on_error.bind(null, url);\n      element.rel = \"stylesheet\";\n      element.type = \"text/css\";\n      element.href = url;\n      console.debug(\"Bokeh: injecting link tag for BokehJS stylesheet: \", url);\n      document.body.appendChild(element);\n    }\n\n    for (let i = 0; i < js_urls.length; i++) {\n      const url = js_urls[i];\n      const element = document.createElement('script');\n      element.onload = on_load;\n      element.onerror = on_error.bind(null, url);\n      element.async = false;\n      element.src = url;\n      console.debug(\"Bokeh: injecting script tag for BokehJS library: \", url);\n      document.head.appendChild(element);\n    }\n  };\n\n  function inject_raw_css(css) {\n    const element = document.createElement(\"style\");\n    element.appendChild(document.createTextNode(css));\n    document.body.appendChild(element);\n  }\n\n  const js_urls = [\"https://cdn.bokeh.org/bokeh/release/bokeh-3.8.0.min.js\", \"https://cdn.bokeh.org/bokeh/release/bokeh-gl-3.8.0.min.js\", \"https://cdn.bokeh.org/bokeh/release/bokeh-widgets-3.8.0.min.js\", \"https://cdn.bokeh.org/bokeh/release/bokeh-tables-3.8.0.min.js\", \"https://cdn.bokeh.org/bokeh/release/bokeh-mathjax-3.8.0.min.js\"];\n  const css_urls = [];\n\n  const inline_js = [    function(Bokeh) {\n      Bokeh.set_log_level(\"info\");\n    },\nfunction(Bokeh) {\n    }\n  ];\n\n  function run_inline_js() {\n    if (root.Bokeh !== undefined || force === true) {\n      try {\n            for (let i = 0; i < inline_js.length; i++) {\n      inline_js[i].call(root, root.Bokeh);\n    }\n\n      } catch (error) {display_loaded(error);throw error;\n      }if (force === true) {\n        display_loaded();\n      }} else if (Date.now() < root._bokeh_timeout) {\n      setTimeout(run_inline_js, 100);\n    } else if (!root._bokeh_failed_load) {\n      console.log(\"Bokeh: BokehJS failed to load within specified timeout.\");\n      root._bokeh_failed_load = true;\n    } else if (force !== true) {\n      const cell = $(document.getElementById(\"ca0018d1-2cc7-4721-ba94-156f4401aa5f\")).parents('.cell').data().cell;\n      cell.output_area.append_execute_result(NB_LOAD_WARNING)\n    }\n  }\n\n  if (root._bokeh_is_loading === 0) {\n    console.debug(\"Bokeh: BokehJS loaded, going straight to plotting\");\n    run_inline_js();\n  } else {\n    load_libs(css_urls, js_urls, function() {\n      console.debug(\"Bokeh: BokehJS plotting callback run at\", now());\n      run_inline_js();\n    });\n  }\n}(window));"
     },
     "metadata": {},
     "output_type": "display_data"
    }
   ],
   "source": [
    "from bokeh.plotting import figure, show, output_notebook\n",
    "from bokeh.models import HoverTool, ColumnDataSource\n",
    "from bokeh.layouts import column\n",
    "import pandas as pd\n",
    "output_notebook()\n",
    "# Load your dataset\n",
    "df = pd.read_csv(\"air_quality.csv\", parse_dates=['Date'])\n",
    "pollutants = ['PM2.5','PM10','NO2','SO2','CO']\n",
    "\n",
    "source = ColumnDataSource(df)\n"
   ]
  },
  {
   "cell_type": "code",
   "execution_count": 3,
   "id": "93e0d59b-21cd-402a-aa59-c876d9b1c41e",
   "metadata": {},
   "outputs": [
    {
     "data": {
      "text/html": [
       "<div style=\"display: table;\"><div style=\"display: table-row;\"><div style=\"display: table-cell;\"><b title=\"bokeh.models.renderers.glyph_renderer.GlyphRenderer\">GlyphRenderer</b>(</div><div style=\"display: table-cell;\">id&nbsp;=&nbsp;'p1066', <span id=\"p1070\" style=\"cursor: pointer;\">&hellip;)</span></div></div><div class=\"p1069\" style=\"display: none;\"><div style=\"display: table-cell;\"></div><div style=\"display: table-cell;\">context_menu&nbsp;=&nbsp;None,</div></div><div class=\"p1069\" style=\"display: none;\"><div style=\"display: table-cell;\"></div><div style=\"display: table-cell;\">coordinates&nbsp;=&nbsp;None,</div></div><div class=\"p1069\" style=\"display: none;\"><div style=\"display: table-cell;\"></div><div style=\"display: table-cell;\">css_classes&nbsp;=&nbsp;[],</div></div><div class=\"p1069\" style=\"display: none;\"><div style=\"display: table-cell;\"></div><div style=\"display: table-cell;\">css_variables&nbsp;=&nbsp;{},</div></div><div class=\"p1069\" style=\"display: none;\"><div style=\"display: table-cell;\"></div><div style=\"display: table-cell;\">data_source&nbsp;=&nbsp;ColumnDataSource(id='p1008', ...),</div></div><div class=\"p1069\" style=\"display: none;\"><div style=\"display: table-cell;\"></div><div style=\"display: table-cell;\">glyph&nbsp;=&nbsp;Line(id='p1063', ...),</div></div><div class=\"p1069\" style=\"display: none;\"><div style=\"display: table-cell;\"></div><div style=\"display: table-cell;\">group&nbsp;=&nbsp;None,</div></div><div class=\"p1069\" style=\"display: none;\"><div style=\"display: table-cell;\"></div><div style=\"display: table-cell;\">hover_glyph&nbsp;=&nbsp;None,</div></div><div class=\"p1069\" style=\"display: none;\"><div style=\"display: table-cell;\"></div><div style=\"display: table-cell;\">html_attributes&nbsp;=&nbsp;{},</div></div><div class=\"p1069\" style=\"display: none;\"><div style=\"display: table-cell;\"></div><div style=\"display: table-cell;\">html_id&nbsp;=&nbsp;None,</div></div><div class=\"p1069\" style=\"display: none;\"><div style=\"display: table-cell;\"></div><div style=\"display: table-cell;\">js_event_callbacks&nbsp;=&nbsp;{},</div></div><div class=\"p1069\" style=\"display: none;\"><div style=\"display: table-cell;\"></div><div style=\"display: table-cell;\">js_property_callbacks&nbsp;=&nbsp;{},</div></div><div class=\"p1069\" style=\"display: none;\"><div style=\"display: table-cell;\"></div><div style=\"display: table-cell;\">level&nbsp;=&nbsp;'glyph',</div></div><div class=\"p1069\" style=\"display: none;\"><div style=\"display: table-cell;\"></div><div style=\"display: table-cell;\">muted&nbsp;=&nbsp;False,</div></div><div class=\"p1069\" style=\"display: none;\"><div style=\"display: table-cell;\"></div><div style=\"display: table-cell;\">muted_glyph&nbsp;=&nbsp;Line(id='p1065', ...),</div></div><div class=\"p1069\" style=\"display: none;\"><div style=\"display: table-cell;\"></div><div style=\"display: table-cell;\">name&nbsp;=&nbsp;None,</div></div><div class=\"p1069\" style=\"display: none;\"><div style=\"display: table-cell;\"></div><div style=\"display: table-cell;\">nonselection_glyph&nbsp;=&nbsp;Line(id='p1064', ...),</div></div><div class=\"p1069\" style=\"display: none;\"><div style=\"display: table-cell;\"></div><div style=\"display: table-cell;\">propagate_hover&nbsp;=&nbsp;False,</div></div><div class=\"p1069\" style=\"display: none;\"><div style=\"display: table-cell;\"></div><div style=\"display: table-cell;\">selection_glyph&nbsp;=&nbsp;'auto',</div></div><div class=\"p1069\" style=\"display: none;\"><div style=\"display: table-cell;\"></div><div style=\"display: table-cell;\">styles&nbsp;=&nbsp;{},</div></div><div class=\"p1069\" style=\"display: none;\"><div style=\"display: table-cell;\"></div><div style=\"display: table-cell;\">stylesheets&nbsp;=&nbsp;[],</div></div><div class=\"p1069\" style=\"display: none;\"><div style=\"display: table-cell;\"></div><div style=\"display: table-cell;\">subscribed_events&nbsp;=&nbsp;PropertyValueSet(),</div></div><div class=\"p1069\" style=\"display: none;\"><div style=\"display: table-cell;\"></div><div style=\"display: table-cell;\">syncable&nbsp;=&nbsp;True,</div></div><div class=\"p1069\" style=\"display: none;\"><div style=\"display: table-cell;\"></div><div style=\"display: table-cell;\">tags&nbsp;=&nbsp;[],</div></div><div class=\"p1069\" style=\"display: none;\"><div style=\"display: table-cell;\"></div><div style=\"display: table-cell;\">view&nbsp;=&nbsp;CDSView(id='p1067', ...),</div></div><div class=\"p1069\" style=\"display: none;\"><div style=\"display: table-cell;\"></div><div style=\"display: table-cell;\">visible&nbsp;=&nbsp;True,</div></div><div class=\"p1069\" style=\"display: none;\"><div style=\"display: table-cell;\"></div><div style=\"display: table-cell;\">x_range_name&nbsp;=&nbsp;'default',</div></div><div class=\"p1069\" style=\"display: none;\"><div style=\"display: table-cell;\"></div><div style=\"display: table-cell;\">y_range_name&nbsp;=&nbsp;'default')</div></div></div>\n",
       "<script>\n",
       "(function() {\n",
       "  let expanded = false;\n",
       "  const ellipsis = document.getElementById(\"p1070\");\n",
       "  ellipsis.addEventListener(\"click\", function() {\n",
       "    const rows = document.getElementsByClassName(\"p1069\");\n",
       "    for (let i = 0; i < rows.length; i++) {\n",
       "      const el = rows[i];\n",
       "      el.style.display = expanded ? \"none\" : \"table-row\";\n",
       "    }\n",
       "    ellipsis.innerHTML = expanded ? \"&hellip;)\" : \"&lsaquo;&lsaquo;&lsaquo;\";\n",
       "    expanded = !expanded;\n",
       "  });\n",
       "})();\n",
       "</script>\n"
      ],
      "text/plain": [
       "GlyphRenderer(id='p1066', ...)"
      ]
     },
     "execution_count": 3,
     "metadata": {},
     "output_type": "execute_result"
    }
   ],
   "source": [
    "# 1. Line Plot\n",
    "p1 = figure(x_axis_type='datetime', title='PM2.5 Over Time')\n",
    "p1.line('Date', 'PM2.5', source=source)\n"
   ]
  },
  {
   "cell_type": "code",
   "execution_count": 4,
   "id": "e160c038-4f43-425f-8dee-d95a0cd4b90d",
   "metadata": {},
   "outputs": [
    {
     "name": "stderr",
     "output_type": "stream",
     "text": [
      "BokehDeprecationWarning: 'circle() method with size value' was deprecated in Bokeh 3.4.0 and will be removed, use 'scatter(size=...) instead' instead.\n"
     ]
    },
    {
     "data": {
      "text/html": [
       "<div style=\"display: table;\"><div style=\"display: table-row;\"><div style=\"display: table-cell;\"><b title=\"bokeh.models.renderers.glyph_renderer.GlyphRenderer\">GlyphRenderer</b>(</div><div style=\"display: table-cell;\">id&nbsp;=&nbsp;'p1112', <span id=\"p1116\" style=\"cursor: pointer;\">&hellip;)</span></div></div><div class=\"p1115\" style=\"display: none;\"><div style=\"display: table-cell;\"></div><div style=\"display: table-cell;\">context_menu&nbsp;=&nbsp;None,</div></div><div class=\"p1115\" style=\"display: none;\"><div style=\"display: table-cell;\"></div><div style=\"display: table-cell;\">coordinates&nbsp;=&nbsp;None,</div></div><div class=\"p1115\" style=\"display: none;\"><div style=\"display: table-cell;\"></div><div style=\"display: table-cell;\">css_classes&nbsp;=&nbsp;[],</div></div><div class=\"p1115\" style=\"display: none;\"><div style=\"display: table-cell;\"></div><div style=\"display: table-cell;\">css_variables&nbsp;=&nbsp;{},</div></div><div class=\"p1115\" style=\"display: none;\"><div style=\"display: table-cell;\"></div><div style=\"display: table-cell;\">data_source&nbsp;=&nbsp;ColumnDataSource(id='p1008', ...),</div></div><div class=\"p1115\" style=\"display: none;\"><div style=\"display: table-cell;\"></div><div style=\"display: table-cell;\">glyph&nbsp;=&nbsp;Scatter(id='p1109', ...),</div></div><div class=\"p1115\" style=\"display: none;\"><div style=\"display: table-cell;\"></div><div style=\"display: table-cell;\">group&nbsp;=&nbsp;None,</div></div><div class=\"p1115\" style=\"display: none;\"><div style=\"display: table-cell;\"></div><div style=\"display: table-cell;\">hover_glyph&nbsp;=&nbsp;None,</div></div><div class=\"p1115\" style=\"display: none;\"><div style=\"display: table-cell;\"></div><div style=\"display: table-cell;\">html_attributes&nbsp;=&nbsp;{},</div></div><div class=\"p1115\" style=\"display: none;\"><div style=\"display: table-cell;\"></div><div style=\"display: table-cell;\">html_id&nbsp;=&nbsp;None,</div></div><div class=\"p1115\" style=\"display: none;\"><div style=\"display: table-cell;\"></div><div style=\"display: table-cell;\">js_event_callbacks&nbsp;=&nbsp;{},</div></div><div class=\"p1115\" style=\"display: none;\"><div style=\"display: table-cell;\"></div><div style=\"display: table-cell;\">js_property_callbacks&nbsp;=&nbsp;{},</div></div><div class=\"p1115\" style=\"display: none;\"><div style=\"display: table-cell;\"></div><div style=\"display: table-cell;\">level&nbsp;=&nbsp;'glyph',</div></div><div class=\"p1115\" style=\"display: none;\"><div style=\"display: table-cell;\"></div><div style=\"display: table-cell;\">muted&nbsp;=&nbsp;False,</div></div><div class=\"p1115\" style=\"display: none;\"><div style=\"display: table-cell;\"></div><div style=\"display: table-cell;\">muted_glyph&nbsp;=&nbsp;Scatter(id='p1111', ...),</div></div><div class=\"p1115\" style=\"display: none;\"><div style=\"display: table-cell;\"></div><div style=\"display: table-cell;\">name&nbsp;=&nbsp;None,</div></div><div class=\"p1115\" style=\"display: none;\"><div style=\"display: table-cell;\"></div><div style=\"display: table-cell;\">nonselection_glyph&nbsp;=&nbsp;Scatter(id='p1110', ...),</div></div><div class=\"p1115\" style=\"display: none;\"><div style=\"display: table-cell;\"></div><div style=\"display: table-cell;\">propagate_hover&nbsp;=&nbsp;False,</div></div><div class=\"p1115\" style=\"display: none;\"><div style=\"display: table-cell;\"></div><div style=\"display: table-cell;\">selection_glyph&nbsp;=&nbsp;'auto',</div></div><div class=\"p1115\" style=\"display: none;\"><div style=\"display: table-cell;\"></div><div style=\"display: table-cell;\">styles&nbsp;=&nbsp;{},</div></div><div class=\"p1115\" style=\"display: none;\"><div style=\"display: table-cell;\"></div><div style=\"display: table-cell;\">stylesheets&nbsp;=&nbsp;[],</div></div><div class=\"p1115\" style=\"display: none;\"><div style=\"display: table-cell;\"></div><div style=\"display: table-cell;\">subscribed_events&nbsp;=&nbsp;PropertyValueSet(),</div></div><div class=\"p1115\" style=\"display: none;\"><div style=\"display: table-cell;\"></div><div style=\"display: table-cell;\">syncable&nbsp;=&nbsp;True,</div></div><div class=\"p1115\" style=\"display: none;\"><div style=\"display: table-cell;\"></div><div style=\"display: table-cell;\">tags&nbsp;=&nbsp;[],</div></div><div class=\"p1115\" style=\"display: none;\"><div style=\"display: table-cell;\"></div><div style=\"display: table-cell;\">view&nbsp;=&nbsp;CDSView(id='p1113', ...),</div></div><div class=\"p1115\" style=\"display: none;\"><div style=\"display: table-cell;\"></div><div style=\"display: table-cell;\">visible&nbsp;=&nbsp;True,</div></div><div class=\"p1115\" style=\"display: none;\"><div style=\"display: table-cell;\"></div><div style=\"display: table-cell;\">x_range_name&nbsp;=&nbsp;'default',</div></div><div class=\"p1115\" style=\"display: none;\"><div style=\"display: table-cell;\"></div><div style=\"display: table-cell;\">y_range_name&nbsp;=&nbsp;'default')</div></div></div>\n",
       "<script>\n",
       "(function() {\n",
       "  let expanded = false;\n",
       "  const ellipsis = document.getElementById(\"p1116\");\n",
       "  ellipsis.addEventListener(\"click\", function() {\n",
       "    const rows = document.getElementsByClassName(\"p1115\");\n",
       "    for (let i = 0; i < rows.length; i++) {\n",
       "      const el = rows[i];\n",
       "      el.style.display = expanded ? \"none\" : \"table-row\";\n",
       "    }\n",
       "    ellipsis.innerHTML = expanded ? \"&hellip;)\" : \"&lsaquo;&lsaquo;&lsaquo;\";\n",
       "    expanded = !expanded;\n",
       "  });\n",
       "})();\n",
       "</script>\n"
      ],
      "text/plain": [
       "GlyphRenderer(id='p1112', ...)"
      ]
     },
     "execution_count": 4,
     "metadata": {},
     "output_type": "execute_result"
    }
   ],
   "source": [
    "# 2. Scatter Plot\n",
    "p2 = figure(title='PM2.5 vs PM10')\n",
    "p2.circle('PM2.5', 'PM10', size=5, source=source)"
   ]
  },
  {
   "cell_type": "code",
   "execution_count": 6,
   "id": "0c3eedf5-e3c6-4efe-9b02-8d67fb407862",
   "metadata": {},
   "outputs": [],
   "source": [
    "import numpy as np"
   ]
  },
  {
   "cell_type": "code",
   "execution_count": 7,
   "id": "132e617e-ad3a-4b1a-9065-76f48217ca79",
   "metadata": {},
   "outputs": [
    {
     "data": {
      "text/html": [
       "<div style=\"display: table;\"><div style=\"display: table-row;\"><div style=\"display: table-cell;\"><b title=\"bokeh.models.renderers.glyph_renderer.GlyphRenderer\">GlyphRenderer</b>(</div><div style=\"display: table-cell;\">id&nbsp;=&nbsp;'p1158', <span id=\"p1162\" style=\"cursor: pointer;\">&hellip;)</span></div></div><div class=\"p1161\" style=\"display: none;\"><div style=\"display: table-cell;\"></div><div style=\"display: table-cell;\">context_menu&nbsp;=&nbsp;None,</div></div><div class=\"p1161\" style=\"display: none;\"><div style=\"display: table-cell;\"></div><div style=\"display: table-cell;\">coordinates&nbsp;=&nbsp;None,</div></div><div class=\"p1161\" style=\"display: none;\"><div style=\"display: table-cell;\"></div><div style=\"display: table-cell;\">css_classes&nbsp;=&nbsp;[],</div></div><div class=\"p1161\" style=\"display: none;\"><div style=\"display: table-cell;\"></div><div style=\"display: table-cell;\">css_variables&nbsp;=&nbsp;{},</div></div><div class=\"p1161\" style=\"display: none;\"><div style=\"display: table-cell;\"></div><div style=\"display: table-cell;\">data_source&nbsp;=&nbsp;ColumnDataSource(id='p1152', ...),</div></div><div class=\"p1161\" style=\"display: none;\"><div style=\"display: table-cell;\"></div><div style=\"display: table-cell;\">glyph&nbsp;=&nbsp;Quad(id='p1155', ...),</div></div><div class=\"p1161\" style=\"display: none;\"><div style=\"display: table-cell;\"></div><div style=\"display: table-cell;\">group&nbsp;=&nbsp;None,</div></div><div class=\"p1161\" style=\"display: none;\"><div style=\"display: table-cell;\"></div><div style=\"display: table-cell;\">hover_glyph&nbsp;=&nbsp;None,</div></div><div class=\"p1161\" style=\"display: none;\"><div style=\"display: table-cell;\"></div><div style=\"display: table-cell;\">html_attributes&nbsp;=&nbsp;{},</div></div><div class=\"p1161\" style=\"display: none;\"><div style=\"display: table-cell;\"></div><div style=\"display: table-cell;\">html_id&nbsp;=&nbsp;None,</div></div><div class=\"p1161\" style=\"display: none;\"><div style=\"display: table-cell;\"></div><div style=\"display: table-cell;\">js_event_callbacks&nbsp;=&nbsp;{},</div></div><div class=\"p1161\" style=\"display: none;\"><div style=\"display: table-cell;\"></div><div style=\"display: table-cell;\">js_property_callbacks&nbsp;=&nbsp;{},</div></div><div class=\"p1161\" style=\"display: none;\"><div style=\"display: table-cell;\"></div><div style=\"display: table-cell;\">level&nbsp;=&nbsp;'glyph',</div></div><div class=\"p1161\" style=\"display: none;\"><div style=\"display: table-cell;\"></div><div style=\"display: table-cell;\">muted&nbsp;=&nbsp;False,</div></div><div class=\"p1161\" style=\"display: none;\"><div style=\"display: table-cell;\"></div><div style=\"display: table-cell;\">muted_glyph&nbsp;=&nbsp;Quad(id='p1157', ...),</div></div><div class=\"p1161\" style=\"display: none;\"><div style=\"display: table-cell;\"></div><div style=\"display: table-cell;\">name&nbsp;=&nbsp;None,</div></div><div class=\"p1161\" style=\"display: none;\"><div style=\"display: table-cell;\"></div><div style=\"display: table-cell;\">nonselection_glyph&nbsp;=&nbsp;Quad(id='p1156', ...),</div></div><div class=\"p1161\" style=\"display: none;\"><div style=\"display: table-cell;\"></div><div style=\"display: table-cell;\">propagate_hover&nbsp;=&nbsp;False,</div></div><div class=\"p1161\" style=\"display: none;\"><div style=\"display: table-cell;\"></div><div style=\"display: table-cell;\">selection_glyph&nbsp;=&nbsp;'auto',</div></div><div class=\"p1161\" style=\"display: none;\"><div style=\"display: table-cell;\"></div><div style=\"display: table-cell;\">styles&nbsp;=&nbsp;{},</div></div><div class=\"p1161\" style=\"display: none;\"><div style=\"display: table-cell;\"></div><div style=\"display: table-cell;\">stylesheets&nbsp;=&nbsp;[],</div></div><div class=\"p1161\" style=\"display: none;\"><div style=\"display: table-cell;\"></div><div style=\"display: table-cell;\">subscribed_events&nbsp;=&nbsp;PropertyValueSet(),</div></div><div class=\"p1161\" style=\"display: none;\"><div style=\"display: table-cell;\"></div><div style=\"display: table-cell;\">syncable&nbsp;=&nbsp;True,</div></div><div class=\"p1161\" style=\"display: none;\"><div style=\"display: table-cell;\"></div><div style=\"display: table-cell;\">tags&nbsp;=&nbsp;[],</div></div><div class=\"p1161\" style=\"display: none;\"><div style=\"display: table-cell;\"></div><div style=\"display: table-cell;\">view&nbsp;=&nbsp;CDSView(id='p1159', ...),</div></div><div class=\"p1161\" style=\"display: none;\"><div style=\"display: table-cell;\"></div><div style=\"display: table-cell;\">visible&nbsp;=&nbsp;True,</div></div><div class=\"p1161\" style=\"display: none;\"><div style=\"display: table-cell;\"></div><div style=\"display: table-cell;\">x_range_name&nbsp;=&nbsp;'default',</div></div><div class=\"p1161\" style=\"display: none;\"><div style=\"display: table-cell;\"></div><div style=\"display: table-cell;\">y_range_name&nbsp;=&nbsp;'default')</div></div></div>\n",
       "<script>\n",
       "(function() {\n",
       "  let expanded = false;\n",
       "  const ellipsis = document.getElementById(\"p1162\");\n",
       "  ellipsis.addEventListener(\"click\", function() {\n",
       "    const rows = document.getElementsByClassName(\"p1161\");\n",
       "    for (let i = 0; i < rows.length; i++) {\n",
       "      const el = rows[i];\n",
       "      el.style.display = expanded ? \"none\" : \"table-row\";\n",
       "    }\n",
       "    ellipsis.innerHTML = expanded ? \"&hellip;)\" : \"&lsaquo;&lsaquo;&lsaquo;\";\n",
       "    expanded = !expanded;\n",
       "  });\n",
       "})();\n",
       "</script>\n"
      ],
      "text/plain": [
       "GlyphRenderer(id='p1158', ...)"
      ]
     },
     "execution_count": 7,
     "metadata": {},
     "output_type": "execute_result"
    }
   ],
   "source": [
    "# 3. Histogram\n",
    "hist, edges = np.histogram(df['NO2'], bins=20)\n",
    "p3 = figure(title='NO2 Histogram')\n",
    "p3.quad(top=hist, bottom=0, left=edges[:-1], right=edges[1:])"
   ]
  },
  {
   "cell_type": "code",
   "execution_count": 9,
   "id": "cf4df358-cc2d-4695-86d1-d926e3edde6a",
   "metadata": {},
   "outputs": [],
   "source": [
    "df['Date'] = pd.to_datetime(df['Date'], errors='coerce')\n",
    "\n",
    "# Create Month column\n",
    "df['Month'] = df['Date'].dt.strftime('%b')\n",
    "\n",
    "# Define pollutants\n",
    "pollutants = ['PM10', 'PM2.5', 'SO2', 'NO2', 'CO', 'O3']\n",
    "\n"
   ]
  },
  {
   "cell_type": "code",
   "execution_count": 10,
   "id": "12c64261-9648-4713-820d-059baf1d5694",
   "metadata": {},
   "outputs": [
    {
     "data": {
      "text/html": [
       "<div style=\"display: table;\"><div style=\"display: table-row;\"><div style=\"display: table-cell;\"><b title=\"bokeh.models.renderers.glyph_renderer.GlyphRenderer\">GlyphRenderer</b>(</div><div style=\"display: table-cell;\">id&nbsp;=&nbsp;'p1205', <span id=\"p1209\" style=\"cursor: pointer;\">&hellip;)</span></div></div><div class=\"p1208\" style=\"display: none;\"><div style=\"display: table-cell;\"></div><div style=\"display: table-cell;\">context_menu&nbsp;=&nbsp;None,</div></div><div class=\"p1208\" style=\"display: none;\"><div style=\"display: table-cell;\"></div><div style=\"display: table-cell;\">coordinates&nbsp;=&nbsp;None,</div></div><div class=\"p1208\" style=\"display: none;\"><div style=\"display: table-cell;\"></div><div style=\"display: table-cell;\">css_classes&nbsp;=&nbsp;[],</div></div><div class=\"p1208\" style=\"display: none;\"><div style=\"display: table-cell;\"></div><div style=\"display: table-cell;\">css_variables&nbsp;=&nbsp;{},</div></div><div class=\"p1208\" style=\"display: none;\"><div style=\"display: table-cell;\"></div><div style=\"display: table-cell;\">data_source&nbsp;=&nbsp;ColumnDataSource(id='p1199', ...),</div></div><div class=\"p1208\" style=\"display: none;\"><div style=\"display: table-cell;\"></div><div style=\"display: table-cell;\">glyph&nbsp;=&nbsp;VBar(id='p1202', ...),</div></div><div class=\"p1208\" style=\"display: none;\"><div style=\"display: table-cell;\"></div><div style=\"display: table-cell;\">group&nbsp;=&nbsp;None,</div></div><div class=\"p1208\" style=\"display: none;\"><div style=\"display: table-cell;\"></div><div style=\"display: table-cell;\">hover_glyph&nbsp;=&nbsp;None,</div></div><div class=\"p1208\" style=\"display: none;\"><div style=\"display: table-cell;\"></div><div style=\"display: table-cell;\">html_attributes&nbsp;=&nbsp;{},</div></div><div class=\"p1208\" style=\"display: none;\"><div style=\"display: table-cell;\"></div><div style=\"display: table-cell;\">html_id&nbsp;=&nbsp;None,</div></div><div class=\"p1208\" style=\"display: none;\"><div style=\"display: table-cell;\"></div><div style=\"display: table-cell;\">js_event_callbacks&nbsp;=&nbsp;{},</div></div><div class=\"p1208\" style=\"display: none;\"><div style=\"display: table-cell;\"></div><div style=\"display: table-cell;\">js_property_callbacks&nbsp;=&nbsp;{},</div></div><div class=\"p1208\" style=\"display: none;\"><div style=\"display: table-cell;\"></div><div style=\"display: table-cell;\">level&nbsp;=&nbsp;'glyph',</div></div><div class=\"p1208\" style=\"display: none;\"><div style=\"display: table-cell;\"></div><div style=\"display: table-cell;\">muted&nbsp;=&nbsp;False,</div></div><div class=\"p1208\" style=\"display: none;\"><div style=\"display: table-cell;\"></div><div style=\"display: table-cell;\">muted_glyph&nbsp;=&nbsp;VBar(id='p1204', ...),</div></div><div class=\"p1208\" style=\"display: none;\"><div style=\"display: table-cell;\"></div><div style=\"display: table-cell;\">name&nbsp;=&nbsp;None,</div></div><div class=\"p1208\" style=\"display: none;\"><div style=\"display: table-cell;\"></div><div style=\"display: table-cell;\">nonselection_glyph&nbsp;=&nbsp;VBar(id='p1203', ...),</div></div><div class=\"p1208\" style=\"display: none;\"><div style=\"display: table-cell;\"></div><div style=\"display: table-cell;\">propagate_hover&nbsp;=&nbsp;False,</div></div><div class=\"p1208\" style=\"display: none;\"><div style=\"display: table-cell;\"></div><div style=\"display: table-cell;\">selection_glyph&nbsp;=&nbsp;'auto',</div></div><div class=\"p1208\" style=\"display: none;\"><div style=\"display: table-cell;\"></div><div style=\"display: table-cell;\">styles&nbsp;=&nbsp;{},</div></div><div class=\"p1208\" style=\"display: none;\"><div style=\"display: table-cell;\"></div><div style=\"display: table-cell;\">stylesheets&nbsp;=&nbsp;[],</div></div><div class=\"p1208\" style=\"display: none;\"><div style=\"display: table-cell;\"></div><div style=\"display: table-cell;\">subscribed_events&nbsp;=&nbsp;PropertyValueSet(),</div></div><div class=\"p1208\" style=\"display: none;\"><div style=\"display: table-cell;\"></div><div style=\"display: table-cell;\">syncable&nbsp;=&nbsp;True,</div></div><div class=\"p1208\" style=\"display: none;\"><div style=\"display: table-cell;\"></div><div style=\"display: table-cell;\">tags&nbsp;=&nbsp;[],</div></div><div class=\"p1208\" style=\"display: none;\"><div style=\"display: table-cell;\"></div><div style=\"display: table-cell;\">view&nbsp;=&nbsp;CDSView(id='p1206', ...),</div></div><div class=\"p1208\" style=\"display: none;\"><div style=\"display: table-cell;\"></div><div style=\"display: table-cell;\">visible&nbsp;=&nbsp;True,</div></div><div class=\"p1208\" style=\"display: none;\"><div style=\"display: table-cell;\"></div><div style=\"display: table-cell;\">x_range_name&nbsp;=&nbsp;'default',</div></div><div class=\"p1208\" style=\"display: none;\"><div style=\"display: table-cell;\"></div><div style=\"display: table-cell;\">y_range_name&nbsp;=&nbsp;'default')</div></div></div>\n",
       "<script>\n",
       "(function() {\n",
       "  let expanded = false;\n",
       "  const ellipsis = document.getElementById(\"p1209\");\n",
       "  ellipsis.addEventListener(\"click\", function() {\n",
       "    const rows = document.getElementsByClassName(\"p1208\");\n",
       "    for (let i = 0; i < rows.length; i++) {\n",
       "      const el = rows[i];\n",
       "      el.style.display = expanded ? \"none\" : \"table-row\";\n",
       "    }\n",
       "    ellipsis.innerHTML = expanded ? \"&hellip;)\" : \"&lsaquo;&lsaquo;&lsaquo;\";\n",
       "    expanded = !expanded;\n",
       "  });\n",
       "})();\n",
       "</script>\n"
      ],
      "text/plain": [
       "GlyphRenderer(id='p1205', ...)"
      ]
     },
     "execution_count": 10,
     "metadata": {},
     "output_type": "execute_result"
    }
   ],
   "source": [
    "# 4. Box (median by month)\n",
    "med = df.groupby('Month')['SO2'].median()\n",
    "p4 = figure(x_range=[str(m) for m in med.index], title='Median SO2 by Month')\n",
    "p4.vbar(x=[str(m) for m in med.index], top=med.values, width=0.7)\n"
   ]
  },
  {
   "cell_type": "code",
   "execution_count": 11,
   "id": "da367b52-7e10-4c16-a263-2c3b74dff5cd",
   "metadata": {},
   "outputs": [
    {
     "data": {
      "text/html": [
       "<div style=\"display: table;\"><div style=\"display: table-row;\"><div style=\"display: table-cell;\"><b title=\"bokeh.models.renderers.glyph_renderer.GlyphRenderer\">GlyphRenderer</b>(</div><div style=\"display: table-cell;\">id&nbsp;=&nbsp;'p1257', <span id=\"p1261\" style=\"cursor: pointer;\">&hellip;)</span></div></div><div class=\"p1260\" style=\"display: none;\"><div style=\"display: table-cell;\"></div><div style=\"display: table-cell;\">context_menu&nbsp;=&nbsp;None,</div></div><div class=\"p1260\" style=\"display: none;\"><div style=\"display: table-cell;\"></div><div style=\"display: table-cell;\">coordinates&nbsp;=&nbsp;None,</div></div><div class=\"p1260\" style=\"display: none;\"><div style=\"display: table-cell;\"></div><div style=\"display: table-cell;\">css_classes&nbsp;=&nbsp;[],</div></div><div class=\"p1260\" style=\"display: none;\"><div style=\"display: table-cell;\"></div><div style=\"display: table-cell;\">css_variables&nbsp;=&nbsp;{},</div></div><div class=\"p1260\" style=\"display: none;\"><div style=\"display: table-cell;\"></div><div style=\"display: table-cell;\">data_source&nbsp;=&nbsp;ColumnDataSource(id='p1245', ...),</div></div><div class=\"p1260\" style=\"display: none;\"><div style=\"display: table-cell;\"></div><div style=\"display: table-cell;\">glyph&nbsp;=&nbsp;Image(id='p1248', ...),</div></div><div class=\"p1260\" style=\"display: none;\"><div style=\"display: table-cell;\"></div><div style=\"display: table-cell;\">group&nbsp;=&nbsp;None,</div></div><div class=\"p1260\" style=\"display: none;\"><div style=\"display: table-cell;\"></div><div style=\"display: table-cell;\">hover_glyph&nbsp;=&nbsp;None,</div></div><div class=\"p1260\" style=\"display: none;\"><div style=\"display: table-cell;\"></div><div style=\"display: table-cell;\">html_attributes&nbsp;=&nbsp;{},</div></div><div class=\"p1260\" style=\"display: none;\"><div style=\"display: table-cell;\"></div><div style=\"display: table-cell;\">html_id&nbsp;=&nbsp;None,</div></div><div class=\"p1260\" style=\"display: none;\"><div style=\"display: table-cell;\"></div><div style=\"display: table-cell;\">js_event_callbacks&nbsp;=&nbsp;{},</div></div><div class=\"p1260\" style=\"display: none;\"><div style=\"display: table-cell;\"></div><div style=\"display: table-cell;\">js_property_callbacks&nbsp;=&nbsp;{},</div></div><div class=\"p1260\" style=\"display: none;\"><div style=\"display: table-cell;\"></div><div style=\"display: table-cell;\">level&nbsp;=&nbsp;'glyph',</div></div><div class=\"p1260\" style=\"display: none;\"><div style=\"display: table-cell;\"></div><div style=\"display: table-cell;\">muted&nbsp;=&nbsp;False,</div></div><div class=\"p1260\" style=\"display: none;\"><div style=\"display: table-cell;\"></div><div style=\"display: table-cell;\">muted_glyph&nbsp;=&nbsp;Image(id='p1254', ...),</div></div><div class=\"p1260\" style=\"display: none;\"><div style=\"display: table-cell;\"></div><div style=\"display: table-cell;\">name&nbsp;=&nbsp;None,</div></div><div class=\"p1260\" style=\"display: none;\"><div style=\"display: table-cell;\"></div><div style=\"display: table-cell;\">nonselection_glyph&nbsp;=&nbsp;Image(id='p1251', ...),</div></div><div class=\"p1260\" style=\"display: none;\"><div style=\"display: table-cell;\"></div><div style=\"display: table-cell;\">propagate_hover&nbsp;=&nbsp;False,</div></div><div class=\"p1260\" style=\"display: none;\"><div style=\"display: table-cell;\"></div><div style=\"display: table-cell;\">selection_glyph&nbsp;=&nbsp;'auto',</div></div><div class=\"p1260\" style=\"display: none;\"><div style=\"display: table-cell;\"></div><div style=\"display: table-cell;\">styles&nbsp;=&nbsp;{},</div></div><div class=\"p1260\" style=\"display: none;\"><div style=\"display: table-cell;\"></div><div style=\"display: table-cell;\">stylesheets&nbsp;=&nbsp;[],</div></div><div class=\"p1260\" style=\"display: none;\"><div style=\"display: table-cell;\"></div><div style=\"display: table-cell;\">subscribed_events&nbsp;=&nbsp;PropertyValueSet(),</div></div><div class=\"p1260\" style=\"display: none;\"><div style=\"display: table-cell;\"></div><div style=\"display: table-cell;\">syncable&nbsp;=&nbsp;True,</div></div><div class=\"p1260\" style=\"display: none;\"><div style=\"display: table-cell;\"></div><div style=\"display: table-cell;\">tags&nbsp;=&nbsp;[],</div></div><div class=\"p1260\" style=\"display: none;\"><div style=\"display: table-cell;\"></div><div style=\"display: table-cell;\">view&nbsp;=&nbsp;CDSView(id='p1258', ...),</div></div><div class=\"p1260\" style=\"display: none;\"><div style=\"display: table-cell;\"></div><div style=\"display: table-cell;\">visible&nbsp;=&nbsp;True,</div></div><div class=\"p1260\" style=\"display: none;\"><div style=\"display: table-cell;\"></div><div style=\"display: table-cell;\">x_range_name&nbsp;=&nbsp;'default',</div></div><div class=\"p1260\" style=\"display: none;\"><div style=\"display: table-cell;\"></div><div style=\"display: table-cell;\">y_range_name&nbsp;=&nbsp;'default')</div></div></div>\n",
       "<script>\n",
       "(function() {\n",
       "  let expanded = false;\n",
       "  const ellipsis = document.getElementById(\"p1261\");\n",
       "  ellipsis.addEventListener(\"click\", function() {\n",
       "    const rows = document.getElementsByClassName(\"p1260\");\n",
       "    for (let i = 0; i < rows.length; i++) {\n",
       "      const el = rows[i];\n",
       "      el.style.display = expanded ? \"none\" : \"table-row\";\n",
       "    }\n",
       "    ellipsis.innerHTML = expanded ? \"&hellip;)\" : \"&lsaquo;&lsaquo;&lsaquo;\";\n",
       "    expanded = !expanded;\n",
       "  });\n",
       "})();\n",
       "</script>\n"
      ],
      "text/plain": [
       "GlyphRenderer(id='p1257', ...)"
      ]
     },
     "execution_count": 11,
     "metadata": {},
     "output_type": "execute_result"
    }
   ],
   "source": [
    "# 5. Correlation Heatmap\n",
    "corr = df[pollutants].corr().values\n",
    "p5 = figure(title='Correlation Heatmap', width=400, height=400)\n",
    "p5.image(image=[corr], x=0, y=0, dw=1, dh=1)"
   ]
  },
  {
   "cell_type": "code",
   "execution_count": 12,
   "id": "e181ccd6-4ae8-4f61-9291-5b0905d83462",
   "metadata": {},
   "outputs": [
    {
     "data": {
      "text/html": [
       "<div style=\"display: table;\"><div style=\"display: table-row;\"><div style=\"display: table-cell;\"><b title=\"bokeh.models.renderers.glyph_renderer.GlyphRenderer\">GlyphRenderer</b>(</div><div style=\"display: table-cell;\">id&nbsp;=&nbsp;'p1317', <span id=\"p1321\" style=\"cursor: pointer;\">&hellip;)</span></div></div><div class=\"p1320\" style=\"display: none;\"><div style=\"display: table-cell;\"></div><div style=\"display: table-cell;\">context_menu&nbsp;=&nbsp;None,</div></div><div class=\"p1320\" style=\"display: none;\"><div style=\"display: table-cell;\"></div><div style=\"display: table-cell;\">coordinates&nbsp;=&nbsp;None,</div></div><div class=\"p1320\" style=\"display: none;\"><div style=\"display: table-cell;\"></div><div style=\"display: table-cell;\">css_classes&nbsp;=&nbsp;[],</div></div><div class=\"p1320\" style=\"display: none;\"><div style=\"display: table-cell;\"></div><div style=\"display: table-cell;\">css_variables&nbsp;=&nbsp;{},</div></div><div class=\"p1320\" style=\"display: none;\"><div style=\"display: table-cell;\"></div><div style=\"display: table-cell;\">data_source&nbsp;=&nbsp;ColumnDataSource(id='p1008', ...),</div></div><div class=\"p1320\" style=\"display: none;\"><div style=\"display: table-cell;\"></div><div style=\"display: table-cell;\">glyph&nbsp;=&nbsp;VArea(id='p1314', ...),</div></div><div class=\"p1320\" style=\"display: none;\"><div style=\"display: table-cell;\"></div><div style=\"display: table-cell;\">group&nbsp;=&nbsp;None,</div></div><div class=\"p1320\" style=\"display: none;\"><div style=\"display: table-cell;\"></div><div style=\"display: table-cell;\">hover_glyph&nbsp;=&nbsp;None,</div></div><div class=\"p1320\" style=\"display: none;\"><div style=\"display: table-cell;\"></div><div style=\"display: table-cell;\">html_attributes&nbsp;=&nbsp;{},</div></div><div class=\"p1320\" style=\"display: none;\"><div style=\"display: table-cell;\"></div><div style=\"display: table-cell;\">html_id&nbsp;=&nbsp;None,</div></div><div class=\"p1320\" style=\"display: none;\"><div style=\"display: table-cell;\"></div><div style=\"display: table-cell;\">js_event_callbacks&nbsp;=&nbsp;{},</div></div><div class=\"p1320\" style=\"display: none;\"><div style=\"display: table-cell;\"></div><div style=\"display: table-cell;\">js_property_callbacks&nbsp;=&nbsp;{},</div></div><div class=\"p1320\" style=\"display: none;\"><div style=\"display: table-cell;\"></div><div style=\"display: table-cell;\">level&nbsp;=&nbsp;'glyph',</div></div><div class=\"p1320\" style=\"display: none;\"><div style=\"display: table-cell;\"></div><div style=\"display: table-cell;\">muted&nbsp;=&nbsp;False,</div></div><div class=\"p1320\" style=\"display: none;\"><div style=\"display: table-cell;\"></div><div style=\"display: table-cell;\">muted_glyph&nbsp;=&nbsp;VArea(id='p1316', ...),</div></div><div class=\"p1320\" style=\"display: none;\"><div style=\"display: table-cell;\"></div><div style=\"display: table-cell;\">name&nbsp;=&nbsp;None,</div></div><div class=\"p1320\" style=\"display: none;\"><div style=\"display: table-cell;\"></div><div style=\"display: table-cell;\">nonselection_glyph&nbsp;=&nbsp;VArea(id='p1315', ...),</div></div><div class=\"p1320\" style=\"display: none;\"><div style=\"display: table-cell;\"></div><div style=\"display: table-cell;\">propagate_hover&nbsp;=&nbsp;False,</div></div><div class=\"p1320\" style=\"display: none;\"><div style=\"display: table-cell;\"></div><div style=\"display: table-cell;\">selection_glyph&nbsp;=&nbsp;'auto',</div></div><div class=\"p1320\" style=\"display: none;\"><div style=\"display: table-cell;\"></div><div style=\"display: table-cell;\">styles&nbsp;=&nbsp;{},</div></div><div class=\"p1320\" style=\"display: none;\"><div style=\"display: table-cell;\"></div><div style=\"display: table-cell;\">stylesheets&nbsp;=&nbsp;[],</div></div><div class=\"p1320\" style=\"display: none;\"><div style=\"display: table-cell;\"></div><div style=\"display: table-cell;\">subscribed_events&nbsp;=&nbsp;PropertyValueSet(),</div></div><div class=\"p1320\" style=\"display: none;\"><div style=\"display: table-cell;\"></div><div style=\"display: table-cell;\">syncable&nbsp;=&nbsp;True,</div></div><div class=\"p1320\" style=\"display: none;\"><div style=\"display: table-cell;\"></div><div style=\"display: table-cell;\">tags&nbsp;=&nbsp;[],</div></div><div class=\"p1320\" style=\"display: none;\"><div style=\"display: table-cell;\"></div><div style=\"display: table-cell;\">view&nbsp;=&nbsp;CDSView(id='p1318', ...),</div></div><div class=\"p1320\" style=\"display: none;\"><div style=\"display: table-cell;\"></div><div style=\"display: table-cell;\">visible&nbsp;=&nbsp;True,</div></div><div class=\"p1320\" style=\"display: none;\"><div style=\"display: table-cell;\"></div><div style=\"display: table-cell;\">x_range_name&nbsp;=&nbsp;'default',</div></div><div class=\"p1320\" style=\"display: none;\"><div style=\"display: table-cell;\"></div><div style=\"display: table-cell;\">y_range_name&nbsp;=&nbsp;'default')</div></div></div>\n",
       "<script>\n",
       "(function() {\n",
       "  let expanded = false;\n",
       "  const ellipsis = document.getElementById(\"p1321\");\n",
       "  ellipsis.addEventListener(\"click\", function() {\n",
       "    const rows = document.getElementsByClassName(\"p1320\");\n",
       "    for (let i = 0; i < rows.length; i++) {\n",
       "      const el = rows[i];\n",
       "      el.style.display = expanded ? \"none\" : \"table-row\";\n",
       "    }\n",
       "    ellipsis.innerHTML = expanded ? \"&hellip;)\" : \"&lsaquo;&lsaquo;&lsaquo;\";\n",
       "    expanded = !expanded;\n",
       "  });\n",
       "})();\n",
       "</script>\n"
      ],
      "text/plain": [
       "GlyphRenderer(id='p1317', ...)"
      ]
     },
     "execution_count": 12,
     "metadata": {},
     "output_type": "execute_result"
    }
   ],
   "source": [
    "# 6. Area Plot\n",
    "p6 = figure(x_axis_type='datetime', title='PM2.5 Area Plot')\n",
    "p6.varea(x='Date', y1=0, y2='PM2.5', source=source)"
   ]
  },
  {
   "cell_type": "code",
   "execution_count": 13,
   "id": "7ccbf954-a59e-4203-b5be-f1343f2fa2b1",
   "metadata": {},
   "outputs": [],
   "source": [
    "# 7. Multi-Line Plot\n",
    "p7 = figure(x_axis_type='datetime', title='Multiple Pollutants')\n",
    "for col in pollutants:\n",
    "    p7.line('Date', col, source=source, legend_label=col)"
   ]
  },
  {
   "cell_type": "code",
   "execution_count": 14,
   "id": "4bcc99b5-9f8d-412d-9ffa-7f2d511069bf",
   "metadata": {},
   "outputs": [],
   "source": [
    "# 8. Hover Tooltip Plot\n",
    "p8 = figure(x_axis_type='datetime', title='PM10 with Hover')\n",
    "p8.line('Date', 'PM10', source=source)\n",
    "p8.add_tools(HoverTool(tooltips=[('Date', '@Date{%F}'), ('PM10', '@PM10')], formatters={'@Date': 'datetime'}))"
   ]
  },
  {
   "cell_type": "code",
   "execution_count": 15,
   "id": "e22cc12b-fef5-4299-8d67-79b804e43bf6",
   "metadata": {},
   "outputs": [
    {
     "data": {
      "text/html": [
       "<div style=\"display: table;\"><div style=\"display: table-row;\"><div style=\"display: table-cell;\"><b title=\"bokeh.models.renderers.glyph_renderer.GlyphRenderer\">GlyphRenderer</b>(</div><div style=\"display: table-cell;\">id&nbsp;=&nbsp;'p1533', <span id=\"p1537\" style=\"cursor: pointer;\">&hellip;)</span></div></div><div class=\"p1536\" style=\"display: none;\"><div style=\"display: table-cell;\"></div><div style=\"display: table-cell;\">context_menu&nbsp;=&nbsp;None,</div></div><div class=\"p1536\" style=\"display: none;\"><div style=\"display: table-cell;\"></div><div style=\"display: table-cell;\">coordinates&nbsp;=&nbsp;None,</div></div><div class=\"p1536\" style=\"display: none;\"><div style=\"display: table-cell;\"></div><div style=\"display: table-cell;\">css_classes&nbsp;=&nbsp;[],</div></div><div class=\"p1536\" style=\"display: none;\"><div style=\"display: table-cell;\"></div><div style=\"display: table-cell;\">css_variables&nbsp;=&nbsp;{},</div></div><div class=\"p1536\" style=\"display: none;\"><div style=\"display: table-cell;\"></div><div style=\"display: table-cell;\">data_source&nbsp;=&nbsp;ColumnDataSource(id='p1527', ...),</div></div><div class=\"p1536\" style=\"display: none;\"><div style=\"display: table-cell;\"></div><div style=\"display: table-cell;\">glyph&nbsp;=&nbsp;VBar(id='p1530', ...),</div></div><div class=\"p1536\" style=\"display: none;\"><div style=\"display: table-cell;\"></div><div style=\"display: table-cell;\">group&nbsp;=&nbsp;None,</div></div><div class=\"p1536\" style=\"display: none;\"><div style=\"display: table-cell;\"></div><div style=\"display: table-cell;\">hover_glyph&nbsp;=&nbsp;None,</div></div><div class=\"p1536\" style=\"display: none;\"><div style=\"display: table-cell;\"></div><div style=\"display: table-cell;\">html_attributes&nbsp;=&nbsp;{},</div></div><div class=\"p1536\" style=\"display: none;\"><div style=\"display: table-cell;\"></div><div style=\"display: table-cell;\">html_id&nbsp;=&nbsp;None,</div></div><div class=\"p1536\" style=\"display: none;\"><div style=\"display: table-cell;\"></div><div style=\"display: table-cell;\">js_event_callbacks&nbsp;=&nbsp;{},</div></div><div class=\"p1536\" style=\"display: none;\"><div style=\"display: table-cell;\"></div><div style=\"display: table-cell;\">js_property_callbacks&nbsp;=&nbsp;{},</div></div><div class=\"p1536\" style=\"display: none;\"><div style=\"display: table-cell;\"></div><div style=\"display: table-cell;\">level&nbsp;=&nbsp;'glyph',</div></div><div class=\"p1536\" style=\"display: none;\"><div style=\"display: table-cell;\"></div><div style=\"display: table-cell;\">muted&nbsp;=&nbsp;False,</div></div><div class=\"p1536\" style=\"display: none;\"><div style=\"display: table-cell;\"></div><div style=\"display: table-cell;\">muted_glyph&nbsp;=&nbsp;VBar(id='p1532', ...),</div></div><div class=\"p1536\" style=\"display: none;\"><div style=\"display: table-cell;\"></div><div style=\"display: table-cell;\">name&nbsp;=&nbsp;None,</div></div><div class=\"p1536\" style=\"display: none;\"><div style=\"display: table-cell;\"></div><div style=\"display: table-cell;\">nonselection_glyph&nbsp;=&nbsp;VBar(id='p1531', ...),</div></div><div class=\"p1536\" style=\"display: none;\"><div style=\"display: table-cell;\"></div><div style=\"display: table-cell;\">propagate_hover&nbsp;=&nbsp;False,</div></div><div class=\"p1536\" style=\"display: none;\"><div style=\"display: table-cell;\"></div><div style=\"display: table-cell;\">selection_glyph&nbsp;=&nbsp;'auto',</div></div><div class=\"p1536\" style=\"display: none;\"><div style=\"display: table-cell;\"></div><div style=\"display: table-cell;\">styles&nbsp;=&nbsp;{},</div></div><div class=\"p1536\" style=\"display: none;\"><div style=\"display: table-cell;\"></div><div style=\"display: table-cell;\">stylesheets&nbsp;=&nbsp;[],</div></div><div class=\"p1536\" style=\"display: none;\"><div style=\"display: table-cell;\"></div><div style=\"display: table-cell;\">subscribed_events&nbsp;=&nbsp;PropertyValueSet(),</div></div><div class=\"p1536\" style=\"display: none;\"><div style=\"display: table-cell;\"></div><div style=\"display: table-cell;\">syncable&nbsp;=&nbsp;True,</div></div><div class=\"p1536\" style=\"display: none;\"><div style=\"display: table-cell;\"></div><div style=\"display: table-cell;\">tags&nbsp;=&nbsp;[],</div></div><div class=\"p1536\" style=\"display: none;\"><div style=\"display: table-cell;\"></div><div style=\"display: table-cell;\">view&nbsp;=&nbsp;CDSView(id='p1534', ...),</div></div><div class=\"p1536\" style=\"display: none;\"><div style=\"display: table-cell;\"></div><div style=\"display: table-cell;\">visible&nbsp;=&nbsp;True,</div></div><div class=\"p1536\" style=\"display: none;\"><div style=\"display: table-cell;\"></div><div style=\"display: table-cell;\">x_range_name&nbsp;=&nbsp;'default',</div></div><div class=\"p1536\" style=\"display: none;\"><div style=\"display: table-cell;\"></div><div style=\"display: table-cell;\">y_range_name&nbsp;=&nbsp;'default')</div></div></div>\n",
       "<script>\n",
       "(function() {\n",
       "  let expanded = false;\n",
       "  const ellipsis = document.getElementById(\"p1537\");\n",
       "  ellipsis.addEventListener(\"click\", function() {\n",
       "    const rows = document.getElementsByClassName(\"p1536\");\n",
       "    for (let i = 0; i < rows.length; i++) {\n",
       "      const el = rows[i];\n",
       "      el.style.display = expanded ? \"none\" : \"table-row\";\n",
       "    }\n",
       "    ellipsis.innerHTML = expanded ? \"&hellip;)\" : \"&lsaquo;&lsaquo;&lsaquo;\";\n",
       "    expanded = !expanded;\n",
       "  });\n",
       "})();\n",
       "</script>\n"
      ],
      "text/plain": [
       "GlyphRenderer(id='p1533', ...)"
      ]
     },
     "execution_count": 15,
     "metadata": {},
     "output_type": "execute_result"
    }
   ],
   "source": [
    "# 9. Bar Chart\n",
    "p9 = figure(x_range=[str(m) for m in med.index], title='Average CO by Month')\n",
    "p9.vbar(x=[str(m) for m in med.index], top=df.groupby('Month')['CO'].mean().values, width=0.7)"
   ]
  },
  {
   "cell_type": "code",
   "execution_count": 16,
   "id": "8f81d6c3-3a7c-468e-93e3-a56e0945a700",
   "metadata": {},
   "outputs": [
    {
     "data": {
      "text/html": [
       "\n",
       "  <div id=\"f28a33e4-917d-4947-8871-1e97870718c8\" data-root-id=\"p1538\" style=\"display: contents;\"></div>\n"
      ]
     },
     "metadata": {},
     "output_type": "display_data"
    },
    {
     "data": {
      "application/javascript": [
       "(function(root) {\n",
       "  function embed_document(root) {\n",
       "  const docs_json = {\"5b3827bd-2868-454b-92f7-6ff18cc43276\":{\"version\":\"3.8.0\",\"title\":\"Bokeh Application\",\"config\":{\"type\":\"object\",\"name\":\"DocumentConfig\",\"id\":\"p1539\",\"attributes\":{\"notifications\":{\"type\":\"object\",\"name\":\"Notifications\",\"id\":\"p1540\"}}},\"roots\":[{\"type\":\"object\",\"name\":\"Column\",\"id\":\"p1538\",\"attributes\":{\"children\":[{\"type\":\"object\",\"name\":\"Figure\",\"id\":\"p1011\",\"attributes\":{\"x_range\":{\"type\":\"object\",\"name\":\"DataRange1d\",\"id\":\"p1012\"},\"y_range\":{\"type\":\"object\",\"name\":\"DataRange1d\",\"id\":\"p1013\"},\"x_scale\":{\"type\":\"object\",\"name\":\"LinearScale\",\"id\":\"p1021\"},\"y_scale\":{\"type\":\"object\",\"name\":\"LinearScale\",\"id\":\"p1022\"},\"title\":{\"type\":\"object\",\"name\":\"Title\",\"id\":\"p1014\",\"attributes\":{\"text\":\"PM2.5 Over Time\"}},\"renderers\":[{\"type\":\"object\",\"name\":\"GlyphRenderer\",\"id\":\"p1066\",\"attributes\":{\"data_source\":{\"type\":\"object\",\"name\":\"ColumnDataSource\",\"id\":\"p1008\",\"attributes\":{\"selected\":{\"type\":\"object\",\"name\":\"Selection\",\"id\":\"p1009\",\"attributes\":{\"indices\":[],\"line_indices\":[]}},\"selection_policy\":{\"type\":\"object\",\"name\":\"UnionRenderers\",\"id\":\"p1010\"},\"data\":{\"type\":\"map\",\"entries\":[[\"index\",{\"type\":\"ndarray\",\"array\":{\"type\":\"bytes\",\"data\":\"H4sIAAEAAAAC/y3WwxIgCAJEwbZt27Zt27Zt27Zt27Zt2zNtezNi55Cf8KIqQIAAAQISiMAEISjBCE4IQhKK0IQhLOEITwQiEonIRCEq0YhODGISi9jEIS7xiE8CEpKIxCQhKclITgpSkorUpCEt6UhPBjKSicxkISvZyE4OcpKL3OQhL/nITwEKUojCFKEoxShOCUpSitKUoSzlKE8FKlKJylShKtWoTg1qUova1KEu9ahPAxrSiMY0oSnNaE4LWtKK1rShLe1oTwc60onOdKEr3ehOD3rSi970oS/96M8ABjKIwQxhKMMYzghGMorRjGEs4xjPBCYyiclMYSrTmM4MZjKL2cxhLvOYzwIWsojFLGEpy1jOClayitWsYS3rWM8GNrKJzWxhK9vYzg52sovd7GEv+9jPAQ5yiMMc4SjHOM4JTnKK05zhLOc4zwUuconLXOEq17jODW5yi9vc4S73uM8DHvKIxzzhKc94zgte8op/+JfXvOEt73jPBz7yic984Svf+M4PfvKL3/zhb4D/xx+QQAQmCEEJRnBCEJJQhCYMYQlHeCIQkUhEJgpRiUZ0YhCTWMQmDnGJR3wSkJBEJCYJSUlGclKQklSkJg1pSUd6MpCRTGQmC1nJRnZykJNc5CYPeclHfgpQkEIUpghFKUZxSlCSUpSmDGUpR3kqUJFKVKYKValGdWpQk1rUpg51qUd9GtCQRjSmCU1pRnNa0JJWtKYNbWlHezrQkU50pgtd6UZ3etCTXvSmD33pR38GMJBBDGYIQxnGcEYwklGMZgxjGcd4JjCRSUxmClOZxnRmMJNZzGYOc5nHfBawkEUsZglLWcZyVrCSVaxmDWtZx3o2sJFNbGYLW9nGdnawk13sZg972cd+DnCQQxzmCEc5xnFOcJJTnOYMZznHeS5wkUtc5gpXucZ1bnCTW9zmDne5x30e8JBHPOYJT3nGc17wklf8w7+85g1vecd7PvCRT3zmC1/5xnd+8JNf/OYPf/8b/oAEIjBBCEowghOCkIQiNGEISzjCE4GIRCIyUYhKNKITg5jEIjZxiEs84pOAhCQiMUlISjKSk4KUpCI1aUhLOtKTgYxkIjNZyEo2spODnOQiN3nISz7yU4CCFKIwRShKMYpTgpKUojRlKEs5ylOBilSiMlWoSjWqU4Oa1KI2dahLPerTgIY0ojFNaEozmtOClrSiNW1oSzva04GOdKIzXehKN7rTg570ojd96Es/+jOAgQxiMEMYyjCGM4KRjGI0YxjLOMYzgYlMYjJTmMo0pjODmcxiNnOYyzzms4CFLGIxS1jKMpazgpWsYjVrWMs61rOBjWxiM1vYyja2s4Od7GI3e9jLPvZzgIMc4jBHOMoxjnOCk5ziNGc4yznOc4GLXOIyV7jKNa5zg5vc4jZ3uMs97vOAhzziMU94yjOe84KXvOIf/uU1b3jLO97zgY984jNf+Mo3vvODn/ziN3/4+9/pD0ggAhOEoAQjOCEISShCE4awhCM8EYhIJCIThahEIzoxiEksYhOHuMQjPglISCISk4SkJCM5KUhJKlKThrSkIz0ZyEgmMpOFrGQjOznISS5yk4e85CM/BShIIQpThKIUozglKEkpSlOGspSjPBWoSCUqU4WqVKM6NahJLWpTh7rUoz4NaEgjGtOEpjSjOS1oSSta04a2tKM9HehIJzrTha50ozs96EkvetOHvvSjPwMYyCAGM4ShDGM4IxjJKEYzhrGMYzwTmMgkJjOFqUxjOjOYySxmM4e5zGM+C1jIIhazhKUsYzkrWMkqVrOGtaxjPRvYyCY2s4WtbGM7O9jJLnazh73sYz8HOMghDnOEoxzjOCc4ySlOc4aznOM8F7jIJS5zhatc4zo3uMktbnOHu9zjPg94yCMe84SnPOM5/wPHOnEaoA8AAA==\"},\"shape\":[1000],\"dtype\":\"int32\",\"order\":\"little\"}],[\"Date\",{\"type\":\"ndarray\",\"array\":{\"type\":\"bytes\",\"data\":\"H4sIAAEAAAAC/43Fa08QBBSA4TNZpKWlxbJobBSWeYmywXAy2MnMdDpNNwoFIeSiKAZBECTCIQiCRFEUw9Kk2Gg4mi7KLAdHF5NFkZqWFBuNRqO0nGE0HMx+Qu/z5RGxqa0vFC6W/11zx9FyedWLZI9pQtuHI2idsjSeLNnvoP3iH2hbFLOOrEd2oyVwEO1bI9aT7XwlWqP60HJoXgLZJ5WgbfM5tPY+nEiWiHy0N55F260HNpA1PQstPR1of3JGEtkaUtE6/ilaNk5OJvvZ9Wh7vA2t9bfQMrbmJbInNaPtq1G0zl2eQpa6d9H+z59oS9CNZD29Fy2zh9C+MyqVbH9XozW+Hy0d4WlkDytDW/X3aL32SDpZ4grR/sXXaAsNySBrZTZarp5G+5qgTWQ7kYHWkJNoKb9zM9mHN6Bt1TG0tk/KJEtwHNpLW9A2NIbWFSu3kOX4YbTfdx1txc9sJevgfrQsG0Z726Isst1bi9aiAbQMLNhG9iUVaGv9Aa3T57xMloLtaP/5W7Q9HZpN1pZctEzrQnvuzByyXc5Ea+wptDTf9QrZp6SgLfsTtF66LZcs0fFoP9KKtsAJtGatziPLhSa0R91A26Glr5I1oBEtmVfQ3huTT7aIOrQeHESLRBaQPb0KbT19aF0w/zWyHChB+/g5tG0MKyRrdz5awrvRXh9cRLaxLLQmd6Kla8brZJ+bhra6z9A6Onk7WRIT0H66DW2zpZistWvRMtKM9vh/0daxfAdZZ72Hlpq/0H5NS8gWV4/WL4fQ8tDCUrJX1qDtaj9a1z5hZPm8DO0hF9FW/mgZWX8vRMvqHrS3h7xBtuActNoZtPwWVE72FZvQdvwkWmdOrSDLjiS0Dx5D27KAN8n6cRxagj5Ce9FNtA2srCTrs++j5eh1tE9fUkW2gga09g+jZXH0W2RvqUXbtF/QmvdUNVn6KtAe+yPamufUkPWOYrTk9KL9UujbZIvOQ2tTF1puv38n2bO2oO3CKbQuvLuWLIdT0B7QjrbMwF1k/S4eLZFH0X5wAm3y/G6yZnyAlm9uoH3Bc3VkO9CI1okraEmN3UP27jq0hf+K1n2Re8lyswrtyT+hrWt+PVnnlaJlz3m0j4btI1tiAVrPdKPlsQf3k712G9pGOtG67p4GsnSmoX3WCfB/Dg2NXUAfAAA=\"},\"shape\":[1000],\"dtype\":\"float64\",\"order\":\"little\"}],[\"City\",{\"type\":\"ndarray\",\"array\":[\"Delhi\",\"Mumbai\",\"Chennai\",\"Kolkata\",\"Bangalore\",\"Delhi\",\"Mumbai\",\"Chennai\",\"Kolkata\",\"Bangalore\",\"Delhi\",\"Mumbai\",\"Chennai\",\"Kolkata\",\"Bangalore\",\"Delhi\",\"Mumbai\",\"Chennai\",\"Kolkata\",\"Bangalore\",\"Delhi\",\"Mumbai\",\"Chennai\",\"Kolkata\",\"Bangalore\",\"Delhi\",\"Mumbai\",\"Chennai\",\"Kolkata\",\"Bangalore\",\"Delhi\",\"Mumbai\",\"Chennai\",\"Kolkata\",\"Bangalore\",\"Delhi\",\"Mumbai\",\"Chennai\",\"Kolkata\",\"Bangalore\",\"Delhi\",\"Mumbai\",\"Chennai\",\"Kolkata\",\"Bangalore\",\"Delhi\",\"Mumbai\",\"Chennai\",\"Kolkata\",\"Bangalore\",\"Delhi\",\"Mumbai\",\"Chennai\",\"Kolkata\",\"Bangalore\",\"Delhi\",\"Mumbai\",\"Chennai\",\"Kolkata\",\"Bangalore\",\"Delhi\",\"Mumbai\",\"Chennai\",\"Kolkata\",\"Bangalore\",\"Delhi\",\"Mumbai\",\"Chennai\",\"Kolkata\",\"Bangalore\",\"Delhi\",\"Mumbai\",\"Chennai\",\"Kolkata\",\"Bangalore\",\"Delhi\",\"Mumbai\",\"Chennai\",\"Kolkata\",\"Bangalore\",\"Delhi\",\"Mumbai\",\"Chennai\",\"Kolkata\",\"Bangalore\",\"Delhi\",\"Mumbai\",\"Chennai\",\"Kolkata\",\"Bangalore\",\"Delhi\",\"Mumbai\",\"Chennai\",\"Kolkata\",\"Bangalore\",\"Delhi\",\"Mumbai\",\"Chennai\",\"Kolkata\",\"Bangalore\",\"Delhi\",\"Mumbai\",\"Chennai\",\"Kolkata\",\"Bangalore\",\"Delhi\",\"Mumbai\",\"Chennai\",\"Kolkata\",\"Bangalore\",\"Delhi\",\"Mumbai\",\"Chennai\",\"Kolkata\",\"Bangalore\",\"Delhi\",\"Mumbai\",\"Chennai\",\"Kolkata\",\"Bangalore\",\"Delhi\",\"Mumbai\",\"Chennai\",\"Kolkata\",\"Bangalore\",\"Delhi\",\"Mumbai\",\"Chennai\",\"Kolkata\",\"Bangalore\",\"Delhi\",\"Mumbai\",\"Chennai\",\"Kolkata\",\"Bangalore\",\"Delhi\",\"Mumbai\",\"Chennai\",\"Kolkata\",\"Bangalore\",\"Delhi\",\"Mumbai\",\"Chennai\",\"Kolkata\",\"Bangalore\",\"Delhi\",\"Mumbai\",\"Chennai\",\"Kolkata\",\"Bangalore\",\"Delhi\",\"Mumbai\",\"Chennai\",\"Kolkata\",\"Bangalore\",\"Delhi\",\"Mumbai\",\"Chennai\",\"Kolkata\",\"Bangalore\",\"Delhi\",\"Mumbai\",\"Chennai\",\"Kolkata\",\"Bangalore\",\"Delhi\",\"Mumbai\",\"Chennai\",\"Kolkata\",\"Bangalore\",\"Delhi\",\"Mumbai\",\"Chennai\",\"Kolkata\",\"Bangalore\",\"Delhi\",\"Mumbai\",\"Chennai\",\"Kolkata\",\"Bangalore\",\"Delhi\",\"Mumbai\",\"Chennai\",\"Kolkata\",\"Bangalore\",\"Delhi\",\"Mumbai\",\"Chennai\",\"Kolkata\",\"Bangalore\",\"Delhi\",\"Mumbai\",\"Chennai\",\"Kolkata\",\"Bangalore\",\"Delhi\",\"Mumbai\",\"Chennai\",\"Kolkata\",\"Bangalore\",\"Delhi\",\"Mumbai\",\"Chennai\",\"Kolkata\",\"Bangalore\",\"Delhi\",\"Mumbai\",\"Chennai\",\"Kolkata\",\"Bangalore\",\"Delhi\",\"Mumbai\",\"Chennai\",\"Kolkata\",\"Bangalore\",\"Delhi\",\"Mumbai\",\"Chennai\",\"Kolkata\",\"Bangalore\",\"Delhi\",\"Mumbai\",\"Chennai\",\"Kolkata\",\"Bangalore\",\"Delhi\",\"Mumbai\",\"Chennai\",\"Kolkata\",\"Bangalore\",\"Delhi\",\"Mumbai\",\"Chennai\",\"Kolkata\",\"Bangalore\",\"Delhi\",\"Mumbai\",\"Chennai\",\"Kolkata\",\"Bangalore\",\"Delhi\",\"Mumbai\",\"Chennai\",\"Kolkata\",\"Bangalore\",\"Delhi\",\"Mumbai\",\"Chennai\",\"Kolkata\",\"Bangalore\",\"Delhi\",\"Mumbai\",\"Chennai\",\"Kolkata\",\"Bangalore\",\"Delhi\",\"Mumbai\",\"Chennai\",\"Kolkata\",\"Bangalore\",\"Delhi\",\"Mumbai\",\"Chennai\",\"Kolkata\",\"Bangalore\",\"Delhi\",\"Mumbai\",\"Chennai\",\"Kolkata\",\"Bangalore\",\"Delhi\",\"Mumbai\",\"Chennai\",\"Kolkata\",\"Bangalore\",\"Delhi\",\"Mumbai\",\"Chennai\",\"Kolkata\",\"Bangalore\",\"Delhi\",\"Mumbai\",\"Chennai\",\"Kolkata\",\"Bangalore\",\"Delhi\",\"Mumbai\",\"Chennai\",\"Kolkata\",\"Bangalore\",\"Delhi\",\"Mumbai\",\"Chennai\",\"Kolkata\",\"Bangalore\",\"Delhi\",\"Mumbai\",\"Chennai\",\"Kolkata\",\"Bangalore\",\"Delhi\",\"Mumbai\",\"Chennai\",\"Kolkata\",\"Bangalore\",\"Delhi\",\"Mumbai\",\"Chennai\",\"Kolkata\",\"Bangalore\",\"Delhi\",\"Mumbai\",\"Chennai\",\"Kolkata\",\"Bangalore\",\"Delhi\",\"Mumbai\",\"Chennai\",\"Kolkata\",\"Bangalore\",\"Delhi\",\"Mumbai\",\"Chennai\",\"Kolkata\",\"Bangalore\",\"Delhi\",\"Mumbai\",\"Chennai\",\"Kolkata\",\"Bangalore\",\"Delhi\",\"Mumbai\",\"Chennai\",\"Kolkata\",\"Bangalore\",\"Delhi\",\"Mumbai\",\"Chennai\",\"Kolkata\",\"Bangalore\",\"Delhi\",\"Mumbai\",\"Chennai\",\"Kolkata\",\"Bangalore\",\"Delhi\",\"Mumbai\",\"Chennai\",\"Kolkata\",\"Bangalore\",\"Delhi\",\"Mumbai\",\"Chennai\",\"Kolkata\",\"Bangalore\",\"Delhi\",\"Mumbai\",\"Chennai\",\"Kolkata\",\"Bangalore\",\"Delhi\",\"Mumbai\",\"Chennai\",\"Kolkata\",\"Bangalore\",\"Delhi\",\"Mumbai\",\"Chennai\",\"Kolkata\",\"Bangalore\",\"Delhi\",\"Mumbai\",\"Chennai\",\"Kolkata\",\"Bangalore\",\"Delhi\",\"Mumbai\",\"Chennai\",\"Kolkata\",\"Bangalore\",\"Delhi\",\"Mumbai\",\"Chennai\",\"Kolkata\",\"Bangalore\",\"Delhi\",\"Mumbai\",\"Chennai\",\"Kolkata\",\"Bangalore\",\"Delhi\",\"Mumbai\",\"Chennai\",\"Kolkata\",\"Bangalore\",\"Delhi\",\"Mumbai\",\"Chennai\",\"Kolkata\",\"Bangalore\",\"Delhi\",\"Mumbai\",\"Chennai\",\"Kolkata\",\"Bangalore\",\"Delhi\",\"Mumbai\",\"Chennai\",\"Kolkata\",\"Bangalore\",\"Delhi\",\"Mumbai\",\"Chennai\",\"Kolkata\",\"Bangalore\",\"Delhi\",\"Mumbai\",\"Chennai\",\"Kolkata\",\"Bangalore\",\"Delhi\",\"Mumbai\",\"Chennai\",\"Kolkata\",\"Bangalore\",\"Delhi\",\"Mumbai\",\"Chennai\",\"Kolkata\",\"Bangalore\",\"Delhi\",\"Mumbai\",\"Chennai\",\"Kolkata\",\"Bangalore\",\"Delhi\",\"Mumbai\",\"Chennai\",\"Kolkata\",\"Bangalore\",\"Delhi\",\"Mumbai\",\"Chennai\",\"Kolkata\",\"Bangalore\",\"Delhi\",\"Mumbai\",\"Chennai\",\"Kolkata\",\"Bangalore\",\"Delhi\",\"Mumbai\",\"Chennai\",\"Kolkata\",\"Bangalore\",\"Delhi\",\"Mumbai\",\"Chennai\",\"Kolkata\",\"Bangalore\",\"Delhi\",\"Mumbai\",\"Chennai\",\"Kolkata\",\"Bangalore\",\"Delhi\",\"Mumbai\",\"Chennai\",\"Kolkata\",\"Bangalore\",\"Delhi\",\"Mumbai\",\"Chennai\",\"Kolkata\",\"Bangalore\",\"Delhi\",\"Mumbai\",\"Chennai\",\"Kolkata\",\"Bangalore\",\"Delhi\",\"Mumbai\",\"Chennai\",\"Kolkata\",\"Bangalore\",\"Delhi\",\"Mumbai\",\"Chennai\",\"Kolkata\",\"Bangalore\",\"Delhi\",\"Mumbai\",\"Chennai\",\"Kolkata\",\"Bangalore\",\"Delhi\",\"Mumbai\",\"Chennai\",\"Kolkata\",\"Bangalore\",\"Delhi\",\"Mumbai\",\"Chennai\",\"Kolkata\",\"Bangalore\",\"Delhi\",\"Mumbai\",\"Chennai\",\"Kolkata\",\"Bangalore\",\"Delhi\",\"Mumbai\",\"Chennai\",\"Kolkata\",\"Bangalore\",\"Delhi\",\"Mumbai\",\"Chennai\",\"Kolkata\",\"Bangalore\",\"Delhi\",\"Mumbai\",\"Chennai\",\"Kolkata\",\"Bangalore\",\"Delhi\",\"Mumbai\",\"Chennai\",\"Kolkata\",\"Bangalore\",\"Delhi\",\"Mumbai\",\"Chennai\",\"Kolkata\",\"Bangalore\",\"Delhi\",\"Mumbai\",\"Chennai\",\"Kolkata\",\"Bangalore\",\"Delhi\",\"Mumbai\",\"Chennai\",\"Kolkata\",\"Bangalore\",\"Delhi\",\"Mumbai\",\"Chennai\",\"Kolkata\",\"Bangalore\",\"Delhi\",\"Mumbai\",\"Chennai\",\"Kolkata\",\"Bangalore\",\"Delhi\",\"Mumbai\",\"Chennai\",\"Kolkata\",\"Bangalore\",\"Delhi\",\"Mumbai\",\"Chennai\",\"Kolkata\",\"Bangalore\",\"Delhi\",\"Mumbai\",\"Chennai\",\"Kolkata\",\"Bangalore\",\"Delhi\",\"Mumbai\",\"Chennai\",\"Kolkata\",\"Bangalore\",\"Delhi\",\"Mumbai\",\"Chennai\",\"Kolkata\",\"Bangalore\",\"Delhi\",\"Mumbai\",\"Chennai\",\"Kolkata\",\"Bangalore\",\"Delhi\",\"Mumbai\",\"Chennai\",\"Kolkata\",\"Bangalore\",\"Delhi\",\"Mumbai\",\"Chennai\",\"Kolkata\",\"Bangalore\",\"Delhi\",\"Mumbai\",\"Chennai\",\"Kolkata\",\"Bangalore\",\"Delhi\",\"Mumbai\",\"Chennai\",\"Kolkata\",\"Bangalore\",\"Delhi\",\"Mumbai\",\"Chennai\",\"Kolkata\",\"Bangalore\",\"Delhi\",\"Mumbai\",\"Chennai\",\"Kolkata\",\"Bangalore\",\"Delhi\",\"Mumbai\",\"Chennai\",\"Kolkata\",\"Bangalore\",\"Delhi\",\"Mumbai\",\"Chennai\",\"Kolkata\",\"Bangalore\",\"Delhi\",\"Mumbai\",\"Chennai\",\"Kolkata\",\"Bangalore\",\"Delhi\",\"Mumbai\",\"Chennai\",\"Kolkata\",\"Bangalore\",\"Delhi\",\"Mumbai\",\"Chennai\",\"Kolkata\",\"Bangalore\",\"Delhi\",\"Mumbai\",\"Chennai\",\"Kolkata\",\"Bangalore\",\"Delhi\",\"Mumbai\",\"Chennai\",\"Kolkata\",\"Bangalore\",\"Delhi\",\"Mumbai\",\"Chennai\",\"Kolkata\",\"Bangalore\",\"Delhi\",\"Mumbai\",\"Chennai\",\"Kolkata\",\"Bangalore\",\"Delhi\",\"Mumbai\",\"Chennai\",\"Kolkata\",\"Bangalore\",\"Delhi\",\"Mumbai\",\"Chennai\",\"Kolkata\",\"Bangalore\",\"Delhi\",\"Mumbai\",\"Chennai\",\"Kolkata\",\"Bangalore\",\"Delhi\",\"Mumbai\",\"Chennai\",\"Kolkata\",\"Bangalore\",\"Delhi\",\"Mumbai\",\"Chennai\",\"Kolkata\",\"Bangalore\",\"Delhi\",\"Mumbai\",\"Chennai\",\"Kolkata\",\"Bangalore\",\"Delhi\",\"Mumbai\",\"Chennai\",\"Kolkata\",\"Bangalore\",\"Delhi\",\"Mumbai\",\"Chennai\",\"Kolkata\",\"Bangalore\",\"Delhi\",\"Mumbai\",\"Chennai\",\"Kolkata\",\"Bangalore\",\"Delhi\",\"Mumbai\",\"Chennai\",\"Kolkata\",\"Bangalore\",\"Delhi\",\"Mumbai\",\"Chennai\",\"Kolkata\",\"Bangalore\",\"Delhi\",\"Mumbai\",\"Chennai\",\"Kolkata\",\"Bangalore\",\"Delhi\",\"Mumbai\",\"Chennai\",\"Kolkata\",\"Bangalore\",\"Delhi\",\"Mumbai\",\"Chennai\",\"Kolkata\",\"Bangalore\",\"Delhi\",\"Mumbai\",\"Chennai\",\"Kolkata\",\"Bangalore\",\"Delhi\",\"Mumbai\",\"Chennai\",\"Kolkata\",\"Bangalore\",\"Delhi\",\"Mumbai\",\"Chennai\",\"Kolkata\",\"Bangalore\",\"Delhi\",\"Mumbai\",\"Chennai\",\"Kolkata\",\"Bangalore\",\"Delhi\",\"Mumbai\",\"Chennai\",\"Kolkata\",\"Bangalore\",\"Delhi\",\"Mumbai\",\"Chennai\",\"Kolkata\",\"Bangalore\",\"Delhi\",\"Mumbai\",\"Chennai\",\"Kolkata\",\"Bangalore\",\"Delhi\",\"Mumbai\",\"Chennai\",\"Kolkata\",\"Bangalore\",\"Delhi\",\"Mumbai\",\"Chennai\",\"Kolkata\",\"Bangalore\",\"Delhi\",\"Mumbai\",\"Chennai\",\"Kolkata\",\"Bangalore\",\"Delhi\",\"Mumbai\",\"Chennai\",\"Kolkata\",\"Bangalore\",\"Delhi\",\"Mumbai\",\"Chennai\",\"Kolkata\",\"Bangalore\",\"Delhi\",\"Mumbai\",\"Chennai\",\"Kolkata\",\"Bangalore\",\"Delhi\",\"Mumbai\",\"Chennai\",\"Kolkata\",\"Bangalore\",\"Delhi\",\"Mumbai\",\"Chennai\",\"Kolkata\",\"Bangalore\",\"Delhi\",\"Mumbai\",\"Chennai\",\"Kolkata\",\"Bangalore\",\"Delhi\",\"Mumbai\",\"Chennai\",\"Kolkata\",\"Bangalore\",\"Delhi\",\"Mumbai\",\"Chennai\",\"Kolkata\",\"Bangalore\",\"Delhi\",\"Mumbai\",\"Chennai\",\"Kolkata\",\"Bangalore\",\"Delhi\",\"Mumbai\",\"Chennai\",\"Kolkata\",\"Bangalore\",\"Delhi\",\"Mumbai\",\"Chennai\",\"Kolkata\",\"Bangalore\",\"Delhi\",\"Mumbai\",\"Chennai\",\"Kolkata\",\"Bangalore\",\"Delhi\",\"Mumbai\",\"Chennai\",\"Kolkata\",\"Bangalore\",\"Delhi\",\"Mumbai\",\"Chennai\",\"Kolkata\",\"Bangalore\",\"Delhi\",\"Mumbai\",\"Chennai\",\"Kolkata\",\"Bangalore\",\"Delhi\",\"Mumbai\",\"Chennai\",\"Kolkata\",\"Bangalore\",\"Delhi\",\"Mumbai\",\"Chennai\",\"Kolkata\",\"Bangalore\",\"Delhi\",\"Mumbai\",\"Chennai\",\"Kolkata\",\"Bangalore\",\"Delhi\",\"Mumbai\",\"Chennai\",\"Kolkata\",\"Bangalore\",\"Delhi\",\"Mumbai\",\"Chennai\",\"Kolkata\",\"Bangalore\",\"Delhi\",\"Mumbai\",\"Chennai\",\"Kolkata\",\"Bangalore\",\"Delhi\",\"Mumbai\",\"Chennai\",\"Kolkata\",\"Bangalore\",\"Delhi\",\"Mumbai\",\"Chennai\",\"Kolkata\",\"Bangalore\",\"Delhi\",\"Mumbai\",\"Chennai\",\"Kolkata\",\"Bangalore\",\"Delhi\",\"Mumbai\",\"Chennai\",\"Kolkata\",\"Bangalore\",\"Delhi\",\"Mumbai\",\"Chennai\",\"Kolkata\",\"Bangalore\",\"Delhi\",\"Mumbai\",\"Chennai\",\"Kolkata\",\"Bangalore\",\"Delhi\",\"Mumbai\",\"Chennai\",\"Kolkata\",\"Bangalore\",\"Delhi\",\"Mumbai\",\"Chennai\",\"Kolkata\",\"Bangalore\",\"Delhi\",\"Mumbai\",\"Chennai\",\"Kolkata\",\"Bangalore\",\"Delhi\",\"Mumbai\",\"Chennai\",\"Kolkata\",\"Bangalore\",\"Delhi\",\"Mumbai\",\"Chennai\",\"Kolkata\",\"Bangalore\",\"Delhi\",\"Mumbai\",\"Chennai\",\"Kolkata\",\"Bangalore\",\"Delhi\",\"Mumbai\",\"Chennai\",\"Kolkata\",\"Bangalore\",\"Delhi\",\"Mumbai\",\"Chennai\",\"Kolkata\",\"Bangalore\",\"Delhi\",\"Mumbai\",\"Chennai\",\"Kolkata\",\"Bangalore\",\"Delhi\",\"Mumbai\",\"Chennai\",\"Kolkata\",\"Bangalore\",\"Delhi\",\"Mumbai\",\"Chennai\",\"Kolkata\",\"Bangalore\",\"Delhi\",\"Mumbai\",\"Chennai\",\"Kolkata\",\"Bangalore\",\"Delhi\",\"Mumbai\",\"Chennai\",\"Kolkata\",\"Bangalore\",\"Delhi\",\"Mumbai\",\"Chennai\",\"Kolkata\",\"Bangalore\",\"Delhi\",\"Mumbai\",\"Chennai\",\"Kolkata\",\"Bangalore\",\"Delhi\",\"Mumbai\",\"Chennai\",\"Kolkata\",\"Bangalore\",\"Delhi\",\"Mumbai\",\"Chennai\",\"Kolkata\",\"Bangalore\"],\"shape\":[1000],\"dtype\":\"object\",\"order\":\"little\"}],[\"PM2.5\",{\"type\":\"ndarray\",\"array\":{\"type\":\"bytes\",\"data\":\"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\"},\"shape\":[1000],\"dtype\":\"float64\",\"order\":\"little\"}],[\"PM10\",{\"type\":\"ndarray\",\"array\":{\"type\":\"bytes\",\"data\":\"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\"},\"shape\":[1000],\"dtype\":\"float64\",\"order\":\"little\"}],[\"NO2\",{\"type\":\"ndarray\",\"array\":{\"type\":\"bytes\",\"data\":\"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\"},\"shape\":[1000],\"dtype\":\"float64\",\"order\":\"little\"}],[\"SO2\",{\"type\":\"ndarray\",\"array\":{\"type\":\"bytes\",\"data\":\"H4sIAAEAAAAC/1WZf4hcVxXH20qppMVS3N3sZrO7szub3dnZ2dmZ2fn9886befMeEojxBzGSihqahiq1JQQ02qKVGFmLaTBFUtLSNBqLlTVQg1FM0YR0IUZjUFkDIRADtbSlRtJqDI2Yme/n3tL95+3c996958f3nPM95516N7Zl7wtN84ezt/6+3Da739x4fNRPmb0nuzeM+XrfUnD513VTW7Vy+JGab051l//eMQu9vwHTW/5p03zi+OitV0e0/nLNPNp94Wpa+57NmMu7uhtltd8uY8Luwl1Zs6V70Hse+xXMTG8honMm2rp/MW1623+1aN7a2P2vaf4d695Z4L1R09v2LzlzW/fvtwHnG71/sGmeOXDr71fGbOv+vTbL8wXp+0DLjPX+ier9b6ZN93bfw2nt80gRe4R6ry9iumqv2lQ1P7p1WYnG+R0izyR6FHTuUEvXzZ7Ou7Oo53+Y1ftX8lxT2Cche58oc17a2bMnf6cpu3/MymOwSwR7R2TffwSy+xcy+h1MYLeGfu8xkmN1E39g5+MDWi+EnJPSe8eaOn+bJ31KhvOtH5DvtQZ+9ZEn0D6LUfSYlly/C4Sb+1rS9/4OOEtg9wb6evLHH5vy0+cKwsfJAdmr3JD9tqa07pVkj7tD9M3jZ5/fcZ1/qCk5vxFq/2QU+/drnyfw06YJri3p+dEA+xV17uGU9HyyqPVlj/V+nmvo/noju10A/8vz0vMpT3YvTmCfWelZ74DLFnINICfnrZ/T86k0OExhvzHZ7UjJxVfv95RBLuJ9/bhw+nqA/X1dn23ruQ/52If7j9XAbwJcgZ8C8q1pEadVF8fKBzmeCzi3gb414iMtHO3Paf8fo/fjTd5ra58dJem/ZJwdevH6eQ+9i+hTlNxrm9g30L67x/TeR3zky0juG0VwsRo/ZnT+cxXsP4qcFe27JcAfUfRrgdcCcpCfjqV4Psb9GDiydokL/4+i56aOfp9vK17eQP6rUeHxjgy/M9LbpLBDFflqylP35sgHWem9jrzttcFfhudsngyQhzi+liWPVmSPnwX4wcZnVPu/lCfea+Cqgp6z2ufPPvWjqetnffTzXTwpjvFX1Tg79eLjJ02XX3vLI5789mISvExSV2LYuQ+5PPzq6fdsFf/HuI5zzmrsFNP1e+h3gri8mnV+Fu6T5J+q7JIw8tOqFHkRnBzIkxfn0W9OeB8MiTOD/evgpEBc2HxTQ26PdU/P7ZwhL1XIpwWt93d03i8MOK4Sn5PyYwQ5FyfZl7p7cYr861HfiOtDeezfYZ8EuCEeLhWoJ6t13qfbxLOti2Xych1cGL33P1s/yF9n+/X7Vc/ht2f3j4ObG+D1az71ukwcZCXvhjbXEnU7Lr1+Q97a0mGfErgj7nbgn/3E2RnibmMCP0fAeQe85LFDDb1DnXfLsLJ/E1xGiIec1p9uuzrSE+efIXmnjhwLyDWnc05nwUuOuI7gjxz8oMR9z/EA5Q94xe5+8DdHPaSuL5fBRR/3ye9XWuTTGvfH5KdXWvBA8vQgdnqopfP2WbtXyZNT7Eve22ngAy3sNQP+ZqX/dzvk7RZ2wf774GGXbH1oSv9vdYSXexrkE8s7Yrp+qowcnquHOj9B/l5wcS18zrFe1L5v2bxbIR/EHZ/qyR0nn5Tz2udmm33gYQ+1wQt1rM8jL6XwHzznPPX/wILWx+GZyVl+w3OW5sBlg3qWgr9g37+29fztbfRugbs4fhyHn3mursovRc4f4pwU8q7BTx32mWe9Ds6H8QP6Li6Qbzrwgw5xvgCOO9SvkPxC/XkC/pVLUWfq5EHsvDgh+f4bunqk/IJ+R9rwQOrIv0LnV8k/TB4o8P468vMgeMq5vkJ5ve74q+wF3i4nsdOAq+/CLf3DkZazi+TzqSf4d3Ndcn6fOLgG39gOT4028G+o/b5j/VcET57LO5IjSb5uSP4vwj8fDIhzW6+r6DvHftjxB9hppOniX/0H8XK0wfoIOCnJLz+Hb7+C38/keD7AbzPISdzcTR2Zh88OUr+3pnk+pus5o/vXGx+s7/cTZ7tK2MXyIt/lEVu31a/YumOIP4+8jz+eIj5GQ6416oHtqwraf2Ua3Nbhr2niHd5baxAv5KXr1M8tI/RLQ+SnIvE4LvmmDXWl4/ob5asmdYY4f8OXXb5CX/3yLH1ZizyN/fa24SXgZtsQ/ugQX+BzG/3M2yXs4Lu+QPtmwUmE+hGCe+Jrifr7TEBdI59shu9ti2DHBHEPPteW2d/mwShXeIuHnR+gL3sa3HfoM8/QP+1Jg0MrzwJ+yZCXk6wT34v0PTezbh4hvIxhrwT5yuJlWvt8Kav1d3zXlwpf4/CTMvODjItrW9eFyynydsPxZeXfKeSC522gHl0rY79x5C+hN/OR262fRsFlgfqBH//ksV7H3/Sv79n84bt6pzxb4zxffjoV6vrtDrjNgatZ8FghflvwxIqbQ9i4kh9zev9v4HYDc5TTC8xNSvDHFnZah76zrt+UfWfot+rUCeYSd1WwR5P34N2Xatg55/iN9JgiDsi7S3Hsn3b1VHiKg0ffzZVsP9fzzyfB5bE68QCvuZCDr7XBJ/3syrjj8bKrzfPwvpPg/gXy2Aq87DBxH7f9VIpzUvivjzjqOH6tvtzAQy1vmybflLBnFvxOIH/Z9d3iQ8Psn+F9O2ex/U4HfcqON+tci69p8kqZeCi6uqT4C8GpfT7PeZaPz5Dfh8BlgvxIn3WjAl7I5zc7yAUu99L3rBohvtegdw0cFLEPPGNnjPMGiYcS9+fJI2vhEx77ToJ/W+fT2HcGf+ThAfDnw8zttrbo09YxH4Unb5wnfiwvrru6rTjJI8eYq2uao2Cvg1V4DvPDIXjOnqzL/+IzoauXmpvg72t2Hsbc55SdG8Lf9hO/58jz2+n3xpnHPZamn2aOmwjBcT/yMefa6n2w/rwaEscL2CWL/OS9t4vEMTxwRxZ/Mi98MsCfcdcPqW4E4GkM+05Qn5gXLMOrFqddn6Zz6f/2Vfidok8oO14te7bwE3OJO+BFF+C3V9r43/K/UeK3H7nm8GvT8VDVRfrlB+HXR+AB73RcvhZ/sHPANH0ic8Dn4o7n2bjr6ZO281XmzR8mb79ZpQ7Z/qKCPBn6kAa8jf7nbIz7k/DAGnFB/7wrS//uYXeLZ/x0vc37dckRku9+afvvPHmVuvRuP/zQR4429o9y3+ZfO++bhMfQT2ycc32D6g71N0K9WRlycioOmNesZ46ze4Z8UiffZMBzgP3orw6Rz46m2I/+fbud+8If+kaw04ibp2g/m2+SzDVs/rZ8BXvFcsQLc7H/2P6kDD/Icn4Oudqu3sqfCcc7hcsyPLIMz/HRi/oTzaNX252rOk5+exH+fYT56K7A+UFxHpDnmg5v8pfN67Y+FMAFczef/mNziD/ov/Z7bl4sPBY4d5J8RT14NnB13/bnwgv5Y5k5ZBTe1LRzI/J1Cz52Lkd+o6/eHXW8Xn1RAb7YxC52Xk6feiZPPYsTvzH6K+y4d5i6WECeGeKCOcN98J3z8OaDljfSP90bOr6gumDnUDb/gdPf893nJeP0Vv6hX3296uqP8mHRnaN845Mfpt33Pelbo9/3Hd4lV546aOf48JXHfTdnUv2weMhgL+L5EHWnb9jNS+T3fvhTSN9F/Vi238XsfDLr5kzCe9t9X1K+Bm8ReP71FPvAew8Puu9ldn6j/GT52aTDmfSLu7omfpDEbxlwwveQ0wXiLEZ8z/BcgXrUcvMS4Z3581G+S93Jd8fbVjt86zsF3zmWYpxv5xyD4An/PWy/O06hR5Ln4fmf4Tvg5QL4GXF+UHxY3kz8x4b4vkA9XTXgvsPYfkX+GyZOG47vCS+h+15k+3/Vi/frm/oH5kcXiccTNSefcFkED77keZ5+MJnEf0lXl9U/B9h3Avnpm1JZx6ft/F/2nnPxIn1G0L/CvtTHe+xclnnMhfe/J/wfDHR4xUAfAAA=\"},\"shape\":[1000],\"dtype\":\"float64\",\"order\":\"little\"}],[\"CO\",{\"type\":\"ndarray\",\"array\":{\"type\":\"bytes\",\"data\":\"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\"},\"shape\":[1000],\"dtype\":\"float64\",\"order\":\"little\"}],[\"O3\",{\"type\":\"ndarray\",\"array\":{\"type\":\"bytes\",\"data\":\"H4sIAAEAAAAC/12Ze5CWdRXHUQdBYhAVMokQomWXZdnbu8u+e3/e+7v73u+35zWRcTNsGAhRwkJNASWSTJ2CIUoR1pDZcNQEA4d0iIaIYMiohoiNEBMzyDbtQrW738/zzND+8+z7PL/LOed3zvd8z/n19Q3/7eg1JpzctrRzQswYM/pXNBwjfy8F9H5x0VjWOfzfbofx8yPDf6dyxq1rLiT2HC0wvst4L7FnxpoXwprn6ND39zPGXHPjG0POhJ4fpYyRR9WWbmPk84zthsbNmG+Mbv+q35gyEBhc9ceEERxcNWXg5qLen0wbyeHlL1wKG3+vGl7hFVPfA1mNn2Lq+1UJo3NUYI/W3VqncfdltU6uRb/7fZr3mYTWG5s0nhvZ5pqU9O3tMN4cGv7whx7JvTIl/eaV9f6rWWNEDfP3Jc1fkdPzYBJ9uvX7rbT2eS5ljIp7Q0p2vBgzNm8a/rsuITvcGZBch+LG/SMTXutmXl7jl3ZpfMGh9f8Tlpyb07L3TRFjRP2E06txv0GvqUGtW2na8o6uF49Lr/EB7X/QsmONzmc6fvBgQOOPlWSfbXP0fClhjA4/nZU/7Irp/SKH3neVJefrcd6nsK9b5/CtmPTcHOa8GjVvoFnyrito33q39FveLbvfwXrbctLnF/Xa30wid4v0GVsjO2yqw34F7ffPBdh/PvaJ4E8F7b/EIz9qCHMeNcRBhP2T+HdS9gsGtG7Rz7k1S56aHvZpkjxP5zT/xrL0nV/Gz4r4X8oYCcO+n2Sk1w+8Os9fp/T7+ih+F8OPc/Knh7xa7yt+Pf9ckh619egVw09KyMs+axOy1z631hkMEK/Y/Qzx1x+Xvh+gx5pKfR9TZn6P1vt4Cj9qZJ+MfleY8qs0cXG6Rfo8gB2fzGG/kOz+IvGeS+t9G/G1nbhZ6sRv/TrfWwzpuxr97srxPqP3j/vwry49Izn8PKZ4vtslOVcQn4M1nJsffaLgTJv87skycWEgpxN/MWSHHTmN/1xYfjARvbdWad+n5mHHiJ5Dec65qHNaT/xEwbHvlNinV/vGC5wrdnCamledkz0XmdLrkxmdz7+DkiMMXlZ6ta8vAF5lNP5r4PkkU3p6DOm1LE+cZYmrBo0P9WrdDV7i3EfcWv6d1v4dWY0vWXjQw7y87PV2WOf1+SL+0Sk9v4G841z2eWhf7Nvfq3mtKfAhIju8Cy5vdBHP9Vp3tY94B3dWdUjPh4Pkr5Dmxeo5h6T0P27lvTbkSIILaf2ebOFEBlwL6f3tcc69QvuuyWif3cxbWiN/c/XITl8oS57Z4GEkzrwSemYlz0NJ5uc5x6LWmRXlGcPuvehLnO7KyN5zHLJjexH7xLBXg35vTZBnQ7LrtiJ5xZBd2gpa51cJ4dHV9chXlj9+O449feSNqOwynMcVT7yv7wZHnZJ7oU/6f5DDzhbeuYi/Dvw4oH3ypuz0uwD6lTmnGPHRCR8o6ZmIkn+ymvd18HdCHfmkifjKEt9WnHRpv+drtP+RKu13JKf5h53Sf29Uz7ng9UZ4ytBcjZ+YRw7y53L0nAxeHyWft4HLHTFwpFfP89hvaknnsdLiZSnpc7kEnpDnH4gzLwL+EqenTezTSnwn8XfyTd6r8/WHNP/DMjhWD74mwU8H59xOvotI/8fiyO9Bfr/2eQLeuAveNaVMHIJXdwd03o3wsIdLWses0Pef5cFPE3maNP6Ndn2/YEr+YAL+VQlfgwe+HiEfZCTn9znnM/jNMS/+lZBc1QnwIARf7cBPy/LnDwuSpymOf6fwG5fe35PQelsyWm9nXPL8iPwRT2Ef4n9fTu8PdBCnvTZ/0/sw9s5Ljmfw80xe51cEF44F4BF57TsNvpVzaf4wLumcPayHP6bS2CcOr4jAv8vyq2byWJeVn1v1rOT9bUX5x6PWuCy8uIdzaJI966Lk+V7kKHL+bhuvxF9N8NMNjwhKv5n4+VTwchFy9vvx1zj5JEN8ezXvQBZ/qqOeqEXOXvA0yHc//MbimX7Og3plrB+/AFe3hNAzAo9J6rne4ndu4iED7mW1roO43e/Q81MZ/LpB+5xLgrNZeLJBvQRPHaiWn71csPFNfmnIrnuc1FPg5OUG8m03eSIo/R+nrrkf3D8OP/uLl3Fu4seAjxAPpzLgG3mhugf/p44sElcHTPwpb9tDcU++WeIHFzycG3zzLLxwWpH4KJBng9KjL0P8+eHn9Rp/mHqzag77hrBvQL+fyAg3vglP3OtDb+Sr9sFPwIvVWRs3Ru3ZT/13h0ty/JD6zkvduLNEXrNwEZyfiV9MA2c/QZ42A9ghqXX/WoSnJanXqJvejOu7u458QV4cFyePwP8vd1IPEcc/Bn8bPPDOKPnMKTmvAU9N6pChjF2Hyf9y+FMePCPvrV8ALlCXL6NuuB2/9ae1XnOUOARPN86jDuL7UKPWfS+MXXz4EfXlgBO5iQ8TvvxRO3mwGR7SBl4Utf+1CfwiSpxRl5lpG68kJ371KngcaORcFtg4IX/ykGec8HMPdVav1ltiXllf3VugTsmSNxZo/338nuWlbk9zTgHiDp68mngoeMFhK0/O5fzw4y9afKUgucNl8n0Z+Rqoh6gbfGn4JXaYYfEv/PiRMnVZCdyL2HWwzikI3yvAfzLUC1HqVOJwVZi8jb+NBwdmpeG5fvw9Ds9qAI+R+2gQe1K/rg8yLmPH3ai+Neh/wGPjt+Rt0fmtS8MTajTuInG4uCh5/1skH1Hfu6P4VSM8GD+dSr6/x00+C4MnBdvvlF/d5I0E4+gDNTeDI/RfJsOj+6z4qqWvUoBPwNt+GUCPhM17RveLUsc+kiQ+uuB1XTZv1ZN6Zif9kS2sf7ISO9VKboN+xvgC8UU/ow28fdvifV7wfy5y0zd6OYXdkpLjHPXKDRn5U8oAN4N2H0Dx5iTuie/pRfnXP6j/DsGrjC7s3Cx9fgteL4b3PGjx4Bz6WfFRsPshqm/p050jXvbB+6ankcdPPW7iT/Nsnqw824E/ZIlP6oxLLvSAXz1furK/ebpV/vZZzs0bt+NMcdGm35409baLvgX8NkScnUAOV87mI/K3CPw1RP1MHN/kkz1aLFwN6ve4JP0O/PmFEvndI7t9GrkWWn4LTi0rgePw4VnUfe9EqE/JJ9PhB0/7bL+Un/jwqyb8u5U6Dxx3h8kj5JsNrf/XZ6F+3t0NrjdxDh0ad55+yc0Fvf8SOPJoGry36gPk88ETD6e0/7Me6owa6T0pCh+kv1RFfbKoQD0Lnx8Db18L35+A3y+nztlclvwLwa8++O4K6viDzcQd/Y111IWTqP9OpsD9sN3vVXzRp1pB/6YL3nybiZ07OT94xaEsdaEbORqwo4fzot/wpxR5hL5PhYf6Cj5UW41/W/VLCnna9JxVIF9QdyxNg+ch2e+s1V9B7z2V0mu47pNfeOANBfnnv8rUPQZy8v21NLhYpm/K/HRcepXzkvd9p12/KW7gcVd3gFs+3jcTzx76EMw/2oOcDuQOaN8vI9dxeNrZkI0Twiv2uZH+8yov8dDA+dQT5y02fkpv+ERVHB5Evlgboa9HPfE96onZnfRDwOtrwbNDDdxjkD+buW84R511S0zyX8rDM8P4RZ76mHMaBJc3hSTPDPpuJ/CTv4VsnBPPb8JfK+lj0ae6yk2cUU/sB0c3+cFzeOtgO/dA+PG7BfplVp4NKc7vy9k4ojxVgfxVkvuZpPznY9Er7yO2VZBXwvKbbgvP4QHPZqmnXdx35TV/IEmfj3psLPXpQfAjSV45FaI+oQ+SI/7Op4kb7h3esvp1BvwwxT1CEDuAr3dxX7SXft315NlX6I+vsfq0EfgYfdDvWv4Ut+tY9Vei8Aa3na+U5wL0KS3/s+55UtQp9EfanOQN7sfeaSI+8Yen6G+fo68x04W/dWDnEPcx4M11WeSkH7zXqncc5Eny2QnqjRfhIVss/RZgl7KNe4rDNHmPPNeete8vdX7kgTux+wR4745G6jju5fqtPEldv5j+zHb4T5o8shO/qMCuK712n0D44EKuKvyJPuwkzvmn3MNspR7YWEHckk8cBZsv6Hs7fcM8fIf71VPzWcfiRfTnAz30o3L0M8k/Y6nrN5j2fYzOIQcviGm9Wuxzb4n1HYoTg3uDYfl0buTviQbxxj3mGeqt817bz1QH1nKP1Wb38dTfSnKfSN2yvxJ/g2ccmc/7VvhpJfdR3C/NNrXPMXjVreSTC3PovyXgBdQpTurpi+Bmknyd5V52fc7uMyse2oz/AY6H7zhAHwAA\"},\"shape\":[1000],\"dtype\":\"float64\",\"order\":\"little\"}],[\"Temperature\",{\"type\":\"ndarray\",\"array\":{\"type\":\"bytes\",\"data\":\"H4sIAAEAAAAC/22ZW5nbWBCEDSAETCCPvsk3+SbJyqMJLAETCAEDCAEvgBAwgQHgBTAETGAIbDLdf2nrZP3iTzr3PtXV1a2q+v1r2n+ev36Xqr1+/s75fIrn1yKef/Tt6PN3iOfnrP0c/jhl/1X26/J9F/3fctxtn/Pvct42xy2y/8H/q3n2r+P/6znfn3O+eY6ft3/ff/9W0f6dfovs16p/9ONcm3j+q8vzLPN8TbYvc/1WdmHeGJd2eh71PvZf5zxV/Le5/qjL9efZby87xfg+58NOff4fcj/bGD/mfvbZf6dn2qN/rjeus33j4y7H3Ncq12EfrL/J/c3VL87d5znW2T/Pedtl/3Xua5rrp53v4OYg+8fwnfAV625zvlxvvBJuzI7jZe4H+05zXJ3zJv5uuf74qHGBS/A3E75inqVwFPtNu/1gnXx+ljirZN/ol/h98b5P+wzn/Hz/pZd9oj396AJum2h/74XzWL/R/uM5cVVNcv1v8kdwDu5iXu4p8Txea1+f/T5Yn/uayc7gONbHP/Ncr1OOYz3ubSs8mX0vnXAE/sEh/gruYt6j9sX5ox98VOXzNOdrdX9xvvTTj078hj1iXey/zf4r7Sf+a91HtLP+otjPSe2s5+c7pF2Ozr+vqsAZ7clHr8TVz173Ud5zrLvWedlfmjnvuynsn+f52sou+F/gFLwvxf/gFJ6J/SSPXRrnZ93fSvzi/JR+eIXH8l5Gtfww9tfpvOA39rXVvfEeHMIT8b5Sf+fjxO0o7/GZ+21ZZyv8hX3g2fSPKzy4lb3czo3iRtzfWfaK8XPxAPyEH8Z+T/KT8J9O8Y14GeN3RTzfOD+OasXZGJ/+dW/cL65L2QN+BBfwGOckvhPv/TxrxVXuMezSF357KPDeyP+i/2BX/CT8sBO/R3unuA1e4/9YxO304zt43bmfPLaKw/gj4+O85+I8c/FMvF/Lv6I95x/vFZ9iva3ajX/B5/iQ/TrxKO+JA8SNsMtKfOy8h07BrlPdP3HB8DfaKo7hN9gDHoTfPQ5NE59D/LD54ZNn63h+FDqiGvi49KMY30kfGh89V47D11H+H/0nhY6dCh/4I7hg/+yLOI7dwS9+h07CLuiWaD+67hwTp/au1375IbrFePk18G+sMxNPmB/c2T/8gj4/6N6xq+u2k/iM+4nxa/kXPGNx/9UWcaMXDuGFGAcP7aTjw1+Jz2fpM/R2jJ/pPMwT868VT4OnweVMfsk66Gf0XcxXy/+C986FTt8XumtX7Ad/qz1eoo/Hneu559HzkbYXj8T4ghfgM+nluecZ1aAXXQe00j/gHxwbPsZ74Zd1Yp6080cvnjT+ez8XfHAq4j98vpGdor2VfYyvfnbSSabryC+rwZ7Rb/B/+Ixzwfvoauzq9jvIjtyL24N4OCn0+5CXGW/fa/FdzHNyfY2fXJdFvFlIr8R+4OOldAd49XxiJx4j7hAf0Efg+X/9DJ6+dEX8HvID8mHTMfe24FV05dL1KXnkA16fKR/hnOgM4jq4g39inbN0AuclD6HeEPM3zneKHyftw/TxvcDfdS9eQ4+b/98XRXzeKH4YryuulPpjK7ubnvvee16tPLlSvMbOni+32ic6hbzXeXoi3DjPzIq8uVfcdDweNc746m3Qm9gfnFOPcB6uhAt0Fv5h/Fvlfb+32g9+y32zX3S4xbXXsdD1nXRSyZ/UVeAX6hamD790ng8+p0UdqZV/YjfinevAueeN473rirdOet39uHV/aFvZOcYvpBc4p9WvrgNfx/mO4gvqLo7Hzv3hcS7qEbX8knZ4JfZ3LvTBWXGD+ojXm+riXjfKV8lfvU6187jy3iqP4hxW5yLvfy7Et2Gvjexs+pI4eFnoPDF+qG9yH8QRj0dLnRs84a/RPiny07IuNpOfEC9ivUb8hd/jh9SHTFfeuz/sZ3rutvW8TPqvK/Kyg+an3mV11+eyyKs711vX2uu4r7qw01rxynjpvVMd1f167nVJ+PrWe3502ykukQdx79RlTV9RlxNfrsR3+CV+bHhsz4rH6KVROirnQQ9bvlSthSOvoxJ/JoV/doUffNM86HM/V1XU8zqvV5K3U+++Dbqac6K/qecxL/di+dmj9fz5P3UxcBn72xf5zlo8Sj3Q7P6jU90BfQrOvK5Qaz7yLs4PPsjHwa/771A/RX9ZHQX9e+s8/j2GujrrW31KdcCJ8+trJ56x7wxfe+EKv7J4MTr4/alevnQdLb068Af6nHWMp8mfpAOKOk+1VZ3AcIaOks6sVC8yXfpHvlAL35af6ntS4bfv50IPT4VXz1tXxXrDvBYHv/eFjhz80Ot8lXQG40wXjudul1uZb9Y6N//kMZ4Xdf5dgjzrPtQb/N6WRT19UdT1d4rTzn9b5THEb4+DkyJe17oP0zn6rtP49wjVf5byF/wXHNv9P3rNC46JC/Au8crqrdeT9IjpN/TmZSl+pz95KX5A3ujf5xqvu1/mBd8N+b3lYfDYeNBP8A1+6XXHRvtFZ3vdciG7UxcB9/bdVDp75/nHW+f1O32/aVSvB8/g33iU/HbcFN9FFkVde1vog12Rr55UL7H7ehzkH+g44j78yX3BZ/+r1z+6Ij9dOy8/d0WeOvXvEMR55V9z6R/z+0cj/JmO+OX3/wIXIk1xQB8AAA==\"},\"shape\":[1000],\"dtype\":\"float64\",\"order\":\"little\"}],[\"Humidity\",{\"type\":\"ndarray\",\"array\":{\"type\":\"bytes\",\"data\":\"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\"},\"shape\":[1000],\"dtype\":\"float64\",\"order\":\"little\"}]]}}},\"view\":{\"type\":\"object\",\"name\":\"CDSView\",\"id\":\"p1067\",\"attributes\":{\"filter\":{\"type\":\"object\",\"name\":\"AllIndices\",\"id\":\"p1068\"}}},\"glyph\":{\"type\":\"object\",\"name\":\"Line\",\"id\":\"p1063\",\"attributes\":{\"x\":{\"type\":\"field\",\"field\":\"Date\"},\"y\":{\"type\":\"field\",\"field\":\"PM2.5\"},\"line_color\":\"#1f77b4\"}},\"nonselection_glyph\":{\"type\":\"object\",\"name\":\"Line\",\"id\":\"p1064\",\"attributes\":{\"x\":{\"type\":\"field\",\"field\":\"Date\"},\"y\":{\"type\":\"field\",\"field\":\"PM2.5\"},\"line_color\":\"#1f77b4\",\"line_alpha\":0.1}},\"muted_glyph\":{\"type\":\"object\",\"name\":\"Line\",\"id\":\"p1065\",\"attributes\":{\"x\":{\"type\":\"field\",\"field\":\"Date\"},\"y\":{\"type\":\"field\",\"field\":\"PM2.5\"},\"line_color\":\"#1f77b4\",\"line_alpha\":0.2}}}}],\"toolbar\":{\"type\":\"object\",\"name\":\"Toolbar\",\"id\":\"p1020\",\"attributes\":{\"tools\":[{\"type\":\"object\",\"name\":\"PanTool\",\"id\":\"p1047\"},{\"type\":\"object\",\"name\":\"WheelZoomTool\",\"id\":\"p1048\",\"attributes\":{\"renderers\":\"auto\"}},{\"type\":\"object\",\"name\":\"BoxZoomTool\",\"id\":\"p1049\",\"attributes\":{\"dimensions\":\"both\",\"overlay\":{\"type\":\"object\",\"name\":\"BoxAnnotation\",\"id\":\"p1050\",\"attributes\":{\"syncable\":false,\"line_color\":\"black\",\"line_alpha\":1.0,\"line_width\":2,\"line_dash\":[4,4],\"fill_color\":\"lightgrey\",\"fill_alpha\":0.5,\"level\":\"overlay\",\"visible\":false,\"left\":{\"type\":\"number\",\"value\":\"nan\"},\"right\":{\"type\":\"number\",\"value\":\"nan\"},\"top\":{\"type\":\"number\",\"value\":\"nan\"},\"bottom\":{\"type\":\"number\",\"value\":\"nan\"},\"left_units\":\"canvas\",\"right_units\":\"canvas\",\"top_units\":\"canvas\",\"bottom_units\":\"canvas\",\"handles\":{\"type\":\"object\",\"name\":\"BoxInteractionHandles\",\"id\":\"p1056\",\"attributes\":{\"all\":{\"type\":\"object\",\"name\":\"AreaVisuals\",\"id\":\"p1055\",\"attributes\":{\"fill_color\":\"white\",\"hover_fill_color\":\"lightgray\"}}}}}}}},{\"type\":\"object\",\"name\":\"SaveTool\",\"id\":\"p1057\"},{\"type\":\"object\",\"name\":\"ResetTool\",\"id\":\"p1058\"},{\"type\":\"object\",\"name\":\"HelpTool\",\"id\":\"p1059\"}]}},\"left\":[{\"type\":\"object\",\"name\":\"LinearAxis\",\"id\":\"p1042\",\"attributes\":{\"ticker\":{\"type\":\"object\",\"name\":\"BasicTicker\",\"id\":\"p1043\",\"attributes\":{\"mantissas\":[1,2,5]}},\"formatter\":{\"type\":\"object\",\"name\":\"BasicTickFormatter\",\"id\":\"p1044\"},\"major_label_policy\":{\"type\":\"object\",\"name\":\"AllLabels\",\"id\":\"p1045\"}}}],\"below\":[{\"type\":\"object\",\"name\":\"DatetimeAxis\",\"id\":\"p1023\",\"attributes\":{\"ticker\":{\"type\":\"object\",\"name\":\"DatetimeTicker\",\"id\":\"p1024\",\"attributes\":{\"num_minor_ticks\":5,\"tickers\":[{\"type\":\"object\",\"name\":\"AdaptiveTicker\",\"id\":\"p1025\",\"attributes\":{\"num_minor_ticks\":0,\"mantissas\":[1,2,5],\"max_interval\":500.0}},{\"type\":\"object\",\"name\":\"AdaptiveTicker\",\"id\":\"p1026\",\"attributes\":{\"num_minor_ticks\":0,\"base\":60,\"mantissas\":[1,2,5,10,15,20,30],\"min_interval\":1000.0,\"max_interval\":1800000.0}},{\"type\":\"object\",\"name\":\"AdaptiveTicker\",\"id\":\"p1027\",\"attributes\":{\"num_minor_ticks\":0,\"base\":24,\"mantissas\":[1,2,4,6,8,12],\"min_interval\":3600000.0,\"max_interval\":43200000.0}},{\"type\":\"object\",\"name\":\"DaysTicker\",\"id\":\"p1028\",\"attributes\":{\"days\":[1,2,3,4,5,6,7,8,9,10,11,12,13,14,15,16,17,18,19,20,21,22,23,24,25,26,27,28,29,30,31]}},{\"type\":\"object\",\"name\":\"DaysTicker\",\"id\":\"p1029\",\"attributes\":{\"days\":[1,4,7,10,13,16,19,22,25,28]}},{\"type\":\"object\",\"name\":\"DaysTicker\",\"id\":\"p1030\",\"attributes\":{\"days\":[1,8,15,22]}},{\"type\":\"object\",\"name\":\"DaysTicker\",\"id\":\"p1031\",\"attributes\":{\"days\":[1,15]}},{\"type\":\"object\",\"name\":\"MonthsTicker\",\"id\":\"p1032\",\"attributes\":{\"months\":[0,1,2,3,4,5,6,7,8,9,10,11]}},{\"type\":\"object\",\"name\":\"MonthsTicker\",\"id\":\"p1033\",\"attributes\":{\"months\":[0,2,4,6,8,10]}},{\"type\":\"object\",\"name\":\"MonthsTicker\",\"id\":\"p1034\",\"attributes\":{\"months\":[0,4,8]}},{\"type\":\"object\",\"name\":\"MonthsTicker\",\"id\":\"p1035\",\"attributes\":{\"months\":[0,6]}},{\"type\":\"object\",\"name\":\"YearsTicker\",\"id\":\"p1036\"}]}},\"formatter\":{\"type\":\"object\",\"name\":\"DatetimeTickFormatter\",\"id\":\"p1039\",\"attributes\":{\"seconds\":\"%T\",\"minsec\":\"%T\",\"minutes\":\"%H:%M\",\"hours\":\"%H:%M\",\"days\":\"%b %d\",\"months\":\"%b %Y\",\"strip_leading_zeros\":[\"microseconds\",\"milliseconds\",\"seconds\"],\"boundary_scaling\":false,\"context\":{\"type\":\"object\",\"name\":\"DatetimeTickFormatter\",\"id\":\"p1038\",\"attributes\":{\"microseconds\":\"%T\",\"milliseconds\":\"%T\",\"seconds\":\"%b %d, %Y\",\"minsec\":\"%b %d, %Y\",\"minutes\":\"%b %d, %Y\",\"hourmin\":\"%b %d, %Y\",\"hours\":\"%b %d, %Y\",\"days\":\"%Y\",\"months\":\"\",\"years\":\"\",\"boundary_scaling\":false,\"hide_repeats\":true,\"context\":{\"type\":\"object\",\"name\":\"DatetimeTickFormatter\",\"id\":\"p1037\",\"attributes\":{\"microseconds\":\"%b %d, %Y\",\"milliseconds\":\"%b %d, %Y\",\"seconds\":\"\",\"minsec\":\"\",\"minutes\":\"\",\"hourmin\":\"\",\"hours\":\"\",\"days\":\"\",\"months\":\"\",\"years\":\"\",\"boundary_scaling\":false,\"hide_repeats\":true}},\"context_which\":\"all\"}},\"context_which\":\"all\"}},\"major_label_policy\":{\"type\":\"object\",\"name\":\"AllLabels\",\"id\":\"p1040\"}}}],\"center\":[{\"type\":\"object\",\"name\":\"Grid\",\"id\":\"p1041\",\"attributes\":{\"axis\":{\"id\":\"p1023\"}}},{\"type\":\"object\",\"name\":\"Grid\",\"id\":\"p1046\",\"attributes\":{\"dimension\":1,\"axis\":{\"id\":\"p1042\"}}}]}},{\"type\":\"object\",\"name\":\"Figure\",\"id\":\"p1071\",\"attributes\":{\"x_range\":{\"type\":\"object\",\"name\":\"DataRange1d\",\"id\":\"p1072\"},\"y_range\":{\"type\":\"object\",\"name\":\"DataRange1d\",\"id\":\"p1073\"},\"x_scale\":{\"type\":\"object\",\"name\":\"LinearScale\",\"id\":\"p1081\"},\"y_scale\":{\"type\":\"object\",\"name\":\"LinearScale\",\"id\":\"p1082\"},\"title\":{\"type\":\"object\",\"name\":\"Title\",\"id\":\"p1074\",\"attributes\":{\"text\":\"PM2.5 vs PM10\"}},\"renderers\":[{\"type\":\"object\",\"name\":\"GlyphRenderer\",\"id\":\"p1112\",\"attributes\":{\"data_source\":{\"id\":\"p1008\"},\"view\":{\"type\":\"object\",\"name\":\"CDSView\",\"id\":\"p1113\",\"attributes\":{\"filter\":{\"type\":\"object\",\"name\":\"AllIndices\",\"id\":\"p1114\"}}},\"glyph\":{\"type\":\"object\",\"name\":\"Scatter\",\"id\":\"p1109\",\"attributes\":{\"x\":{\"type\":\"field\",\"field\":\"PM2.5\"},\"y\":{\"type\":\"field\",\"field\":\"PM10\"},\"size\":{\"type\":\"value\",\"value\":5},\"line_color\":{\"type\":\"value\",\"value\":\"#1f77b4\"},\"fill_color\":{\"type\":\"value\",\"value\":\"#1f77b4\"}}},\"nonselection_glyph\":{\"type\":\"object\",\"name\":\"Scatter\",\"id\":\"p1110\",\"attributes\":{\"x\":{\"type\":\"field\",\"field\":\"PM2.5\"},\"y\":{\"type\":\"field\",\"field\":\"PM10\"},\"size\":{\"type\":\"value\",\"value\":5},\"line_color\":{\"type\":\"value\",\"value\":\"#1f77b4\"},\"line_alpha\":{\"type\":\"value\",\"value\":0.1},\"fill_color\":{\"type\":\"value\",\"value\":\"#1f77b4\"},\"fill_alpha\":{\"type\":\"value\",\"value\":0.1},\"hatch_alpha\":{\"type\":\"value\",\"value\":0.1}}},\"muted_glyph\":{\"type\":\"object\",\"name\":\"Scatter\",\"id\":\"p1111\",\"attributes\":{\"x\":{\"type\":\"field\",\"field\":\"PM2.5\"},\"y\":{\"type\":\"field\",\"field\":\"PM10\"},\"size\":{\"type\":\"value\",\"value\":5},\"line_color\":{\"type\":\"value\",\"value\":\"#1f77b4\"},\"line_alpha\":{\"type\":\"value\",\"value\":0.2},\"fill_color\":{\"type\":\"value\",\"value\":\"#1f77b4\"},\"fill_alpha\":{\"type\":\"value\",\"value\":0.2},\"hatch_alpha\":{\"type\":\"value\",\"value\":0.2}}}}}],\"toolbar\":{\"type\":\"object\",\"name\":\"Toolbar\",\"id\":\"p1080\",\"attributes\":{\"tools\":[{\"type\":\"object\",\"name\":\"PanTool\",\"id\":\"p1093\"},{\"type\":\"object\",\"name\":\"WheelZoomTool\",\"id\":\"p1094\",\"attributes\":{\"renderers\":\"auto\"}},{\"type\":\"object\",\"name\":\"BoxZoomTool\",\"id\":\"p1095\",\"attributes\":{\"dimensions\":\"both\",\"overlay\":{\"type\":\"object\",\"name\":\"BoxAnnotation\",\"id\":\"p1096\",\"attributes\":{\"syncable\":false,\"line_color\":\"black\",\"line_alpha\":1.0,\"line_width\":2,\"line_dash\":[4,4],\"fill_color\":\"lightgrey\",\"fill_alpha\":0.5,\"level\":\"overlay\",\"visible\":false,\"left\":{\"type\":\"number\",\"value\":\"nan\"},\"right\":{\"type\":\"number\",\"value\":\"nan\"},\"top\":{\"type\":\"number\",\"value\":\"nan\"},\"bottom\":{\"type\":\"number\",\"value\":\"nan\"},\"left_units\":\"canvas\",\"right_units\":\"canvas\",\"top_units\":\"canvas\",\"bottom_units\":\"canvas\",\"handles\":{\"type\":\"object\",\"name\":\"BoxInteractionHandles\",\"id\":\"p1102\",\"attributes\":{\"all\":{\"type\":\"object\",\"name\":\"AreaVisuals\",\"id\":\"p1101\",\"attributes\":{\"fill_color\":\"white\",\"hover_fill_color\":\"lightgray\"}}}}}}}},{\"type\":\"object\",\"name\":\"SaveTool\",\"id\":\"p1103\"},{\"type\":\"object\",\"name\":\"ResetTool\",\"id\":\"p1104\"},{\"type\":\"object\",\"name\":\"HelpTool\",\"id\":\"p1105\"}]}},\"left\":[{\"type\":\"object\",\"name\":\"LinearAxis\",\"id\":\"p1088\",\"attributes\":{\"ticker\":{\"type\":\"object\",\"name\":\"BasicTicker\",\"id\":\"p1089\",\"attributes\":{\"mantissas\":[1,2,5]}},\"formatter\":{\"type\":\"object\",\"name\":\"BasicTickFormatter\",\"id\":\"p1090\"},\"major_label_policy\":{\"type\":\"object\",\"name\":\"AllLabels\",\"id\":\"p1091\"}}}],\"below\":[{\"type\":\"object\",\"name\":\"LinearAxis\",\"id\":\"p1083\",\"attributes\":{\"ticker\":{\"type\":\"object\",\"name\":\"BasicTicker\",\"id\":\"p1084\",\"attributes\":{\"mantissas\":[1,2,5]}},\"formatter\":{\"type\":\"object\",\"name\":\"BasicTickFormatter\",\"id\":\"p1085\"},\"major_label_policy\":{\"type\":\"object\",\"name\":\"AllLabels\",\"id\":\"p1086\"}}}],\"center\":[{\"type\":\"object\",\"name\":\"Grid\",\"id\":\"p1087\",\"attributes\":{\"axis\":{\"id\":\"p1083\"}}},{\"type\":\"object\",\"name\":\"Grid\",\"id\":\"p1092\",\"attributes\":{\"dimension\":1,\"axis\":{\"id\":\"p1088\"}}}]}},{\"type\":\"object\",\"name\":\"Figure\",\"id\":\"p1117\",\"attributes\":{\"x_range\":{\"type\":\"object\",\"name\":\"DataRange1d\",\"id\":\"p1118\"},\"y_range\":{\"type\":\"object\",\"name\":\"DataRange1d\",\"id\":\"p1119\"},\"x_scale\":{\"type\":\"object\",\"name\":\"LinearScale\",\"id\":\"p1127\"},\"y_scale\":{\"type\":\"object\",\"name\":\"LinearScale\",\"id\":\"p1128\"},\"title\":{\"type\":\"object\",\"name\":\"Title\",\"id\":\"p1120\",\"attributes\":{\"text\":\"NO2 Histogram\"}},\"renderers\":[{\"type\":\"object\",\"name\":\"GlyphRenderer\",\"id\":\"p1158\",\"attributes\":{\"data_source\":{\"type\":\"object\",\"name\":\"ColumnDataSource\",\"id\":\"p1152\",\"attributes\":{\"selected\":{\"type\":\"object\",\"name\":\"Selection\",\"id\":\"p1153\",\"attributes\":{\"indices\":[],\"line_indices\":[]}},\"selection_policy\":{\"type\":\"object\",\"name\":\"UnionRenderers\",\"id\":\"p1154\"},\"data\":{\"type\":\"map\",\"entries\":[[\"top\",{\"type\":\"ndarray\",\"array\":{\"type\":\"bytes\",\"data\":\"H4sIAAEAAAAC/zNlYGAwBmITIFYFYl0gtoDyQVgfiE2hYupQviEUg8SMoPLaQGwDxAC/OheTUAAAAA==\"},\"shape\":[20],\"dtype\":\"int32\",\"order\":\"little\"}],[\"left\",{\"type\":\"ndarray\",\"array\":{\"type\":\"bytes\",\"data\":\"H4sIAAEAAAAC/2NgAAEVh2qRde4Pf+lAaSOHHXKtrwMrzB2+acT0H/pq7TBrJhBYOkDFnRyuLy6w5druApV3cxAFaqsy8XQwMQaCYm+HIJDCjb4OhbZc1xd/8HfweFglsk48EKLPPMghPQ0IwoIh+ktDHICm7pCbGgoxZ0uYwxKgsuuXwx0AlYhogqAAAAA=\"},\"shape\":[20],\"dtype\":\"float64\",\"order\":\"little\"}],[\"right\",{\"type\":\"ndarray\",\"array\":{\"type\":\"bytes\",\"data\":\"H4sIAAEAAAAC/6sWWef+8JeOQzWYNnLYIdf6OrDC3OGbRkz/oa/WDrNmAoGlA1TcyeH64gJbru0uUHk3B1GgtioTTwcTYyAo9nYIAinc6OtQaMt1ffEHfwePh1Ui68QDIfrMgxzS04AgLBiivzTEAWjqDrmpoRBztoQ5LAEqu3453AFknPHnCAcAzyOf/6AAAAA=\"},\"shape\":[20],\"dtype\":\"float64\",\"order\":\"little\"}]]}}},\"view\":{\"type\":\"object\",\"name\":\"CDSView\",\"id\":\"p1159\",\"attributes\":{\"filter\":{\"type\":\"object\",\"name\":\"AllIndices\",\"id\":\"p1160\"}}},\"glyph\":{\"type\":\"object\",\"name\":\"Quad\",\"id\":\"p1155\",\"attributes\":{\"left\":{\"type\":\"field\",\"field\":\"left\"},\"right\":{\"type\":\"field\",\"field\":\"right\"},\"bottom\":{\"type\":\"value\",\"value\":0},\"top\":{\"type\":\"field\",\"field\":\"top\"},\"line_color\":{\"type\":\"value\",\"value\":\"#1f77b4\"},\"fill_color\":{\"type\":\"value\",\"value\":\"#1f77b4\"}}},\"nonselection_glyph\":{\"type\":\"object\",\"name\":\"Quad\",\"id\":\"p1156\",\"attributes\":{\"left\":{\"type\":\"field\",\"field\":\"left\"},\"right\":{\"type\":\"field\",\"field\":\"right\"},\"bottom\":{\"type\":\"value\",\"value\":0},\"top\":{\"type\":\"field\",\"field\":\"top\"},\"line_color\":{\"type\":\"value\",\"value\":\"#1f77b4\"},\"line_alpha\":{\"type\":\"value\",\"value\":0.1},\"fill_color\":{\"type\":\"value\",\"value\":\"#1f77b4\"},\"fill_alpha\":{\"type\":\"value\",\"value\":0.1},\"hatch_alpha\":{\"type\":\"value\",\"value\":0.1}}},\"muted_glyph\":{\"type\":\"object\",\"name\":\"Quad\",\"id\":\"p1157\",\"attributes\":{\"left\":{\"type\":\"field\",\"field\":\"left\"},\"right\":{\"type\":\"field\",\"field\":\"right\"},\"bottom\":{\"type\":\"value\",\"value\":0},\"top\":{\"type\":\"field\",\"field\":\"top\"},\"line_color\":{\"type\":\"value\",\"value\":\"#1f77b4\"},\"line_alpha\":{\"type\":\"value\",\"value\":0.2},\"fill_color\":{\"type\":\"value\",\"value\":\"#1f77b4\"},\"fill_alpha\":{\"type\":\"value\",\"value\":0.2},\"hatch_alpha\":{\"type\":\"value\",\"value\":0.2}}}}}],\"toolbar\":{\"type\":\"object\",\"name\":\"Toolbar\",\"id\":\"p1126\",\"attributes\":{\"tools\":[{\"type\":\"object\",\"name\":\"PanTool\",\"id\":\"p1139\"},{\"type\":\"object\",\"name\":\"WheelZoomTool\",\"id\":\"p1140\",\"attributes\":{\"renderers\":\"auto\"}},{\"type\":\"object\",\"name\":\"BoxZoomTool\",\"id\":\"p1141\",\"attributes\":{\"dimensions\":\"both\",\"overlay\":{\"type\":\"object\",\"name\":\"BoxAnnotation\",\"id\":\"p1142\",\"attributes\":{\"syncable\":false,\"line_color\":\"black\",\"line_alpha\":1.0,\"line_width\":2,\"line_dash\":[4,4],\"fill_color\":\"lightgrey\",\"fill_alpha\":0.5,\"level\":\"overlay\",\"visible\":false,\"left\":{\"type\":\"number\",\"value\":\"nan\"},\"right\":{\"type\":\"number\",\"value\":\"nan\"},\"top\":{\"type\":\"number\",\"value\":\"nan\"},\"bottom\":{\"type\":\"number\",\"value\":\"nan\"},\"left_units\":\"canvas\",\"right_units\":\"canvas\",\"top_units\":\"canvas\",\"bottom_units\":\"canvas\",\"handles\":{\"type\":\"object\",\"name\":\"BoxInteractionHandles\",\"id\":\"p1148\",\"attributes\":{\"all\":{\"type\":\"object\",\"name\":\"AreaVisuals\",\"id\":\"p1147\",\"attributes\":{\"fill_color\":\"white\",\"hover_fill_color\":\"lightgray\"}}}}}}}},{\"type\":\"object\",\"name\":\"SaveTool\",\"id\":\"p1149\"},{\"type\":\"object\",\"name\":\"ResetTool\",\"id\":\"p1150\"},{\"type\":\"object\",\"name\":\"HelpTool\",\"id\":\"p1151\"}]}},\"left\":[{\"type\":\"object\",\"name\":\"LinearAxis\",\"id\":\"p1134\",\"attributes\":{\"ticker\":{\"type\":\"object\",\"name\":\"BasicTicker\",\"id\":\"p1135\",\"attributes\":{\"mantissas\":[1,2,5]}},\"formatter\":{\"type\":\"object\",\"name\":\"BasicTickFormatter\",\"id\":\"p1136\"},\"major_label_policy\":{\"type\":\"object\",\"name\":\"AllLabels\",\"id\":\"p1137\"}}}],\"below\":[{\"type\":\"object\",\"name\":\"LinearAxis\",\"id\":\"p1129\",\"attributes\":{\"ticker\":{\"type\":\"object\",\"name\":\"BasicTicker\",\"id\":\"p1130\",\"attributes\":{\"mantissas\":[1,2,5]}},\"formatter\":{\"type\":\"object\",\"name\":\"BasicTickFormatter\",\"id\":\"p1131\"},\"major_label_policy\":{\"type\":\"object\",\"name\":\"AllLabels\",\"id\":\"p1132\"}}}],\"center\":[{\"type\":\"object\",\"name\":\"Grid\",\"id\":\"p1133\",\"attributes\":{\"axis\":{\"id\":\"p1129\"}}},{\"type\":\"object\",\"name\":\"Grid\",\"id\":\"p1138\",\"attributes\":{\"dimension\":1,\"axis\":{\"id\":\"p1134\"}}}]}},{\"type\":\"object\",\"name\":\"Figure\",\"id\":\"p1163\",\"attributes\":{\"x_range\":{\"type\":\"object\",\"name\":\"FactorRange\",\"id\":\"p1173\",\"attributes\":{\"factors\":[\"Apr\",\"Feb\",\"Jan\",\"Jul\",\"Jun\",\"Mar\",\"May\"]}},\"y_range\":{\"type\":\"object\",\"name\":\"DataRange1d\",\"id\":\"p1165\"},\"x_scale\":{\"type\":\"object\",\"name\":\"CategoricalScale\",\"id\":\"p1174\"},\"y_scale\":{\"type\":\"object\",\"name\":\"LinearScale\",\"id\":\"p1175\"},\"title\":{\"type\":\"object\",\"name\":\"Title\",\"id\":\"p1166\",\"attributes\":{\"text\":\"Median SO2 by Month\"}},\"renderers\":[{\"type\":\"object\",\"name\":\"GlyphRenderer\",\"id\":\"p1205\",\"attributes\":{\"data_source\":{\"type\":\"object\",\"name\":\"ColumnDataSource\",\"id\":\"p1199\",\"attributes\":{\"selected\":{\"type\":\"object\",\"name\":\"Selection\",\"id\":\"p1200\",\"attributes\":{\"indices\":[],\"line_indices\":[]}},\"selection_policy\":{\"type\":\"object\",\"name\":\"UnionRenderers\",\"id\":\"p1201\"},\"data\":{\"type\":\"map\",\"entries\":[[\"x\",[\"Apr\",\"Feb\",\"Jan\",\"Jul\",\"Jun\",\"Mar\",\"May\"]],[\"top\",{\"type\":\"ndarray\",\"array\":{\"type\":\"bytes\",\"data\":\"H4sIAAEAAAAC/2NgAAFrB82Y/kNfNawcbLmuLy7Ya+XQ+jpwh9xRcwcgz5ZrupXD2TNAwGPvIA+SmGfpAAD48tMrOAAAAA==\"},\"shape\":[7],\"dtype\":\"float64\",\"order\":\"little\"}]]}}},\"view\":{\"type\":\"object\",\"name\":\"CDSView\",\"id\":\"p1206\",\"attributes\":{\"filter\":{\"type\":\"object\",\"name\":\"AllIndices\",\"id\":\"p1207\"}}},\"glyph\":{\"type\":\"object\",\"name\":\"VBar\",\"id\":\"p1202\",\"attributes\":{\"x\":{\"type\":\"field\",\"field\":\"x\"},\"width\":{\"type\":\"value\",\"value\":0.7},\"top\":{\"type\":\"field\",\"field\":\"top\"},\"line_color\":{\"type\":\"value\",\"value\":\"#1f77b4\"},\"fill_color\":{\"type\":\"value\",\"value\":\"#1f77b4\"}}},\"nonselection_glyph\":{\"type\":\"object\",\"name\":\"VBar\",\"id\":\"p1203\",\"attributes\":{\"x\":{\"type\":\"field\",\"field\":\"x\"},\"width\":{\"type\":\"value\",\"value\":0.7},\"top\":{\"type\":\"field\",\"field\":\"top\"},\"line_color\":{\"type\":\"value\",\"value\":\"#1f77b4\"},\"line_alpha\":{\"type\":\"value\",\"value\":0.1},\"fill_color\":{\"type\":\"value\",\"value\":\"#1f77b4\"},\"fill_alpha\":{\"type\":\"value\",\"value\":0.1},\"hatch_alpha\":{\"type\":\"value\",\"value\":0.1}}},\"muted_glyph\":{\"type\":\"object\",\"name\":\"VBar\",\"id\":\"p1204\",\"attributes\":{\"x\":{\"type\":\"field\",\"field\":\"x\"},\"width\":{\"type\":\"value\",\"value\":0.7},\"top\":{\"type\":\"field\",\"field\":\"top\"},\"line_color\":{\"type\":\"value\",\"value\":\"#1f77b4\"},\"line_alpha\":{\"type\":\"value\",\"value\":0.2},\"fill_color\":{\"type\":\"value\",\"value\":\"#1f77b4\"},\"fill_alpha\":{\"type\":\"value\",\"value\":0.2},\"hatch_alpha\":{\"type\":\"value\",\"value\":0.2}}}}}],\"toolbar\":{\"type\":\"object\",\"name\":\"Toolbar\",\"id\":\"p1172\",\"attributes\":{\"tools\":[{\"type\":\"object\",\"name\":\"PanTool\",\"id\":\"p1186\"},{\"type\":\"object\",\"name\":\"WheelZoomTool\",\"id\":\"p1187\",\"attributes\":{\"renderers\":\"auto\"}},{\"type\":\"object\",\"name\":\"BoxZoomTool\",\"id\":\"p1188\",\"attributes\":{\"dimensions\":\"both\",\"overlay\":{\"type\":\"object\",\"name\":\"BoxAnnotation\",\"id\":\"p1189\",\"attributes\":{\"syncable\":false,\"line_color\":\"black\",\"line_alpha\":1.0,\"line_width\":2,\"line_dash\":[4,4],\"fill_color\":\"lightgrey\",\"fill_alpha\":0.5,\"level\":\"overlay\",\"visible\":false,\"left\":{\"type\":\"number\",\"value\":\"nan\"},\"right\":{\"type\":\"number\",\"value\":\"nan\"},\"top\":{\"type\":\"number\",\"value\":\"nan\"},\"bottom\":{\"type\":\"number\",\"value\":\"nan\"},\"left_units\":\"canvas\",\"right_units\":\"canvas\",\"top_units\":\"canvas\",\"bottom_units\":\"canvas\",\"handles\":{\"type\":\"object\",\"name\":\"BoxInteractionHandles\",\"id\":\"p1195\",\"attributes\":{\"all\":{\"type\":\"object\",\"name\":\"AreaVisuals\",\"id\":\"p1194\",\"attributes\":{\"fill_color\":\"white\",\"hover_fill_color\":\"lightgray\"}}}}}}}},{\"type\":\"object\",\"name\":\"SaveTool\",\"id\":\"p1196\"},{\"type\":\"object\",\"name\":\"ResetTool\",\"id\":\"p1197\"},{\"type\":\"object\",\"name\":\"HelpTool\",\"id\":\"p1198\"}]}},\"left\":[{\"type\":\"object\",\"name\":\"LinearAxis\",\"id\":\"p1181\",\"attributes\":{\"ticker\":{\"type\":\"object\",\"name\":\"BasicTicker\",\"id\":\"p1182\",\"attributes\":{\"mantissas\":[1,2,5]}},\"formatter\":{\"type\":\"object\",\"name\":\"BasicTickFormatter\",\"id\":\"p1183\"},\"major_label_policy\":{\"type\":\"object\",\"name\":\"AllLabels\",\"id\":\"p1184\"}}}],\"below\":[{\"type\":\"object\",\"name\":\"CategoricalAxis\",\"id\":\"p1176\",\"attributes\":{\"ticker\":{\"type\":\"object\",\"name\":\"CategoricalTicker\",\"id\":\"p1177\"},\"formatter\":{\"type\":\"object\",\"name\":\"CategoricalTickFormatter\",\"id\":\"p1178\"},\"major_label_policy\":{\"type\":\"object\",\"name\":\"AllLabels\",\"id\":\"p1179\"}}}],\"center\":[{\"type\":\"object\",\"name\":\"Grid\",\"id\":\"p1180\",\"attributes\":{\"axis\":{\"id\":\"p1176\"}}},{\"type\":\"object\",\"name\":\"Grid\",\"id\":\"p1185\",\"attributes\":{\"dimension\":1,\"axis\":{\"id\":\"p1181\"}}}]}},{\"type\":\"object\",\"name\":\"Figure\",\"id\":\"p1210\",\"attributes\":{\"width\":400,\"height\":400,\"x_range\":{\"type\":\"object\",\"name\":\"DataRange1d\",\"id\":\"p1211\"},\"y_range\":{\"type\":\"object\",\"name\":\"DataRange1d\",\"id\":\"p1212\"},\"x_scale\":{\"type\":\"object\",\"name\":\"LinearScale\",\"id\":\"p1220\"},\"y_scale\":{\"type\":\"object\",\"name\":\"LinearScale\",\"id\":\"p1221\"},\"title\":{\"type\":\"object\",\"name\":\"Title\",\"id\":\"p1213\",\"attributes\":{\"text\":\"Correlation Heatmap\"}},\"renderers\":[{\"type\":\"object\",\"name\":\"GlyphRenderer\",\"id\":\"p1257\",\"attributes\":{\"data_source\":{\"type\":\"object\",\"name\":\"ColumnDataSource\",\"id\":\"p1245\",\"attributes\":{\"selected\":{\"type\":\"object\",\"name\":\"Selection\",\"id\":\"p1246\",\"attributes\":{\"indices\":[],\"line_indices\":[]}},\"selection_policy\":{\"type\":\"object\",\"name\":\"UnionRenderers\",\"id\":\"p1247\"},\"data\":{\"type\":\"map\",\"entries\":[[\"image\",[{\"type\":\"ndarray\",\"array\":{\"type\":\"bytes\",\"data\":\"H4sIAAEAAAAC/2NgAIEP9u+WXTJMZZ5n/z3o5nKH4+X7i4rneOS+mm2/r+d7+6IrC+wvKzyprt8+D66OAapvq8WP1R0K8/bHe4p/tdzZa3/2OJfX97ML7UO9XLdczl+3H2YeTB1Mn1nXjY9KR7v3C+356DTx1bL9xR0pEkvKltjD7IWZB1MH03cy8nBO2NvG/beE/pUJ35iyH+Y+mL0w82DqYPoCL0x7pLJhzX6YP2Dug9kLMw+mDqYPAFlXe3UgAQAA\"},\"shape\":[6,6],\"dtype\":\"float64\",\"order\":\"little\"}]]]}}},\"view\":{\"type\":\"object\",\"name\":\"CDSView\",\"id\":\"p1258\",\"attributes\":{\"filter\":{\"type\":\"object\",\"name\":\"AllIndices\",\"id\":\"p1259\"}}},\"glyph\":{\"type\":\"object\",\"name\":\"Image\",\"id\":\"p1248\",\"attributes\":{\"x\":{\"type\":\"value\",\"value\":0},\"y\":{\"type\":\"value\",\"value\":0},\"dw\":{\"type\":\"value\",\"value\":1},\"dh\":{\"type\":\"value\",\"value\":1},\"image\":{\"type\":\"field\",\"field\":\"image\"},\"color_mapper\":{\"type\":\"object\",\"name\":\"LinearColorMapper\",\"id\":\"p1249\",\"attributes\":{\"palette\":[\"#000000\",\"#252525\",\"#525252\",\"#737373\",\"#969696\",\"#bdbdbd\",\"#d9d9d9\",\"#f0f0f0\",\"#ffffff\"]}}}},\"nonselection_glyph\":{\"type\":\"object\",\"name\":\"Image\",\"id\":\"p1251\",\"attributes\":{\"x\":{\"type\":\"value\",\"value\":0},\"y\":{\"type\":\"value\",\"value\":0},\"dw\":{\"type\":\"value\",\"value\":1},\"dh\":{\"type\":\"value\",\"value\":1},\"global_alpha\":{\"type\":\"value\",\"value\":0.1},\"image\":{\"type\":\"field\",\"field\":\"image\"},\"color_mapper\":{\"type\":\"object\",\"name\":\"LinearColorMapper\",\"id\":\"p1252\",\"attributes\":{\"palette\":[\"#000000\",\"#252525\",\"#525252\",\"#737373\",\"#969696\",\"#bdbdbd\",\"#d9d9d9\",\"#f0f0f0\",\"#ffffff\"]}}}},\"muted_glyph\":{\"type\":\"object\",\"name\":\"Image\",\"id\":\"p1254\",\"attributes\":{\"x\":{\"type\":\"value\",\"value\":0},\"y\":{\"type\":\"value\",\"value\":0},\"dw\":{\"type\":\"value\",\"value\":1},\"dh\":{\"type\":\"value\",\"value\":1},\"global_alpha\":{\"type\":\"value\",\"value\":0.2},\"image\":{\"type\":\"field\",\"field\":\"image\"},\"color_mapper\":{\"type\":\"object\",\"name\":\"LinearColorMapper\",\"id\":\"p1255\",\"attributes\":{\"palette\":[\"#000000\",\"#252525\",\"#525252\",\"#737373\",\"#969696\",\"#bdbdbd\",\"#d9d9d9\",\"#f0f0f0\",\"#ffffff\"]}}}}}}],\"toolbar\":{\"type\":\"object\",\"name\":\"Toolbar\",\"id\":\"p1219\",\"attributes\":{\"tools\":[{\"type\":\"object\",\"name\":\"PanTool\",\"id\":\"p1232\"},{\"type\":\"object\",\"name\":\"WheelZoomTool\",\"id\":\"p1233\",\"attributes\":{\"renderers\":\"auto\"}},{\"type\":\"object\",\"name\":\"BoxZoomTool\",\"id\":\"p1234\",\"attributes\":{\"dimensions\":\"both\",\"overlay\":{\"type\":\"object\",\"name\":\"BoxAnnotation\",\"id\":\"p1235\",\"attributes\":{\"syncable\":false,\"line_color\":\"black\",\"line_alpha\":1.0,\"line_width\":2,\"line_dash\":[4,4],\"fill_color\":\"lightgrey\",\"fill_alpha\":0.5,\"level\":\"overlay\",\"visible\":false,\"left\":{\"type\":\"number\",\"value\":\"nan\"},\"right\":{\"type\":\"number\",\"value\":\"nan\"},\"top\":{\"type\":\"number\",\"value\":\"nan\"},\"bottom\":{\"type\":\"number\",\"value\":\"nan\"},\"left_units\":\"canvas\",\"right_units\":\"canvas\",\"top_units\":\"canvas\",\"bottom_units\":\"canvas\",\"handles\":{\"type\":\"object\",\"name\":\"BoxInteractionHandles\",\"id\":\"p1241\",\"attributes\":{\"all\":{\"type\":\"object\",\"name\":\"AreaVisuals\",\"id\":\"p1240\",\"attributes\":{\"fill_color\":\"white\",\"hover_fill_color\":\"lightgray\"}}}}}}}},{\"type\":\"object\",\"name\":\"SaveTool\",\"id\":\"p1242\"},{\"type\":\"object\",\"name\":\"ResetTool\",\"id\":\"p1243\"},{\"type\":\"object\",\"name\":\"HelpTool\",\"id\":\"p1244\"}]}},\"left\":[{\"type\":\"object\",\"name\":\"LinearAxis\",\"id\":\"p1227\",\"attributes\":{\"ticker\":{\"type\":\"object\",\"name\":\"BasicTicker\",\"id\":\"p1228\",\"attributes\":{\"mantissas\":[1,2,5]}},\"formatter\":{\"type\":\"object\",\"name\":\"BasicTickFormatter\",\"id\":\"p1229\"},\"major_label_policy\":{\"type\":\"object\",\"name\":\"AllLabels\",\"id\":\"p1230\"}}}],\"below\":[{\"type\":\"object\",\"name\":\"LinearAxis\",\"id\":\"p1222\",\"attributes\":{\"ticker\":{\"type\":\"object\",\"name\":\"BasicTicker\",\"id\":\"p1223\",\"attributes\":{\"mantissas\":[1,2,5]}},\"formatter\":{\"type\":\"object\",\"name\":\"BasicTickFormatter\",\"id\":\"p1224\"},\"major_label_policy\":{\"type\":\"object\",\"name\":\"AllLabels\",\"id\":\"p1225\"}}}],\"center\":[{\"type\":\"object\",\"name\":\"Grid\",\"id\":\"p1226\",\"attributes\":{\"axis\":{\"id\":\"p1222\"}}},{\"type\":\"object\",\"name\":\"Grid\",\"id\":\"p1231\",\"attributes\":{\"dimension\":1,\"axis\":{\"id\":\"p1227\"}}}]}}]}}]}};\n",
       "  const render_items = [{\"docid\":\"5b3827bd-2868-454b-92f7-6ff18cc43276\",\"roots\":{\"p1538\":\"f28a33e4-917d-4947-8871-1e97870718c8\"},\"root_ids\":[\"p1538\"]}];\n",
       "  void root.Bokeh.embed.embed_items_notebook(docs_json, render_items);\n",
       "  }\n",
       "  if (root.Bokeh !== undefined) {\n",
       "    embed_document(root);\n",
       "  } else {\n",
       "    let attempts = 0;\n",
       "    const timer = setInterval(function(root) {\n",
       "      if (root.Bokeh !== undefined) {\n",
       "        clearInterval(timer);\n",
       "        embed_document(root);\n",
       "      } else {\n",
       "        attempts++;\n",
       "        if (attempts > 100) {\n",
       "          clearInterval(timer);\n",
       "          console.log(\"Bokeh: ERROR: Unable to run BokehJS code because BokehJS library is missing\");\n",
       "        }\n",
       "      }\n",
       "    }, 10, root)\n",
       "  }\n",
       "})(window);"
      ],
      "application/vnd.bokehjs_exec.v0+json": ""
     },
     "metadata": {
      "application/vnd.bokehjs_exec.v0+json": {
       "id": "p1538"
      }
     },
     "output_type": "display_data"
    }
   ],
   "source": [
    "# 10. Layout (combine all)\n",
    "show(column(p1, p2, p3, p4, p5))"
   ]
  },
  {
   "cell_type": "code",
   "execution_count": null,
   "id": "f38294f7-5086-42ba-982b-533c918c3bd2",
   "metadata": {},
   "outputs": [],
   "source": []
  }
 ],
 "metadata": {
  "kernelspec": {
   "display_name": "Python 3 (ipykernel)",
   "language": "python",
   "name": "python3"
  },
  "language_info": {
   "codemirror_mode": {
    "name": "ipython",
    "version": 3
   },
   "file_extension": ".py",
   "mimetype": "text/x-python",
   "name": "python",
   "nbconvert_exporter": "python",
   "pygments_lexer": "ipython3",
   "version": "3.12.2"
  }
 },
 "nbformat": 4,
 "nbformat_minor": 5
}

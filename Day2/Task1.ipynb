{
 "cells": [
  {
   "cell_type": "code",
   "execution_count": null,
   "id": "76c53a3b-6d38-44fb-9eb5-c5b49f6bb3bc",
   "metadata": {},
   "outputs": [],
   "source": [
    "1.Numeric Integer"
   ]
  },
  {
   "cell_type": "code",
   "execution_count": 2,
   "id": "617e77ba-bd46-4a12-8ffd-5411d793e551",
   "metadata": {},
   "outputs": [
    {
     "name": "stdout",
     "output_type": "stream",
     "text": [
      "Positive Integer: 22\n",
      "Negative Integer: -29\n",
      "Binary Integer: 10\n",
      "Octal Integer: 10\n",
      "Hexa Integer: 10\n"
     ]
    }
   ],
   "source": [
    "positive_int = 22\n",
    "negative_int = -29\n",
    "binary_int = 0b1010\n",
    "octal_int = 0o12\n",
    "hexa_int = 0xA\n",
    "print(\"Positive Integer:\",positive_int)\n",
    "print(\"Negative Integer:\",negative_int)\n",
    "print(\"Binary Integer:\",binary_int)\n",
    "print(\"Octal Integer:\",octal_int)\n",
    "print(\"Hexa Integer:\",hexa_int)"
   ]
  },
  {
   "cell_type": "code",
   "execution_count": null,
   "id": "6f838218-b005-44ea-9b0d-4ff71546371e",
   "metadata": {},
   "outputs": [],
   "source": [
    "2.Float"
   ]
  },
  {
   "cell_type": "code",
   "execution_count": 4,
   "id": "0c9f313e-c809-49df-b75c-1914a8de88ec",
   "metadata": {},
   "outputs": [
    {
     "name": "stdout",
     "output_type": "stream",
     "text": [
      "Float Number: 3.14\n"
     ]
    }
   ],
   "source": [
    "float_num = 3.14\n",
    "print(\"Float Number:\",float_num)"
   ]
  },
  {
   "cell_type": "code",
   "execution_count": null,
   "id": "01393d3d-21d1-411c-8d00-70ad7ba53d41",
   "metadata": {},
   "outputs": [],
   "source": [
    "3.Complex"
   ]
  },
  {
   "cell_type": "code",
   "execution_count": 5,
   "id": "12c59fc7-f371-4de5-8ad4-05a4570cc3ac",
   "metadata": {},
   "outputs": [
    {
     "name": "stdout",
     "output_type": "stream",
     "text": [
      "Complex Number: (3+4j)\n"
     ]
    }
   ],
   "source": [
    "complex_num = 3 + 4j\n",
    "print(\"Complex Number:\",complex_num)"
   ]
  },
  {
   "cell_type": "code",
   "execution_count": null,
   "id": "6747c343-3511-446d-8a15-2b1552823b5f",
   "metadata": {},
   "outputs": [],
   "source": [
    "4.Boolean"
   ]
  },
  {
   "cell_type": "code",
   "execution_count": 6,
   "id": "c8b86963-612e-44c2-b86e-e79ab855b490",
   "metadata": {},
   "outputs": [
    {
     "name": "stdout",
     "output_type": "stream",
     "text": [
      "Boolean True: True\n",
      "Boolean False: False\n"
     ]
    }
   ],
   "source": [
    "is_valid = True\n",
    "is_error = False\n",
    "print(\"Boolean True:\",is_valid)\n",
    "print(\"Boolean False:\",is_error)"
   ]
  }
 ],
 "metadata": {
  "kernelspec": {
   "display_name": "Python 3 (ipykernel)",
   "language": "python",
   "name": "python3"
  },
  "language_info": {
   "codemirror_mode": {
    "name": "ipython",
    "version": 3
   },
   "file_extension": ".py",
   "mimetype": "text/x-python",
   "name": "python",
   "nbconvert_exporter": "python",
   "pygments_lexer": "ipython3",
   "version": "3.12.2"
  }
 },
 "nbformat": 4,
 "nbformat_minor": 5
}

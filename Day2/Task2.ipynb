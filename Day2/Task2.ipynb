{
 "cells": [
  {
   "cell_type": "code",
   "execution_count": null,
   "id": "e42f2485-485f-43da-b5eb-7e2e6ce1d36c",
   "metadata": {},
   "outputs": [],
   "source": [
    "Arithmetic Operators:"
   ]
  },
  {
   "cell_type": "code",
   "execution_count": 3,
   "id": "4d378d55-1998-4254-ae97-e33abcc6354e",
   "metadata": {},
   "outputs": [],
   "source": [
    "a = 15\n",
    "b = 4"
   ]
  },
  {
   "cell_type": "code",
   "execution_count": 4,
   "id": "a79b40eb-cf53-4f2c-ac2d-df1230eb7625",
   "metadata": {},
   "outputs": [
    {
     "name": "stdout",
     "output_type": "stream",
     "text": [
      "Addition: 19\n",
      "Subtraction: 11\n",
      "Multiplication: 60\n",
      "Division: 3.75\n",
      "Floor Division: 3\n",
      "Modulus: 3\n",
      "Exponent: 50625\n"
     ]
    }
   ],
   "source": [
    "print(\"Addition:\", a+b)\n",
    "print(\"Subtraction:\", a-b)\n",
    "print(\"Multiplication:\", a*b)\n",
    "print(\"Division:\", a/b)\n",
    "print(\"Floor Division:\", a//b)\n",
    "print(\"Modulus:\", a%b)\n",
    "print(\"Exponent:\", a**b)"
   ]
  }
 ],
 "metadata": {
  "kernelspec": {
   "display_name": "Python 3 (ipykernel)",
   "language": "python",
   "name": "python3"
  },
  "language_info": {
   "codemirror_mode": {
    "name": "ipython",
    "version": 3
   },
   "file_extension": ".py",
   "mimetype": "text/x-python",
   "name": "python",
   "nbconvert_exporter": "python",
   "pygments_lexer": "ipython3",
   "version": "3.12.2"
  }
 },
 "nbformat": 4,
 "nbformat_minor": 5
}

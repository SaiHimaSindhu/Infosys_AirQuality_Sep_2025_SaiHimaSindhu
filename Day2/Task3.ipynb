{
 "cells": [
  {
   "cell_type": "code",
   "execution_count": null,
   "id": "79cc45d7-15c9-49b4-8ccb-e43c28158ddd",
   "metadata": {},
   "outputs": [],
   "source": [
    "3.String Operators"
   ]
  },
  {
   "cell_type": "code",
   "execution_count": 1,
   "id": "6a1ce56b-4cd5-4a17-86db-b3d35b694696",
   "metadata": {},
   "outputs": [],
   "source": [
    "s1 = \"Hello\"\n",
    "s2 = \"World\""
   ]
  },
  {
   "cell_type": "code",
   "execution_count": 2,
   "id": "c56505d3-0856-4e0f-963b-73ba6a5269d2",
   "metadata": {},
   "outputs": [
    {
     "name": "stdout",
     "output_type": "stream",
     "text": [
      "Concatenation: Hello World\n"
     ]
    }
   ],
   "source": [
    "print(\"Concatenation:\", s1+\" \"+s2)"
   ]
  },
  {
   "cell_type": "code",
   "execution_count": 3,
   "id": "99351e60-5a7b-4307-8733-0cbb1c31f074",
   "metadata": {},
   "outputs": [
    {
     "name": "stdout",
     "output_type": "stream",
     "text": [
      "Repetition: HelloHelloHello\n"
     ]
    }
   ],
   "source": [
    "print(\"Repetition:\", s1*3)"
   ]
  },
  {
   "cell_type": "code",
   "execution_count": 4,
   "id": "2ac60870-0da7-4b37-abb3-28f4cb2e01f9",
   "metadata": {},
   "outputs": [
    {
     "name": "stdout",
     "output_type": "stream",
     "text": [
      "Range Slice: ell\n"
     ]
    }
   ],
   "source": [
    "print(\"Range Slice:\", s1[1:4])"
   ]
  },
  {
   "cell_type": "code",
   "execution_count": 5,
   "id": "a1b534e6-d149-419a-832a-7d1a8f3ca209",
   "metadata": {},
   "outputs": [
    {
     "name": "stdout",
     "output_type": "stream",
     "text": [
      "In Membership: True\n"
     ]
    }
   ],
   "source": [
    "print(\"In Membership:\", 'H' in s1)"
   ]
  },
  {
   "cell_type": "code",
   "execution_count": 6,
   "id": "685e6448-9d07-4b99-a1b8-8bc1a31276d6",
   "metadata": {},
   "outputs": [
    {
     "name": "stdout",
     "output_type": "stream",
     "text": [
      "Not In Membership: True\n"
     ]
    }
   ],
   "source": [
    "print(\"Not In Membership:\", 'z' not in s1)"
   ]
  }
 ],
 "metadata": {
  "kernelspec": {
   "display_name": "Python 3 (ipykernel)",
   "language": "python",
   "name": "python3"
  },
  "language_info": {
   "codemirror_mode": {
    "name": "ipython",
    "version": 3
   },
   "file_extension": ".py",
   "mimetype": "text/x-python",
   "name": "python",
   "nbconvert_exporter": "python",
   "pygments_lexer": "ipython3",
   "version": "3.12.2"
  }
 },
 "nbformat": 4,
 "nbformat_minor": 5
}

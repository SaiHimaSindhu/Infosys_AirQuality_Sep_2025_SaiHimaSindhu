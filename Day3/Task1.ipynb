{
 "cells": [
  {
   "cell_type": "code",
   "execution_count": 4,
   "id": "5b880284-9ce8-41fe-b6ea-7ced2a8b5bd5",
   "metadata": {},
   "outputs": [
    {
     "name": "stdin",
     "output_type": "stream",
     "text": [
      "Enter your Name:  sindhu\n",
      "Enter your Age:  22\n",
      "Enter your Height in cm:  5.5\n",
      "Are you a student? (True/False):  Ture\n",
      "Enter your skills (comma separated):  SQL\n",
      "Enter your 10th Percentage:  95\n"
     ]
    },
    {
     "name": "stdout",
     "output_type": "stream",
     "text": [
      "\n",
      "--- Displaying Form Data in Different Methods ---\n",
      "\n",
      "Using Comma Method: sindhu 22 5.5 False SQL 95.0\n",
      "Using + Method: sindhu is 22 years old, height 5.5, Student: False, Skills: SQL, Percentage: 95.0\n",
      "Using % Method: Name: sindhu, Age: 22, Height: 5.50, Student: False, Skills: SQL, Percentage: 95.0\n",
      "Using .format() Method: Name: sindhu, Age: 22, Height: 5.50, Student: False, Skills: SQL, Percentage: 95.0\n",
      "Using f-string Method: Name: sindhu, Age: 22, Height: 5.50, Student: False, Skills: SQL, Percentage: 95.0\n"
     ]
    }
   ],
   "source": [
    "name = input(\"Enter your Name: \")\n",
    "age = int(input(\"Enter your Age: \"))\n",
    "height = float(input(\"Enter your Height in cm: \"))\n",
    "is_student = input(\"Are you a student? (True/False): \").capitalize() == \"True\"\n",
    "skills = input(\"Enter your skills (comma separated): \").split(\",\")\n",
    "percentage = float(input(\"Enter your 10th Percentage: \"))\n",
    "\n",
    "skills_str = \", \".join(skills)\n",
    "\n",
    "print(\"\\n--- Displaying Form Data in Different Methods ---\\n\")\n",
    "\n",
    "# 1. Comma\n",
    "print(\"Using Comma Method:\", name, age, height, is_student, skills_str, percentage)\n",
    "\n",
    "# 2. +\n",
    "print(\"Using + Method: \" + name + \" is \" + str(age) + \" years old, height \" + str(height) +\n",
    "      \", Student: \" + str(is_student) + \", Skills: \" + skills_str + \", Percentage: \" + str(percentage))\n",
    "\n",
    "# 3. % formatting (✅ fixed version)\n",
    "print(\"Using %% Method: Name: %s, Age: %d, Height: %.2f, Student: %s, Skills: %s, Percentage: %.1f\" %\n",
    "      (name, age, height, str(is_student), skills_str, percentage))\n",
    "\n",
    "# 4. .format\n",
    "print(\"Using .format() Method: Name: {}, Age: {}, Height: {:.2f}, Student: {}, Skills: {}, Percentage: {:.1f}\"\n",
    "      .format(name, age, height, is_student, skills_str, percentage))\n",
    "\n",
    "# 5. f-string\n",
    "print(f\"Using f-string Method: Name: {name}, Age: {age}, Height: {height:.2f}, Student: {is_student}, Skills: {skills_str}, Percentage: {percentage:.1f}\")\n"
   ]
  },
  {
   "cell_type": "code",
   "execution_count": null,
   "id": "e98805de-408c-4907-9829-1af8a6480cd5",
   "metadata": {},
   "outputs": [],
   "source": []
  }
 ],
 "metadata": {
  "kernelspec": {
   "display_name": "Python 3 (ipykernel)",
   "language": "python",
   "name": "python3"
  },
  "language_info": {
   "codemirror_mode": {
    "name": "ipython",
    "version": 3
   },
   "file_extension": ".py",
   "mimetype": "text/x-python",
   "name": "python",
   "nbconvert_exporter": "python",
   "pygments_lexer": "ipython3",
   "version": "3.12.2"
  }
 },
 "nbformat": 4,
 "nbformat_minor": 5
}

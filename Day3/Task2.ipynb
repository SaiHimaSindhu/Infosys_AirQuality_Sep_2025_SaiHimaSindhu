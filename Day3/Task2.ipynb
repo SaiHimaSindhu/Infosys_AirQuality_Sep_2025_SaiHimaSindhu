{
 "cells": [
  {
   "cell_type": "code",
   "execution_count": 3,
   "id": "526693b5-b030-462a-a77e-3d9c7e47005c",
   "metadata": {},
   "outputs": [
    {
     "name": "stdout",
     "output_type": "stream",
     "text": [
      "Original list: [5, 2, 9, 1, 7]\n",
      "After adding 10: [5, 2, 9, 1, 7, 10]\n",
      "After removing 9: [5, 2, 1, 7]\n",
      "Sorted list: [1, 2, 5, 7, 9]\n",
      "Reversed list: [7, 1, 9, 2, 5]\n",
      "Maximum element: 9\n",
      "Minimum element: 1\n",
      "Searching 7: True\n",
      "Searching 15: False\n"
     ]
    }
   ],
   "source": [
    "def add_element(lst, element):\n",
    "    lst.append(element)\n",
    "    return lst\n",
    "\n",
    "def remove_element(lst, element):\n",
    "    if element in lst:\n",
    "        lst.remove(element)\n",
    "    return lst\n",
    "\n",
    "def sort_list(lst):\n",
    "    return sorted(lst)\n",
    "\n",
    "def reverse_list(lst):\n",
    "    return lst[::-1]\n",
    "\n",
    "def max_element(lst):\n",
    "    return max(lst) if lst else None\n",
    "\n",
    "def min_element(lst):\n",
    "    return min(lst) if lst else None\n",
    "\n",
    "def search_element(lst, element):\n",
    "    return element in lst\n",
    "    \n",
    "data = [5, 2, 9, 1, 7]\n",
    "\n",
    "print(\"Original list:\", data)\n",
    "print(\"After adding 10:\", add_element(data.copy(), 10))\n",
    "print(\"After removing 9:\", remove_element(data.copy(), 9))\n",
    "print(\"Sorted list:\", sort_list(data))\n",
    "print(\"Reversed list:\", reverse_list(data))\n",
    "print(\"Maximum element:\", max_element(data))\n",
    "print(\"Minimum element:\", min_element(data))\n",
    "print(\"Searching 7:\", search_element(data, 7))\n",
    "print(\"Searching 15:\", search_element(data, 15))\n"
   ]
  },
  {
   "cell_type": "code",
   "execution_count": null,
   "id": "cb37b7a3-acdd-4076-9deb-e1c7ad0639e5",
   "metadata": {},
   "outputs": [],
   "source": []
  }
 ],
 "metadata": {
  "kernelspec": {
   "display_name": "Python 3 (ipykernel)",
   "language": "python",
   "name": "python3"
  },
  "language_info": {
   "codemirror_mode": {
    "name": "ipython",
    "version": 3
   },
   "file_extension": ".py",
   "mimetype": "text/x-python",
   "name": "python",
   "nbconvert_exporter": "python",
   "pygments_lexer": "ipython3",
   "version": "3.12.2"
  }
 },
 "nbformat": 4,
 "nbformat_minor": 5
}

{
 "cells": [
  {
   "cell_type": "code",
   "execution_count": 1,
   "id": "27ae5c8a-4bfc-41d0-b6cc-3b2655574d68",
   "metadata": {},
   "outputs": [
    {
     "name": "stdout",
     "output_type": "stream",
     "text": [
      "4\n",
      "{'name': 'Pavani', 'age': 21, 'course': 'Python', 'marks': 90}\n",
      "<class 'dict'>\n",
      "dict_keys(['name', 'age', 'course', 'marks'])\n",
      "dict_values(['Pavani', 21, 'Python', 90])\n",
      "dict_items([('name', 'Pavani'), ('age', 21), ('course', 'Python'), ('marks', 90)])\n",
      "Python\n",
      "Not Found\n",
      "90\n",
      "{'name': 'Pavani', 'age': 21, 'course': 'Python'}\n",
      "('course', 'Python')\n",
      "{'name': 'Pavani', 'age': 21}\n",
      "{'name': 'Pavani', 'age': 21, 'grade': 'A'}\n",
      "{}\n"
     ]
    }
   ],
   "source": [
    "student = {\"name\": \"Pavani\", \"age\": 21, \"course\": \"Python\", \"marks\": 90}\n",
    "\n",
    "print(len(student))            \n",
    "print(str(student))            \n",
    "print(type(student))           \n",
    "print(student.keys())          \n",
    "print(student.values())        \n",
    "print(student.items())         \n",
    "print(student.get(\"course\"))  \n",
    "print(student.get(\"grade\", \"Not Found\"))  \n",
    "print(student.pop(\"marks\"))    \n",
    "print(student)                 \n",
    "print(student.popitem())       \n",
    "print(student)                 \n",
    "student.update({\"grade\": \"A\"}) \n",
    "print(student)                 \n",
    "student.clear()                \n",
    "print(student)                 \n"
   ]
  }
 ],
 "metadata": {
  "kernelspec": {
   "display_name": "Python 3 (ipykernel)",
   "language": "python",
   "name": "python3"
  },
  "language_info": {
   "codemirror_mode": {
    "name": "ipython",
    "version": 3
   },
   "file_extension": ".py",
   "mimetype": "text/x-python",
   "name": "python",
   "nbconvert_exporter": "python",
   "pygments_lexer": "ipython3",
   "version": "3.12.2"
  }
 },
 "nbformat": 4,
 "nbformat_minor": 5
}

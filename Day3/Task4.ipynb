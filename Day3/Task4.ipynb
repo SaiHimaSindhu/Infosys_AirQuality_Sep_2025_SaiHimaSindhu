{
 "cells": [
  {
   "cell_type": "code",
   "execution_count": 2,
   "id": "4c2f6b0c-26dd-47da-a156-e282b5c3ef92",
   "metadata": {},
   "outputs": [
    {
     "name": "stdout",
     "output_type": "stream",
     "text": [
      "After add: {40, 10, 50, 20, 30}\n",
      "After update: {70, 40, 10, 50, 20, 60, 30}\n",
      "After remove: {70, 40, 10, 50, 60, 30}\n",
      "After discard (100 not found): {70, 40, 10, 50, 60, 30}\n",
      "Popped element: 70\n",
      "After pop: {40, 10, 50, 60, 30}\n",
      "After clear: set()\n"
     ]
    }
   ],
   "source": [
    "s = {10, 20, 30, 40}\n",
    "s.add(50)\n",
    "print(\"After add:\", s)\n",
    "s.update([60, 70])\n",
    "print(\"After update:\", s)\n",
    "s.remove(20)\n",
    "print(\"After remove:\", s)\n",
    "s.discard(100)\n",
    "print(\"After discard (100 not found):\", s)\n",
    "popped = s.pop()\n",
    "print(\"Popped element:\", popped)\n",
    "print(\"After pop:\", s)\n",
    "s.clear()\n",
    "print(\"After clear:\", s)\n",
    "           "
   ]
  },
  {
   "cell_type": "code",
   "execution_count": null,
   "id": "dc109d78-9a92-40c8-9fc0-b09b974bc4ae",
   "metadata": {},
   "outputs": [],
   "source": []
  }
 ],
 "metadata": {
  "kernelspec": {
   "display_name": "Python 3 (ipykernel)",
   "language": "python",
   "name": "python3"
  },
  "language_info": {
   "codemirror_mode": {
    "name": "ipython",
    "version": 3
   },
   "file_extension": ".py",
   "mimetype": "text/x-python",
   "name": "python",
   "nbconvert_exporter": "python",
   "pygments_lexer": "ipython3",
   "version": "3.12.2"
  }
 },
 "nbformat": 4,
 "nbformat_minor": 5
}

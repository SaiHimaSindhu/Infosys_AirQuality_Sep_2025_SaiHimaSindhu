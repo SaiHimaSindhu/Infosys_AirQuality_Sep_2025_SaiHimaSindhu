{
 "cells": [
  {
   "cell_type": "code",
   "execution_count": 1,
   "id": "eab9d215-07b6-4df3-8977-411b1edcdfec",
   "metadata": {},
   "outputs": [
    {
     "name": "stdout",
     "output_type": "stream",
     "text": [
      "{1, 2, 3, 4, 5, 6, 7, 8}\n",
      "{1, 2, 3, 4, 5, 6, 7, 8}\n",
      "{4, 5}\n",
      "{4, 5}\n",
      "{1, 2, 3}\n",
      "{1, 2, 3}\n",
      "{1, 2, 3, 6, 7, 8}\n",
      "{1, 2, 3, 6, 7, 8}\n"
     ]
    }
   ],
   "source": [
    "s1 = {1, 2, 3, 4, 5}\n",
    "s2 = {4, 5, 6, 7, 8}\n",
    "\n",
    "# Union\n",
    "print(s1 | s2)                        # {1, 2, 3, 4, 5, 6, 7, 8}\n",
    "print(s1.union(s2))                   # {1, 2, 3, 4, 5, 6, 7, 8}\n",
    "\n",
    "# Intersection\n",
    "print(s1 & s2)                        # {4, 5}\n",
    "print(s1.intersection(s2))            # {4, 5}\n",
    "\n",
    "# Difference\n",
    "print(s1 - s2)                        # {1, 2, 3}\n",
    "print(s1.difference(s2))              # {1, 2, 3}\n",
    "\n",
    "# Symmetric Difference\n",
    "print(s1 ^ s2)                        # {1, 2, 3, 6, 7, 8}\n",
    "print(s1.symmetric_difference(s2))    # {1, 2, 3, 6, 7, 8}\n"
   ]
  },
  {
   "cell_type": "code",
   "execution_count": null,
   "id": "098cd7cf-c059-4580-be0e-2df155de7fc7",
   "metadata": {},
   "outputs": [],
   "source": []
  }
 ],
 "metadata": {
  "kernelspec": {
   "display_name": "Python 3 (ipykernel)",
   "language": "python",
   "name": "python3"
  },
  "language_info": {
   "codemirror_mode": {
    "name": "ipython",
    "version": 3
   },
   "file_extension": ".py",
   "mimetype": "text/x-python",
   "name": "python",
   "nbconvert_exporter": "python",
   "pygments_lexer": "ipython3",
   "version": "3.12.2"
  }
 },
 "nbformat": 4,
 "nbformat_minor": 5
}

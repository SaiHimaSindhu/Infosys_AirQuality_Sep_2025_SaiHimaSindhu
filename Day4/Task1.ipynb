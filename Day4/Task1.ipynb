{
 "cells": [
  {
   "cell_type": "code",
   "execution_count": 1,
   "id": "f2ed36a4-c52b-44f0-9c37-d9ec7af694b4",
   "metadata": {},
   "outputs": [
    {
     "name": "stdin",
     "output_type": "stream",
     "text": [
      "Enter first number:  5\n",
      "Enter operator (+, -, *, /, %, //, **):  +\n",
      "Enter second number:  7\n"
     ]
    },
    {
     "name": "stdout",
     "output_type": "stream",
     "text": [
      "Result: 12.0\n"
     ]
    }
   ],
   "source": [
    "# Simple calculator with all 7 operators using if, elif, else\n",
    "\n",
    "# Input first number\n",
    "num1 = float(input(\"Enter first number: \"))\n",
    "\n",
    "# Input operator\n",
    "operator = input(\"Enter operator (+, -, *, /, %, //, **): \")\n",
    "\n",
    "# Input second number\n",
    "num2 = float(input(\"Enter second number: \"))\n",
    "\n",
    "# Perform calculation based on operator\n",
    "if operator == '+':\n",
    "    result = num1 + num2\n",
    "elif operator == '-':\n",
    "    result = num1 - num2\n",
    "elif operator == '*':\n",
    "    result = num1 * num2\n",
    "elif operator == '/':\n",
    "    if num2 != 0:\n",
    "        result = num1 / num2\n",
    "    else:\n",
    "        result = \"Error! Division by zero.\"\n",
    "elif operator == '%':\n",
    "    if num2 != 0:\n",
    "        result = num1 % num2\n",
    "    else:\n",
    "        result = \"Error! Modulus by zero.\"\n",
    "elif operator == '//':\n",
    "    if num2 != 0:\n",
    "        result = num1 // num2\n",
    "    else:\n",
    "        result = \"Error! Floor division by zero.\"\n",
    "elif operator == '**':\n",
    "    result = num1 ** num2\n",
    "else:\n",
    "    result = \"Error! Invalid operator.\"\n",
    "\n",
    "print(f\"Result: {result}\")"
   ]
  },
  {
   "cell_type": "code",
   "execution_count": null,
   "id": "eaf500fd-69de-40d6-a3a9-ead32a1f9d18",
   "metadata": {},
   "outputs": [],
   "source": []
  }
 ],
 "metadata": {
  "kernelspec": {
   "display_name": "Python 3 (ipykernel)",
   "language": "python",
   "name": "python3"
  },
  "language_info": {
   "codemirror_mode": {
    "name": "ipython",
    "version": 3
   },
   "file_extension": ".py",
   "mimetype": "text/x-python",
   "name": "python",
   "nbconvert_exporter": "python",
   "pygments_lexer": "ipython3",
   "version": "3.12.2"
  }
 },
 "nbformat": 4,
 "nbformat_minor": 5
}

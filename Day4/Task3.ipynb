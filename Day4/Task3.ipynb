{
 "cells": [
  {
   "cell_type": "code",
   "execution_count": 2,
   "id": "286bfe0f-06e0-485f-8299-3d6979f65ee1",
   "metadata": {},
   "outputs": [],
   "source": [
    "#task3-design calculator using structural pattern matching"
   ]
  },
  {
   "cell_type": "code",
   "execution_count": 3,
   "id": "97797a79-14b1-4d9f-877b-c9ce189f7d43",
   "metadata": {},
   "outputs": [
    {
     "name": "stdin",
     "output_type": "stream",
     "text": [
      "Enter first number:  29\n",
      "Enter second number:  22\n",
      "Enter operation (+, -, *, /):  -\n"
     ]
    },
    {
     "name": "stdout",
     "output_type": "stream",
     "text": [
      "Result: 7.0\n"
     ]
    }
   ],
   "source": [
    "# Simple calculator using match-case (Python 3.10+)\n",
    "\n",
    "num1 = float(input(\"Enter first number: \"))\n",
    "num2 = float(input(\"Enter second number: \"))\n",
    "op = input(\"Enter operation (+, -, *, /): \")\n",
    "\n",
    "match op:\n",
    "    case '+':\n",
    "        print(f\"Result: {num1 + num2}\")\n",
    "    case '-':\n",
    "        print(f\"Result: {num1 - num2}\")\n",
    "    case '*':\n",
    "        print(f\"Result: {num1 * num2}\")\n",
    "    case '/':\n",
    "        if num2 != 0:\n",
    "            print(f\"Result: {num1 / num2}\")\n",
    "        else:\n",
    "            print(\"Error: Division by zero\")\n",
    "    case _:\n",
    "        print(\"Invalid operation\")"
   ]
  },
  {
   "cell_type": "code",
   "execution_count": null,
   "id": "e0de31d0-e7b5-4981-9a8c-7745e9cf81c2",
   "metadata": {},
   "outputs": [],
   "source": []
  }
 ],
 "metadata": {
  "kernelspec": {
   "display_name": "Python 3 (ipykernel)",
   "language": "python",
   "name": "python3"
  },
  "language_info": {
   "codemirror_mode": {
    "name": "ipython",
    "version": 3
   },
   "file_extension": ".py",
   "mimetype": "text/x-python",
   "name": "python",
   "nbconvert_exporter": "python",
   "pygments_lexer": "ipython3",
   "version": "3.12.2"
  }
 },
 "nbformat": 4,
 "nbformat_minor": 5
}

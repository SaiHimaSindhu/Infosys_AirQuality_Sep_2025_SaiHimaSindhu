{
 "cells": [
  {
   "cell_type": "code",
   "execution_count": 1,
   "id": "8c6a4c78-314b-46bb-94cf-ab68aba0cb7b",
   "metadata": {},
   "outputs": [],
   "source": [
    "#task4-write all file concept commands"
   ]
  },
  {
   "cell_type": "code",
   "execution_count": 3,
   "id": "d244792b-ead2-4f04-9fcf-430e160c2971",
   "metadata": {},
   "outputs": [],
   "source": [
    "f = open('file.txt', 'w')\n",
    "f.write('Hello, world!')\n",
    "f.close()"
   ]
  },
  {
   "cell_type": "code",
   "execution_count": 4,
   "id": "782ee120-1da9-45f0-97d6-79941d067f98",
   "metadata": {},
   "outputs": [
    {
     "name": "stdout",
     "output_type": "stream",
     "text": [
      "Hello, world!\n"
     ]
    }
   ],
   "source": [
    "f = open('file.txt', 'r')\n",
    "print(f.read())\n",
    "f.close()"
   ]
  },
  {
   "cell_type": "code",
   "execution_count": 5,
   "id": "4752617d-a949-4242-b4e3-2b0af6c255a6",
   "metadata": {},
   "outputs": [
    {
     "name": "stdout",
     "output_type": "stream",
     "text": [
      "Hello, world!\n"
     ]
    }
   ],
   "source": [
    "with open('file.txt', 'r') as f:\n",
    "    contents = f.read()\n",
    "    print(contents)"
   ]
  },
  {
   "cell_type": "code",
   "execution_count": 6,
   "id": "1a506d53-6358-46e2-b733-a23fa53f9db5",
   "metadata": {},
   "outputs": [],
   "source": [
    "f = open('file.txt', 'a')\n",
    "f.write('Additional line')\n",
    "f.close()"
   ]
  }
 ],
 "metadata": {
  "kernelspec": {
   "display_name": "Python 3 (ipykernel)",
   "language": "python",
   "name": "python3"
  },
  "language_info": {
   "codemirror_mode": {
    "name": "ipython",
    "version": 3
   },
   "file_extension": ".py",
   "mimetype": "text/x-python",
   "name": "python",
   "nbconvert_exporter": "python",
   "pygments_lexer": "ipython3",
   "version": "3.12.2"
  }
 },
 "nbformat": 4,
 "nbformat_minor": 5
}

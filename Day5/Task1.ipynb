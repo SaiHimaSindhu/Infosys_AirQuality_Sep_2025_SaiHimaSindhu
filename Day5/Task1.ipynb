{
 "cells": [
  {
   "cell_type": "code",
   "execution_count": 1,
   "id": "5f763484-67fb-44cd-9438-a96d7b24ba01",
   "metadata": {},
   "outputs": [],
   "source": [
    "#Task1: do Fibonacci & factorial of a number using recursive functions"
   ]
  },
  {
   "cell_type": "code",
   "execution_count": 2,
   "id": "451e2e8f-8cef-4228-adc5-d996b7ae95c4",
   "metadata": {},
   "outputs": [],
   "source": [
    "#Fibonacci Using Recursion"
   ]
  },
  {
   "cell_type": "code",
   "execution_count": 5,
   "id": "0c6a1f0e-6dfc-4fa6-bf78-3dcf683107b9",
   "metadata": {},
   "outputs": [
    {
     "name": "stdin",
     "output_type": "stream",
     "text": [
      "Enter a number:  7\n"
     ]
    },
    {
     "name": "stdout",
     "output_type": "stream",
     "text": [
      "Fibonacci Series:\n",
      "0 1 1 2 3 5 8 "
     ]
    }
   ],
   "source": [
    "def fibonacci(n):\n",
    "    if n <= 1:\n",
    "        return n\n",
    "    else:\n",
    "        return fibonacci(n - 1) + fibonacci(n - 2)\n",
    "\n",
    "num = int(input(\"Enter a number: \"))\n",
    "print(\"Fibonacci Series:\")\n",
    "for i in range(num):\n",
    "    print(fibonacci(i), end=\" \")\n"
   ]
  },
  {
   "cell_type": "code",
   "execution_count": null,
   "id": "d8639df8-4606-40c7-8552-19a2717a5276",
   "metadata": {},
   "outputs": [],
   "source": [
    "#Factorial using Recursion"
   ]
  },
  {
   "cell_type": "code",
   "execution_count": 6,
   "id": "356f4cea-c825-465c-b312-0d52823221da",
   "metadata": {},
   "outputs": [
    {
     "name": "stdin",
     "output_type": "stream",
     "text": [
      "Enter a number:  9\n"
     ]
    },
    {
     "name": "stdout",
     "output_type": "stream",
     "text": [
      "Factorial of 9 is: 362880\n"
     ]
    }
   ],
   "source": [
    "def factorial(n):\n",
    "    if n == 0 or n == 1:\n",
    "        return 1\n",
    "    else:\n",
    "        return n * factorial(n - 1)\n",
    "\n",
    "num = int(input(\"Enter a number: \"))\n",
    "print(\"Factorial of\", num, \"is:\", factorial(num))\n"
   ]
  }
 ],
 "metadata": {
  "kernelspec": {
   "display_name": "Python 3 (ipykernel)",
   "language": "python",
   "name": "python3"
  },
  "language_info": {
   "codemirror_mode": {
    "name": "ipython",
    "version": 3
   },
   "file_extension": ".py",
   "mimetype": "text/x-python",
   "name": "python",
   "nbconvert_exporter": "python",
   "pygments_lexer": "ipython3",
   "version": "3.12.2"
  }
 },
 "nbformat": 4,
 "nbformat_minor": 5
}

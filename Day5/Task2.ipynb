{
 "cells": [
  {
   "cell_type": "code",
   "execution_count": 1,
   "id": "7bb5a2dd-5cda-4c24-a0c5-39008903ce73",
   "metadata": {},
   "outputs": [],
   "source": [
    "#Task2: write example code for module os,math,random"
   ]
  },
  {
   "cell_type": "code",
   "execution_count": 2,
   "id": "9856dd1b-6202-4ff1-a87a-d7bfc50c9a8c",
   "metadata": {},
   "outputs": [],
   "source": [
    "#os module"
   ]
  },
  {
   "cell_type": "code",
   "execution_count": 7,
   "id": "9b33aff9-5014-482f-b8a0-5c7958aec1e5",
   "metadata": {},
   "outputs": [
    {
     "name": "stdout",
     "output_type": "stream",
     "text": [
      "Current Directory: C:\\Users\\sindh\\OneDrive\\Desktop\\infosys practice\\Day 4\\test_dir\n",
      "Listdir: ['.ipynb_checkpoints', 'Task1.ipynb', 'test_dir', 'Untitled.ipynb']\n"
     ]
    }
   ],
   "source": [
    "import os\n",
    "\n",
    "# Make a new directory named 'test_dir'\n",
    "os.mkdir('test_dir')\n",
    "\n",
    "# Change the current working directory\n",
    "os.chdir('test_dir')\n",
    "\n",
    "# Get and print the current working directory\n",
    "print(\"Current Directory:\", os.getcwd())\n",
    "\n",
    "# Go back to the parent directory\n",
    "os.chdir('..')\n",
    "\n",
    "# List all files and directories in the current directory\n",
    "print(\"Listdir:\", os.listdir())\n"
   ]
  },
  {
   "cell_type": "code",
   "execution_count": 4,
   "id": "9f264b2f-715c-4c2f-b60a-f3caa3f87800",
   "metadata": {},
   "outputs": [],
   "source": [
    "#math module"
   ]
  },
  {
   "cell_type": "code",
   "execution_count": 8,
   "id": "8a8b16cf-1cb3-46d5-9403-51a4f7c6c13e",
   "metadata": {},
   "outputs": [
    {
     "name": "stdout",
     "output_type": "stream",
     "text": [
      "Pi: 3.141592653589793\n",
      "Euler's number: 2.718281828459045\n",
      "sin(30 degrees): 0.49999999999999994\n",
      "cos(60 degrees): 0.5000000000000001\n",
      "tan(45 degrees): 0.9999999999999999\n",
      "Square root of 16: 4.0\n",
      "2 raised to the power 3: 8.0\n",
      "Natural log of 10: 2.302585092994046\n",
      "Log base 10 of 100: 2.0\n",
      "Exponential of 2: 7.38905609893065\n",
      "Ceil of 7.2: 8\n",
      "Floor of 7.2: 7\n"
     ]
    }
   ],
   "source": [
    "import math\n",
    "\n",
    "# Mathematical Constants\n",
    "print(\"Pi:\", math.pi)\n",
    "print(\"Euler's number:\", math.e)\n",
    "\n",
    "# Trigonometric Functions\n",
    "print(\"sin(30 degrees):\", math.sin(math.radians(30)))\n",
    "print(\"cos(60 degrees):\", math.cos(math.radians(60)))\n",
    "print(\"tan(45 degrees):\", math.tan(math.radians(45)))\n",
    "\n",
    "# Logarithmic and Power Functions\n",
    "print(\"Square root of 16:\", math.sqrt(16))\n",
    "print(\"2 raised to the power 3:\", math.pow(2, 3))\n",
    "print(\"Natural log of 10:\", math.log(10))\n",
    "print(\"Log base 10 of 100:\", math.log10(100))\n",
    "print(\"Exponential of 2:\", math.exp(2))\n",
    "\n",
    "# Ceil and Floor\n",
    "print(\"Ceil of 7.2:\", math.ceil(7.2))\n",
    "print(\"Floor of 7.2:\", math.floor(7.2))\n"
   ]
  },
  {
   "cell_type": "code",
   "execution_count": 9,
   "id": "d336607a-d2eb-402c-bfef-fa395c4ede72",
   "metadata": {},
   "outputs": [],
   "source": [
    "#random module"
   ]
  },
  {
   "cell_type": "code",
   "execution_count": 10,
   "id": "ff6af036-867f-4b9e-a412-cffbc0758075",
   "metadata": {},
   "outputs": [
    {
     "name": "stdout",
     "output_type": "stream",
     "text": [
      "Random float: 0.5292227166133674\n",
      "Random integer: 4\n",
      "Random range: 55\n",
      "Random choice: cherry\n",
      "Shuffled list: [3, 1, 2, 5, 4]\n"
     ]
    }
   ],
   "source": [
    "import random\n",
    "\n",
    "# Generate a random float between 0 and 1\n",
    "print(\"Random float:\", random.random())\n",
    "\n",
    "# Generate a random integer between 1 and 10\n",
    "print(\"Random integer:\", random.randint(1, 10))\n",
    "\n",
    "# Random element from a range\n",
    "print(\"Random range:\", random.randrange(0, 100, 5))\n",
    "\n",
    "# Randomly select an element from a non-empty sequence\n",
    "sample_list = ['apple', 'banana', 'cherry']\n",
    "print(\"Random choice:\", random.choice(sample_list))\n",
    "\n",
    "# Shuffle a list\n",
    "numbers = [1, 2, 3, 4, 5]\n",
    "random.shuffle(numbers)\n",
    "print(\"Shuffled list:\", numbers)\n"
   ]
  },
  {
   "cell_type": "code",
   "execution_count": null,
   "id": "b03294bd-a35a-4c31-8b65-f810ec4c9d7a",
   "metadata": {},
   "outputs": [],
   "source": []
  }
 ],
 "metadata": {
  "kernelspec": {
   "display_name": "Python 3 (ipykernel)",
   "language": "python",
   "name": "python3"
  },
  "language_info": {
   "codemirror_mode": {
    "name": "ipython",
    "version": 3
   },
   "file_extension": ".py",
   "mimetype": "text/x-python",
   "name": "python",
   "nbconvert_exporter": "python",
   "pygments_lexer": "ipython3",
   "version": "3.12.2"
  }
 },
 "nbformat": 4,
 "nbformat_minor": 5
}

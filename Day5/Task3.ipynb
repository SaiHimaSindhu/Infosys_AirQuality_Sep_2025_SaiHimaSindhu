{
 "cells": [
  {
   "cell_type": "code",
   "execution_count": 1,
   "id": "f46b9de7-dc9f-4503-b9eb-0773b2c5023e",
   "metadata": {},
   "outputs": [],
   "source": [
    "#task3: list, tuple & dictionary comprehensions. runtime arguments with *args **kwargs"
   ]
  },
  {
   "cell_type": "code",
   "execution_count": 2,
   "id": "6e9578f8-d578-4c54-a034-80602b99a323",
   "metadata": {},
   "outputs": [],
   "source": [
    "#List Comprehensions"
   ]
  },
  {
   "cell_type": "code",
   "execution_count": 3,
   "id": "0b4adec8-df64-40a8-bec6-1de13ef9d29f",
   "metadata": {},
   "outputs": [
    {
     "name": "stdout",
     "output_type": "stream",
     "text": [
      "List comprehension: [0, 1, 4, 9, 16]\n"
     ]
    }
   ],
   "source": [
    "# List comprehension example: squares of numbers from 0 to 4\n",
    "squares_list = [x**2 for x in range(5)]\n",
    "print(\"List comprehension:\", squares_list)\n"
   ]
  },
  {
   "cell_type": "code",
   "execution_count": 4,
   "id": "0c520d08-e94a-4290-bd62-abb7119ff3a1",
   "metadata": {},
   "outputs": [],
   "source": [
    "#Tuple Comprehensions"
   ]
  },
  {
   "cell_type": "code",
   "execution_count": 5,
   "id": "78ffc410-9734-463c-b514-1507e0bd1e30",
   "metadata": {},
   "outputs": [
    {
     "name": "stdout",
     "output_type": "stream",
     "text": [
      "Tuple comprehension: (0, 1, 4, 9, 16)\n"
     ]
    }
   ],
   "source": [
    "# Tuple comprehension example (using generator expression converted to a tuple)\n",
    "squares_tuple = tuple(x**2 for x in range(5))\n",
    "print(\"Tuple comprehension:\", squares_tuple)\n"
   ]
  },
  {
   "cell_type": "code",
   "execution_count": 6,
   "id": "c1a6a4b5-171b-497b-ba22-dd805477a4c8",
   "metadata": {},
   "outputs": [],
   "source": [
    "#Dictionary Comprehensions"
   ]
  },
  {
   "cell_type": "code",
   "execution_count": 7,
   "id": "657d9dc6-1912-4d7c-b139-bb269f15777e",
   "metadata": {},
   "outputs": [
    {
     "name": "stdout",
     "output_type": "stream",
     "text": [
      "Dictionary comprehension: {0: 0, 1: 1, 2: 4, 3: 9, 4: 16}\n"
     ]
    }
   ],
   "source": [
    "# Dictionary comprehension example: number and their squares from 0 to 4\n",
    "squares_dict = {x: x**2 for x in range(5)}\n",
    "print(\"Dictionary comprehension:\", squares_dict)\n"
   ]
  },
  {
   "cell_type": "code",
   "execution_count": 8,
   "id": "571643eb-faeb-4d81-b593-0330e6ebd8f8",
   "metadata": {},
   "outputs": [],
   "source": [
    "#Runtime Arguments with *args and **kwargs"
   ]
  },
  {
   "cell_type": "code",
   "execution_count": 9,
   "id": "dbb6c240-2a97-4c18-8bac-9b651860edf6",
   "metadata": {},
   "outputs": [
    {
     "name": "stdout",
     "output_type": "stream",
     "text": [
      "Positional arguments: (1, 2)\n",
      "Keyword arguments: {'a': 3, 'b': 4}\n"
     ]
    }
   ],
   "source": [
    "def func(*args, **kwargs):\n",
    "    print('Positional arguments:', args)\n",
    "    print('Keyword arguments:', kwargs)\n",
    "\n",
    "func(1, 2, a=3, b=4)\n"
   ]
  },
  {
   "cell_type": "code",
   "execution_count": null,
   "id": "c96c774c-8e9e-40d4-824b-b25901cc427e",
   "metadata": {},
   "outputs": [],
   "source": []
  }
 ],
 "metadata": {
  "kernelspec": {
   "display_name": "Python 3 (ipykernel)",
   "language": "python",
   "name": "python3"
  },
  "language_info": {
   "codemirror_mode": {
    "name": "ipython",
    "version": 3
   },
   "file_extension": ".py",
   "mimetype": "text/x-python",
   "name": "python",
   "nbconvert_exporter": "python",
   "pygments_lexer": "ipython3",
   "version": "3.12.2"
  }
 },
 "nbformat": 4,
 "nbformat_minor": 5
}

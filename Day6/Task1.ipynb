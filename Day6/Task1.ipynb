{
 "cells": [
  {
   "cell_type": "code",
   "execution_count": 1,
   "id": "539c0342-9308-4bf4-957c-a04f7c4ec626",
   "metadata": {},
   "outputs": [],
   "source": [
    "#Task1: design a calculator using oops concept"
   ]
  },
  {
   "cell_type": "code",
   "execution_count": 3,
   "id": "47026e08-e379-4707-a928-70858528a6e7",
   "metadata": {},
   "outputs": [
    {
     "name": "stdout",
     "output_type": "stream",
     "text": [
      "Addition: 8\n",
      "Subtraction: 4\n",
      "Multiplication: 28\n",
      "Division: 4.0\n"
     ]
    }
   ],
   "source": [
    "class Calculator:\n",
    "    def add(self, x, y):\n",
    "        return x + y\n",
    "\n",
    "    def subtract(self, x, y):\n",
    "        return x - y\n",
    "\n",
    "    def multiply(self, x, y):\n",
    "        return x * y\n",
    "\n",
    "    def divide(self, x, y):\n",
    "        if y == 0:\n",
    "            return \"Division by zero error\"\n",
    "        return x / y\n",
    "\n",
    "\n",
    "calc = Calculator()\n",
    "print(\"Addition:\", calc.add(5, 3))\n",
    "print(\"Subtraction:\", calc.subtract(10, 6))\n",
    "print(\"Multiplication:\", calc.multiply(4, 7))\n",
    "print(\"Division:\", calc.divide(20, 5))\n"
   ]
  },
  {
   "cell_type": "code",
   "execution_count": null,
   "id": "434b8d3c-e840-45f0-bbab-8891dbba6930",
   "metadata": {},
   "outputs": [],
   "source": []
  }
 ],
 "metadata": {
  "kernelspec": {
   "display_name": "Python 3 (ipykernel)",
   "language": "python",
   "name": "python3"
  },
  "language_info": {
   "codemirror_mode": {
    "name": "ipython",
    "version": 3
   },
   "file_extension": ".py",
   "mimetype": "text/x-python",
   "name": "python",
   "nbconvert_exporter": "python",
   "pygments_lexer": "ipython3",
   "version": "3.12.2"
  }
 },
 "nbformat": 4,
 "nbformat_minor": 5
}

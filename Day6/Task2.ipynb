{
 "cells": [
  {
   "cell_type": "code",
   "execution_count": 1,
   "id": "58a1f711-9f4b-4f14-8a65-8a9b42872116",
   "metadata": {},
   "outputs": [],
   "source": [
    "#Task2 : write code for multiple, multilevel, hierarchical, hybrid"
   ]
  },
  {
   "cell_type": "code",
   "execution_count": 2,
   "id": "982513d3-c09a-4e65-8142-22bdcf1dfdd4",
   "metadata": {},
   "outputs": [],
   "source": [
    "#Multiple Inheritance"
   ]
  },
  {
   "cell_type": "code",
   "execution_count": 3,
   "id": "6baf00cd-1496-45c7-a133-97cbb9d7e5fc",
   "metadata": {},
   "outputs": [
    {
     "name": "stdout",
     "output_type": "stream",
     "text": [
      "Feature from Parent1\n",
      "Feature from Parent2\n",
      "Feature from Child\n"
     ]
    }
   ],
   "source": [
    "class Parent1:\n",
    "    def feature1(self):\n",
    "        return \"Feature from Parent1\"\n",
    "\n",
    "class Parent2:\n",
    "    def feature2(self):\n",
    "        return \"Feature from Parent2\"\n",
    "\n",
    "class Child(Parent1, Parent2):\n",
    "    def feature3(self):\n",
    "        return \"Feature from Child\"\n",
    "\n",
    "c = Child()\n",
    "print(c.feature1())\n",
    "print(c.feature2())\n",
    "print(c.feature3())\n"
   ]
  },
  {
   "cell_type": "code",
   "execution_count": 4,
   "id": "335aec3e-0cba-46b2-b97a-ddb7799d757d",
   "metadata": {},
   "outputs": [],
   "source": [
    "#Multilevel Inheritance"
   ]
  },
  {
   "cell_type": "code",
   "execution_count": 5,
   "id": "437fdc43-b271-4743-8a7c-432793d08ab0",
   "metadata": {},
   "outputs": [
    {
     "name": "stdout",
     "output_type": "stream",
     "text": [
      "Feature from Grandparent\n",
      "Feature from Parent\n",
      "Feature from Child\n"
     ]
    }
   ],
   "source": [
    "class Grandparent:\n",
    "    def featureA(self):\n",
    "        return \"Feature from Grandparent\"\n",
    "\n",
    "class Parent(Grandparent):\n",
    "    def featureB(self):\n",
    "        return \"Feature from Parent\"\n",
    "\n",
    "class Child(Parent):\n",
    "    def featureC(self):\n",
    "        return \"Feature from Child\"\n",
    "\n",
    "obj = Child()\n",
    "print(obj.featureA())\n",
    "print(obj.featureB())\n",
    "print(obj.featureC())\n"
   ]
  },
  {
   "cell_type": "code",
   "execution_count": 6,
   "id": "31991cf4-c000-42b5-b027-9b1ab2865208",
   "metadata": {},
   "outputs": [],
   "source": [
    "#Hierarchical Inheritance"
   ]
  },
  {
   "cell_type": "code",
   "execution_count": 7,
   "id": "a5658386-1458-4495-8cdb-a2d4ff021fb6",
   "metadata": {},
   "outputs": [
    {
     "name": "stdout",
     "output_type": "stream",
     "text": [
      "Hello from Parent\n",
      "Hello from Child1\n",
      "Hello from Parent\n",
      "Hello from Child2\n"
     ]
    }
   ],
   "source": [
    "class Parent:\n",
    "    def say_hello(self):\n",
    "        return \"Hello from Parent\"\n",
    "\n",
    "class Child1(Parent):\n",
    "    def child1_method(self):\n",
    "        return \"Hello from Child1\"\n",
    "\n",
    "class Child2(Parent):\n",
    "    def child2_method(self):\n",
    "        return \"Hello from Child2\"\n",
    "\n",
    "c1 = Child1()\n",
    "c2 = Child2()\n",
    "print(c1.say_hello())\n",
    "print(c1.child1_method())\n",
    "print(c2.say_hello())\n",
    "print(c2.child2_method())\n"
   ]
  },
  {
   "cell_type": "code",
   "execution_count": 8,
   "id": "37093f42-b655-4ab8-a086-d1f26199bee9",
   "metadata": {},
   "outputs": [],
   "source": [
    "#Hybrid Inheritance"
   ]
  },
  {
   "cell_type": "code",
   "execution_count": 9,
   "id": "ddad6d63-3f45-4e93-a528-926a5d639b23",
   "metadata": {},
   "outputs": [
    {
     "name": "stdout",
     "output_type": "stream",
     "text": [
      "Base method\n",
      "A's method\n",
      "B's method\n",
      "C's method\n"
     ]
    }
   ],
   "source": [
    "class Base:\n",
    "    def base_method(self):\n",
    "        return \"Base method\"\n",
    "\n",
    "class A(Base):\n",
    "    def a_method(self):\n",
    "        return \"A's method\"\n",
    "\n",
    "class B(Base):\n",
    "    def b_method(self):\n",
    "        return \"B's method\"\n",
    "\n",
    "class C(A, B):\n",
    "    def c_method(self):\n",
    "        return \"C's method\"\n",
    "\n",
    "c = C()\n",
    "print(c.base_method())\n",
    "print(c.a_method())\n",
    "print(c.b_method())\n",
    "print(c.c_method())\n"
   ]
  },
  {
   "cell_type": "code",
   "execution_count": null,
   "id": "789f1e11-a25b-437b-8706-612bd7dc981f",
   "metadata": {},
   "outputs": [],
   "source": []
  }
 ],
 "metadata": {
  "kernelspec": {
   "display_name": "Python 3 (ipykernel)",
   "language": "python",
   "name": "python3"
  },
  "language_info": {
   "codemirror_mode": {
    "name": "ipython",
    "version": 3
   },
   "file_extension": ".py",
   "mimetype": "text/x-python",
   "name": "python",
   "nbconvert_exporter": "python",
   "pygments_lexer": "ipython3",
   "version": "3.12.2"
  }
 },
 "nbformat": 4,
 "nbformat_minor": 5
}

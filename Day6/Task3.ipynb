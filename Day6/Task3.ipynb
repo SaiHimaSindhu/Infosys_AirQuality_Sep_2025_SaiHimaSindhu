{
 "cells": [
  {
   "cell_type": "code",
   "execution_count": 1,
   "id": "48ab1609-8ea1-46cf-89e4-f932af30ea5b",
   "metadata": {},
   "outputs": [],
   "source": [
    "#Task3 : write code for overriding and overloading"
   ]
  },
  {
   "cell_type": "code",
   "execution_count": 2,
   "id": "789849bb-dbd6-4888-814b-de1cbb3915f5",
   "metadata": {},
   "outputs": [],
   "source": [
    "#Method Overriding"
   ]
  },
  {
   "cell_type": "code",
   "execution_count": 6,
   "id": "7c1e079b-f2d4-40e4-9cbb-be0436ada4cb",
   "metadata": {},
   "outputs": [
    {
     "name": "stdout",
     "output_type": "stream",
     "text": [
      "Parent's show method\n",
      "Child's show method\n"
     ]
    }
   ],
   "source": [
    "class Parent:\n",
    "    def show(self):\n",
    "        return \"Parent's show method\"\n",
    "\n",
    "class Child(Parent):\n",
    "    def show(self):\n",
    "        return \"Child's show method\"\n",
    "\n",
    "p = Parent()\n",
    "c = Child()\n",
    "print(p.show())  \n",
    "print(c.show()) \n"
   ]
  },
  {
   "cell_type": "code",
   "execution_count": 4,
   "id": "ca88d388-dcf1-4962-abf2-fbff96dcaa27",
   "metadata": {},
   "outputs": [],
   "source": [
    "#Method Overloading"
   ]
  },
  {
   "cell_type": "code",
   "execution_count": 5,
   "id": "24083cf3-08b2-4c6f-9ee3-fea374836745",
   "metadata": {},
   "outputs": [
    {
     "name": "stdout",
     "output_type": "stream",
     "text": [
      "5\n",
      "9\n",
      "5\n",
      "14\n"
     ]
    }
   ],
   "source": [
    "class Calculator:\n",
    "   \n",
    "    def add(self, a, b, c=0):\n",
    "        return a + b + c\n",
    "\n",
    "calc = Calculator()\n",
    "print(calc.add(2, 3))      \n",
    "print(calc.add(2, 3, 4))  \n",
    "\n",
    "\n",
    "class CalculatorVarArgs:\n",
    "    def add(self, *args):\n",
    "        return sum(args)\n",
    "\n",
    "calc_va = CalculatorVarArgs()\n",
    "print(calc_va.add(2, 3))          \n",
    "print(calc_va.add(2, 3, 4, 5))   \n"
   ]
  },
  {
   "cell_type": "code",
   "execution_count": null,
   "id": "c8d44aa2-d64f-401d-bd9a-88f78e74340a",
   "metadata": {},
   "outputs": [],
   "source": []
  }
 ],
 "metadata": {
  "kernelspec": {
   "display_name": "Python 3 (ipykernel)",
   "language": "python",
   "name": "python3"
  },
  "language_info": {
   "codemirror_mode": {
    "name": "ipython",
    "version": 3
   },
   "file_extension": ".py",
   "mimetype": "text/x-python",
   "name": "python",
   "nbconvert_exporter": "python",
   "pygments_lexer": "ipython3",
   "version": "3.12.2"
  }
 },
 "nbformat": 4,
 "nbformat_minor": 5
}
